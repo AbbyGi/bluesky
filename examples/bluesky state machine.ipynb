{
 "cells": [
  {
   "cell_type": "code",
   "execution_count": 100,
   "metadata": {
    "collapsed": true
   },
   "outputs": [],
   "source": [
    "from bluesky import RunEngineStateMachine"
   ]
  },
  {
   "cell_type": "code",
   "execution_count": 101,
   "metadata": {
    "collapsed": false
   },
   "outputs": [
    {
     "name": "stdout",
     "output_type": "stream",
     "text": [
      "idle\n"
     ]
    }
   ],
   "source": [
    "sm = RunEngineStateMachine()\n",
    "print(sm.state)"
   ]
  },
  {
   "cell_type": "code",
   "execution_count": 102,
   "metadata": {
    "collapsed": false
   },
   "outputs": [
    {
     "name": "stdout",
     "output_type": "stream",
     "text": [
      "state.name: state.value\n",
      "-----------------------\n",
      "IDLE: idle\n",
      "RUNNING: running\n",
      "ABORTING: aborting\n",
      "SOFT_PAUSING: soft_pausing\n",
      "HARD_PAUSING: hard_pausing\n",
      "PAUSED: paused\n",
      "PANICKED: panicked\n"
     ]
    }
   ],
   "source": [
    "print('state.name: state.value')\n",
    "print('-----------------------')\n",
    "for state in sm.States:\n",
    "    print('%s: %s' % (state.name, state.value))"
   ]
  },
  {
   "cell_type": "markdown",
   "metadata": {},
   "source": [
    "##Changing states"
   ]
  },
  {
   "cell_type": "code",
   "execution_count": 103,
   "metadata": {
    "collapsed": false
   },
   "outputs": [
    {
     "data": {
      "text/plain": [
       "'idle'"
      ]
     },
     "execution_count": 103,
     "metadata": {},
     "output_type": "execute_result"
    }
   ],
   "source": [
    "# get the name of the state of the state machine\n",
    "sm.state"
   ]
  },
  {
   "cell_type": "code",
   "execution_count": 104,
   "metadata": {
    "collapsed": false
   },
   "outputs": [
    {
     "data": {
      "text/plain": [
       "<States.IDLE: 'idle'>"
      ]
     },
     "execution_count": 104,
     "metadata": {},
     "output_type": "execute_result"
    }
   ],
   "source": [
    "# or get the enum value of the state machine\n",
    "sm.actual_state"
   ]
  },
  {
   "cell_type": "markdown",
   "metadata": {},
   "source": [
    "#####Basic commands\n",
    "\n",
    "- Set the state by using `set_VALUE()`\n",
    "- Query if the state machine is in a specific state with `is_VALUE`\n",
    "- Query if a transition is possible with `can_be_VALUE` \n",
    "   \n",
    "   - Note that these transitions are defined in the `named_transitions` list of the class Meta bit of the implementation of the `RunEngineStateMachine` in `bluesky/run_engine.py`)\n",
    "\n",
    "where VALUE is the enum value of all states of the state machine\n",
    "\n",
    "- idle\n",
    "- running\n",
    "- aborted\n",
    "- soft_pausing\n",
    "- hard_pausing\n",
    "- paused\n",
    "- panicked"
   ]
  },
  {
   "cell_type": "code",
   "execution_count": 105,
   "metadata": {
    "collapsed": false
   },
   "outputs": [
    {
     "name": "stdout",
     "output_type": "stream",
     "text": [
      "current state is [[running]]\n"
     ]
    }
   ],
   "source": [
    "sm.set_running()\n",
    "print('current state is [[%s]]' % sm.state)"
   ]
  },
  {
   "cell_type": "code",
   "execution_count": 106,
   "metadata": {
    "collapsed": false
   },
   "outputs": [
    {
     "data": {
      "text/plain": [
       "True"
      ]
     },
     "execution_count": 106,
     "metadata": {},
     "output_type": "execute_result"
    }
   ],
   "source": [
    "sm.is_running"
   ]
  },
  {
   "cell_type": "code",
   "execution_count": 107,
   "metadata": {
    "collapsed": false
   },
   "outputs": [
    {
     "data": {
      "text/plain": [
       "False"
      ]
     },
     "execution_count": 107,
     "metadata": {},
     "output_type": "execute_result"
    }
   ],
   "source": [
    "sm.can_be_running"
   ]
  },
  {
   "cell_type": "markdown",
   "metadata": {},
   "source": [
    "###Other ways to transition the state machine"
   ]
  },
  {
   "cell_type": "markdown",
   "metadata": {},
   "source": [
    "#####use a named transition"
   ]
  },
  {
   "cell_type": "code",
   "execution_count": 108,
   "metadata": {
    "collapsed": false
   },
   "outputs": [
    {
     "name": "stdout",
     "output_type": "stream",
     "text": [
      "current state is [[idle]]\n"
     ]
    }
   ],
   "source": [
    "sm.stop()\n",
    "print('current state is [[%s]]' % sm.state)"
   ]
  },
  {
   "cell_type": "markdown",
   "metadata": {},
   "source": [
    "#####assign a new state directly to the state of the state machine"
   ]
  },
  {
   "cell_type": "code",
   "execution_count": 109,
   "metadata": {
    "collapsed": false
   },
   "outputs": [
    {
     "name": "stdout",
     "output_type": "stream",
     "text": [
      "current state is [[panicked]]\n"
     ]
    }
   ],
   "source": [
    "sm.state = 'panicked'\n",
    "print('current state is [[%s]]' % sm.state)"
   ]
  },
  {
   "cell_type": "markdown",
   "metadata": {},
   "source": [
    "#####assign a new state directly to the state of the state machine by providing the minimum amount of information to uniquely identify a state"
   ]
  },
  {
   "cell_type": "code",
   "execution_count": 110,
   "metadata": {
    "collapsed": false
   },
   "outputs": [
    {
     "name": "stdout",
     "output_type": "stream",
     "text": [
      "current state is [[idle]]\n"
     ]
    }
   ],
   "source": [
    "sm.state = 'i'\n",
    "print('current state is [[%s]]' % sm.state)"
   ]
  },
  {
   "cell_type": "code",
   "execution_count": 111,
   "metadata": {
    "collapsed": false
   },
   "outputs": [
    {
     "name": "stdout",
     "output_type": "stream",
     "text": [
      "current state is [[running]]\n"
     ]
    }
   ],
   "source": [
    "sm.state = 'r'\n",
    "print('current state is [[%s]]' % sm.state)"
   ]
  },
  {
   "cell_type": "code",
   "execution_count": 112,
   "metadata": {
    "collapsed": false
   },
   "outputs": [
    {
     "name": "stdout",
     "output_type": "stream",
     "text": [
      "current state is [[soft_pausing]]\n"
     ]
    }
   ],
   "source": [
    "sm.state = 's'\n",
    "print('current state is [[%s]]' % sm.state)"
   ]
  },
  {
   "cell_type": "markdown",
   "metadata": {},
   "source": [
    "#####Here is error you get when the selection is ambiguous"
   ]
  },
  {
   "cell_type": "code",
   "execution_count": 113,
   "metadata": {
    "collapsed": false
   },
   "outputs": [
    {
     "ename": "AmbiguityError",
     "evalue": "Can't decide which value is proper for value 'p', available choices are: 'States.PAUSED - paused', 'States.PANICKED - panicked'.",
     "output_type": "error",
     "traceback": [
      "\u001b[1;31m---------------------------------------------------------------------------\u001b[0m",
      "\u001b[1;31mAmbiguityError\u001b[0m                            Traceback (most recent call last)",
      "\u001b[1;32m<ipython-input-113-d967d2ba221c>\u001b[0m in \u001b[0;36m<module>\u001b[1;34m()\u001b[0m\n\u001b[1;32m----> 1\u001b[1;33m \u001b[0msm\u001b[0m\u001b[1;33m.\u001b[0m\u001b[0mstate\u001b[0m \u001b[1;33m=\u001b[0m \u001b[1;34m'p'\u001b[0m\u001b[1;33m\u001b[0m\u001b[0m\n\u001b[0m\u001b[0;32m      2\u001b[0m \u001b[0mprint\u001b[0m\u001b[1;33m(\u001b[0m\u001b[1;34m'current state is [[%s]]'\u001b[0m \u001b[1;33m%\u001b[0m \u001b[0msm\u001b[0m\u001b[1;33m.\u001b[0m\u001b[0mstate\u001b[0m\u001b[1;33m)\u001b[0m\u001b[1;33m\u001b[0m\u001b[0m\n",
      "\u001b[1;32m/home/edill/miniconda/envs/nikea3/lib/python3.4/site-packages/super_state_machine/utils.py\u001b[0m in \u001b[0;36mstate_setter\u001b[1;34m(self, value)\u001b[0m\n\u001b[0;32m     53\u001b[0m \u001b[1;32mdef\u001b[0m \u001b[0mstate_setter\u001b[0m\u001b[1;33m(\u001b[0m\u001b[0mself\u001b[0m\u001b[1;33m,\u001b[0m \u001b[0mvalue\u001b[0m\u001b[1;33m)\u001b[0m\u001b[1;33m:\u001b[0m\u001b[1;33m\u001b[0m\u001b[0m\n\u001b[0;32m     54\u001b[0m     \u001b[1;34m\"\"\"Set new state for machine.\"\"\"\u001b[0m\u001b[1;33m\u001b[0m\u001b[0m\n\u001b[1;32m---> 55\u001b[1;33m     \u001b[0mself\u001b[0m\u001b[1;33m.\u001b[0m\u001b[0mset_\u001b[0m\u001b[1;33m(\u001b[0m\u001b[0mvalue\u001b[0m\u001b[1;33m)\u001b[0m\u001b[1;33m\u001b[0m\u001b[0m\n\u001b[0m\u001b[0;32m     56\u001b[0m \u001b[1;33m\u001b[0m\u001b[0m\n\u001b[0;32m     57\u001b[0m \u001b[1;33m\u001b[0m\u001b[0m\n",
      "\u001b[1;32m/home/edill/miniconda/envs/nikea3/lib/python3.4/site-packages/super_state_machine/utils.py\u001b[0m in \u001b[0;36mset_\u001b[1;34m(self, state)\u001b[0m\n\u001b[0;32m     32\u001b[0m     \u001b[1;34m\"\"\"Set new state for machine.\"\"\"\u001b[0m\u001b[1;33m\u001b[0m\u001b[0m\n\u001b[0;32m     33\u001b[0m     \u001b[0mtranslator\u001b[0m \u001b[1;33m=\u001b[0m \u001b[0mself\u001b[0m\u001b[1;33m.\u001b[0m\u001b[0m_meta\u001b[0m\u001b[1;33m[\u001b[0m\u001b[1;34m'translator'\u001b[0m\u001b[1;33m]\u001b[0m\u001b[1;33m\u001b[0m\u001b[0m\n\u001b[1;32m---> 34\u001b[1;33m     \u001b[0mstate\u001b[0m \u001b[1;33m=\u001b[0m \u001b[0mtranslator\u001b[0m\u001b[1;33m.\u001b[0m\u001b[0mtranslate\u001b[0m\u001b[1;33m(\u001b[0m\u001b[0mstate\u001b[0m\u001b[1;33m)\u001b[0m\u001b[1;33m\u001b[0m\u001b[0m\n\u001b[0m\u001b[0;32m     35\u001b[0m \u001b[1;33m\u001b[0m\u001b[0m\n\u001b[0;32m     36\u001b[0m     \u001b[1;32mif\u001b[0m \u001b[1;32mnot\u001b[0m \u001b[0mself\u001b[0m\u001b[1;33m.\u001b[0m\u001b[0mcan_be_\u001b[0m\u001b[1;33m(\u001b[0m\u001b[0mstate\u001b[0m\u001b[1;33m)\u001b[0m\u001b[1;33m:\u001b[0m\u001b[1;33m\u001b[0m\u001b[0m\n",
      "\u001b[1;32m/home/edill/miniconda/envs/nikea3/lib/python3.4/site-packages/super_state_machine/utils.py\u001b[0m in \u001b[0;36mtranslate\u001b[1;34m(self, value)\u001b[0m\n\u001b[0;32m    147\u001b[0m                     \u001b[0mvalue\u001b[0m\u001b[1;33m,\u001b[0m\u001b[1;33m\u001b[0m\u001b[0m\n\u001b[0;32m    148\u001b[0m                     \", \".join(\n\u001b[1;32m--> 149\u001b[1;33m                         \"'{} - {}'\".format(e, e.value) for e in items),\n\u001b[0m\u001b[0;32m    150\u001b[0m                 ))\n\u001b[0;32m    151\u001b[0m \u001b[1;33m\u001b[0m\u001b[0m\n",
      "\u001b[1;31mAmbiguityError\u001b[0m: Can't decide which value is proper for value 'p', available choices are: 'States.PAUSED - paused', 'States.PANICKED - panicked'."
     ]
    }
   ],
   "source": [
    "sm.state = 'p'\n",
    "print('current state is [[%s]]' % sm.state)"
   ]
  },
  {
   "cell_type": "code",
   "execution_count": null,
   "metadata": {
    "collapsed": true
   },
   "outputs": [],
   "source": []
  }
 ],
 "metadata": {
  "kernelspec": {
   "display_name": "Python 3",
   "language": "python",
   "name": "python3"
  },
  "language_info": {
   "codemirror_mode": {
    "name": "ipython",
    "version": 3
   },
   "file_extension": ".py",
   "mimetype": "text/x-python",
   "name": "python",
   "nbconvert_exporter": "python",
   "pygments_lexer": "ipython3",
   "version": "3.4.3"
  }
 },
 "nbformat": 4,
 "nbformat_minor": 0
}
