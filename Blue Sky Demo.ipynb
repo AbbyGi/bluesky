{
 "cells": [
  {
   "cell_type": "markdown",
   "metadata": {},
   "source": [
    "# Blue Sky Run Engine\n",
    "\n",
    "Contents:\n",
    "\n",
    "* The Run Engine processes messages\n",
    "* There is two-way communication between the message generator and the Run Engine\n",
    "* Control timing with 'sleep' and 'wait'\n",
    "* Runs can be aborted\n",
    "* Data can be consumed live by user-defined functions"
   ]
  },
  {
   "cell_type": "code",
   "execution_count": 1,
   "metadata": {
    "collapsed": false
   },
   "outputs": [
    {
     "name": "stderr",
     "output_type": "stream",
     "text": [
      ":0: FutureWarning: IPython widgets are experimental and may change in the future.\n"
     ]
    }
   ],
   "source": [
    "%run bs.py\n",
    "\n",
    "motor = Mover('motor', ['pos'])\n",
    "det = SynGauss('sg', motor, 'pos', center=0, Imax=1, sigma=1)"
   ]
  },
  {
   "cell_type": "markdown",
   "metadata": {},
   "source": [
    "## The Run Engine processes messages\n",
    "\n",
    "A message has four parts: a command string, an object, a tuple of positional arguments, and a dictionary of keyword arguments."
   ]
  },
  {
   "cell_type": "code",
   "execution_count": 2,
   "metadata": {
    "collapsed": false
   },
   "outputs": [
    {
     "data": {
      "text/plain": [
       "set: (mover: motor), ({'pos': 5},), {}"
      ]
     },
     "execution_count": 2,
     "metadata": {},
     "output_type": "execute_result"
    }
   ],
   "source": [
    "Msg('set', motor, {'pos': 5})"
   ]
  },
  {
   "cell_type": "code",
   "execution_count": 3,
   "metadata": {
    "collapsed": false
   },
   "outputs": [
    {
     "data": {
      "text/plain": [
       "trigger: (mover: motor), (), {}"
      ]
     },
     "execution_count": 3,
     "metadata": {},
     "output_type": "execute_result"
    }
   ],
   "source": [
    "Msg('trigger', motor)"
   ]
  },
  {
   "cell_type": "code",
   "execution_count": 4,
   "metadata": {
    "collapsed": false
   },
   "outputs": [
    {
     "data": {
      "text/plain": [
       "read: (mover: motor), (), {}"
      ]
     },
     "execution_count": 4,
     "metadata": {},
     "output_type": "execute_result"
    }
   ],
   "source": [
    "Msg('read', motor)"
   ]
  },
  {
   "cell_type": "code",
   "execution_count": 5,
   "metadata": {
    "collapsed": false
   },
   "outputs": [],
   "source": [
    "RE = RunEngine()"
   ]
  },
  {
   "cell_type": "code",
   "execution_count": 6,
   "metadata": {
    "collapsed": false,
    "scrolled": false
   },
   "outputs": [
    {
     "name": "stdout",
     "output_type": "stream",
     "text": [
      "*** Emitted RunStart:\n",
      "{'beamline_id': 'test', 'uid': '00bcf8c1-93eb-4111-9811-a61327497ac2', 'time': 1433009978.731448, 'scan_id': 123, 'owner': 'tester'}\n",
      "set: (mover: motor), ({'pos': 5},), {}\n",
      "   ret: None\n",
      "trigger: (mover: motor), (), {}\n",
      "   ret: None\n",
      "read: (mover: motor), (), {}\n",
      "   ret: {'pos': {'timestamp': 1433009979.044881, 'value': 5}}\n",
      "*** Emitted RunStop:\n",
      "{'reason': '', 'time': 1433009979.250439, 'run_start': '00bcf8c1-93eb-4111-9811-a61327497ac2', 'exit_status': 'success'}\n"
     ]
    }
   ],
   "source": [
    "def simple_scan(motor):\n",
    "    \"Set, trigger, read\"\n",
    "    yield Msg('set', motor, {'pos': 5})\n",
    "    yield Msg('trigger', motor)\n",
    "    yield Msg('read', motor)\n",
    "    \n",
    "RE.run(simple_scan(motor))"
   ]
  },
  {
   "cell_type": "markdown",
   "metadata": {},
   "source": [
    "Moving a motor and reading it back is boring. Let's add a detector."
   ]
  },
  {
   "cell_type": "code",
   "execution_count": 7,
   "metadata": {
    "collapsed": false
   },
   "outputs": [
    {
     "name": "stdout",
     "output_type": "stream",
     "text": [
      "*** Emitted RunStart:\n",
      "{'beamline_id': 'test', 'uid': '5448cc9d-481e-49eb-a19c-6b6244e11953', 'time': 1433009980.38547, 'scan_id': 123, 'owner': 'tester'}\n",
      "set: (mover: motor), ({'pos': 5},), {}\n",
      "   ret: None\n",
      "trigger: (mover: motor), (), {}\n",
      "   ret: None\n",
      "trigger: (reader: sg), (), {}\n",
      "   ret: None\n",
      "read: (reader: sg), (), {}\n",
      "   ret: {'intensity': {'timetamp': 1433009980.800412, 'value': 3.7266531720786709e-06}}\n",
      "*** Emitted RunStop:\n",
      "{'reason': '', 'time': 1433009981.004707, 'run_start': '5448cc9d-481e-49eb-a19c-6b6244e11953', 'exit_status': 'success'}\n"
     ]
    }
   ],
   "source": [
    "def simple_scan2(motor, det):\n",
    "    \"Set, trigger motor, trigger detector, read\"\n",
    "    yield Msg('set', motor, {'pos': 5})\n",
    "    yield Msg('trigger', motor)\n",
    "    yield Msg('trigger', det)\n",
    "    yield Msg('read', det)\n",
    "    \n",
    "RE.run(simple_scan2(motor, det))"
   ]
  },
  {
   "cell_type": "markdown",
   "metadata": {},
   "source": [
    "## There is two-way communication between the message generator and the Run Engine"
   ]
  },
  {
   "cell_type": "markdown",
   "metadata": {},
   "source": [
    "Above we the three messages with the responses they generated from the RunEngine. We can use these responses to make our scan adaptive."
   ]
  },
  {
   "cell_type": "code",
   "execution_count": 8,
   "metadata": {
    "collapsed": false
   },
   "outputs": [
    {
     "name": "stdout",
     "output_type": "stream",
     "text": [
      "*** Emitted RunStart:\n",
      "{'beamline_id': 'test', 'uid': '094fe05c-3f68-4dab-99a6-ecc48c105ac2', 'time': 1433009982.447273, 'scan_id': 123, 'owner': 'tester'}\n",
      "LOOP 0\n",
      "set: (mover: motor), ({'pos': 0},), {}\n",
      "   ret: None\n",
      "trigger: (mover: motor), (), {}\n",
      "   ret: None\n",
      "trigger: (reader: sg), (), {}\n",
      "   ret: None\n",
      "read: (reader: sg), (), {}\n",
      "   ret: {'intensity': {'timetamp': 1433009982.855087, 'value': 1.0}}\n",
      "LOOP 1\n",
      "set: (mover: motor), ({'pos': 1},), {}\n",
      "   ret: None\n",
      "trigger: (mover: motor), (), {}\n",
      "   ret: None\n",
      "trigger: (reader: sg), (), {}\n",
      "   ret: None\n",
      "read: (reader: sg), (), {}\n",
      "   ret: {'intensity': {'timetamp': 1433009983.367687, 'value': 0.60653065971263342}}\n",
      "LOOP 2\n",
      "set: (mover: motor), ({'pos': 2},), {}\n",
      "   ret: None\n",
      "trigger: (mover: motor), (), {}\n",
      "   ret: None\n",
      "trigger: (reader: sg), (), {}\n",
      "   ret: None\n",
      "read: (reader: sg), (), {}\n",
      "   ret: {'intensity': {'timetamp': 1433009983.879607, 'value': 0.1353352832366127}}\n",
      "DONE\n",
      "*** Emitted RunStop:\n",
      "{'reason': '', 'time': 1433009984.085332, 'run_start': '094fe05c-3f68-4dab-99a6-ecc48c105ac2', 'exit_status': 'success'}\n"
     ]
    }
   ],
   "source": [
    "def adaptive_scan(motor, det, threshold):\n",
    "    \"\"\"Set, trigger, read until the detector reads intensity < threshold\"\"\"\n",
    "    i = 0\n",
    "    while True:\n",
    "        print(\"LOOP %d\" % i)\n",
    "        yield Msg('set', motor, {'pos': i})\n",
    "        yield Msg('trigger', motor)\n",
    "        yield Msg('trigger', det)\n",
    "        reading = yield Msg('read', det)\n",
    "        if reading['intensity']['value'] < threshold:\n",
    "            print('DONE')\n",
    "            break\n",
    "        i += 1\n",
    "\n",
    "RE.run(adaptive_scan(motor, det, 0.2))"
   ]
  },
  {
   "cell_type": "markdown",
   "metadata": {},
   "source": [
    "## Control timing with 'sleep' and 'wait'"
   ]
  },
  {
   "cell_type": "markdown",
   "metadata": {},
   "source": [
    "The 'sleep' command is as simple as it sounds."
   ]
  },
  {
   "cell_type": "code",
   "execution_count": 9,
   "metadata": {
    "collapsed": false
   },
   "outputs": [
    {
     "name": "stdout",
     "output_type": "stream",
     "text": [
      "*** Emitted RunStart:\n",
      "{'beamline_id': 'test', 'uid': '70fa15cc-8379-40d4-9f62-901b32be382c', 'time': 1433009985.563407, 'scan_id': 123, 'owner': 'tester'}\n",
      "set: (mover: motor), ({'pos': 5},), {}\n",
      "   ret: None\n",
      "trigger: (mover: motor), (), {}\n",
      "   ret: None\n",
      "sleep: (None), (2,), {}\n",
      "   ret: None\n",
      "trigger: (reader: sg), (), {}\n",
      "   ret: None\n",
      "read: (reader: sg), (), {}\n",
      "   ret: {'intensity': {'timetamp': 1433009988.08861, 'value': 3.7266531720786709e-06}}\n",
      "*** Emitted RunStop:\n",
      "{'reason': '', 'time': 1433009988.295305, 'run_start': '70fa15cc-8379-40d4-9f62-901b32be382c', 'exit_status': 'success'}\n"
     ]
    }
   ],
   "source": [
    "def sleepy_scan(motor, det):\n",
    "    \"Set, trigger motor, sleep for a fixed time, trigger detector, read\"\n",
    "    yield Msg('set', motor, {'pos': 5})\n",
    "    yield Msg('trigger', motor)\n",
    "    yield Msg('sleep', None, 2)  # units: seconds\n",
    "    yield Msg('trigger', det)\n",
    "    yield Msg('read', det)\n",
    "    \n",
    "RE.run(sleepy_scan(motor, det))"
   ]
  },
  {
   "cell_type": "markdown",
   "metadata": {},
   "source": [
    "The 'wait' command is more powerful. It watches for Movers (e.g., `motor`) to report being done.\n",
    "\n",
    "### Wait for one motor to be done moving"
   ]
  },
  {
   "cell_type": "code",
   "execution_count": 53,
   "metadata": {
    "collapsed": false
   },
   "outputs": [
    {
     "name": "stdout",
     "output_type": "stream",
     "text": [
      "*** Emitted RunStart:\n",
      "{'beamline_id': 'test', 'uid': '21386be5-e20e-4217-9ece-0db5a3a82949', 'scan_id': 123, 'time': 1433008818.189182, 'owner': 'tester'}\n",
      "set: (mover: motor), ({'pos': 5},), {}\n",
      "   ret: None\n",
      "trigger: (mover: motor), (), {'block_group': 'A'}\n",
      "   ret: None\n",
      "wait: (None), ('A',), {}\n",
      "   ret: {mover: motor}\n",
      "trigger: (reader: sg), (), {}\n",
      "   ret: None\n",
      "read: (reader: sg), (), {}\n",
      "   ret: {'intensity': {'value': 3.7266531720786709e-06, 'timetamp': 1433008818.703617}}\n",
      "*** Emitted RunStop:\n",
      "{'exit_status': 'success', 'run_start': '21386be5-e20e-4217-9ece-0db5a3a82949', 'reason': '', 'time': 1433008818.909774}\n"
     ]
    }
   ],
   "source": [
    "def wait_one(motor, det):\n",
    "    \"Set, trigger, read\"\n",
    "    yield Msg('set', motor, {'pos': 5})\n",
    "    yield Msg('trigger', motor, block_group='A')  # Add motor to group 'A'.\n",
    "    yield Msg('wait', None, 'A')  # Wait for everything in group 'A' to report done.\n",
    "    yield Msg('trigger', det)\n",
    "    yield Msg('read', det)\n",
    "    \n",
    "RE.run(wait_one(motor, det))"
   ]
  },
  {
   "cell_type": "markdown",
   "metadata": {},
   "source": [
    "Notice, in the log, that the response to `wait` is the set of Movers the scan was waiting on."
   ]
  },
  {
   "cell_type": "markdown",
   "metadata": {},
   "source": [
    "### Wait for two motors to both be done moving"
   ]
  },
  {
   "cell_type": "code",
   "execution_count": 54,
   "metadata": {
    "collapsed": false
   },
   "outputs": [
    {
     "name": "stdout",
     "output_type": "stream",
     "text": [
      "*** Emitted RunStart:\n",
      "{'beamline_id': 'test', 'uid': '9a8dbfa3-511d-4e63-8391-b576ca7005c5', 'scan_id': 123, 'time': 1433008819.679768, 'owner': 'tester'}\n",
      "set: (mover: motor1), ({'pos': 5},), {}\n",
      "   ret: None\n",
      "trigger: (mover: motor1), (), {'block_group': 'A'}\n",
      "   ret: None\n",
      "set: (mover: motor2), ({'pos': 5},), {}\n",
      "   ret: None\n",
      "trigger: (mover: motor2), (), {'block_group': 'A'}\n",
      "   ret: None\n",
      "wait: (None), ('A',), {}\n",
      "   ret: {mover: motor2, mover: motor1}\n",
      "trigger: (reader: sg), (), {}\n",
      "   ret: None\n",
      "read: (reader: sg), (), {}\n",
      "   ret: {'intensity': {'value': 3.7266531720786709e-06, 'timetamp': 1433008820.499757}}\n",
      "*** Emitted RunStop:\n",
      "{'exit_status': 'success', 'run_start': '9a8dbfa3-511d-4e63-8391-b576ca7005c5', 'reason': '', 'time': 1433008820.708166}\n"
     ]
    }
   ],
   "source": [
    "def wait_multiple(motors, det):\n",
    "    \"Set motors, trigger all motors, wait for all motors to move.\"\n",
    "    for motor in motors:\n",
    "        yield Msg('set', motor, {'pos': 5})\n",
    "        yield Msg('trigger', motor, block_group='A')  # Trigger each motor and add it to group 'A'.\n",
    "    yield Msg('wait', None, 'A')  # Wait for everything in group 'A' to report done.\n",
    "    yield Msg('trigger', det)\n",
    "    yield Msg('read', det)\n",
    "\n",
    "motor1 = Mover('motor1', ['pos'])\n",
    "motor2 = Mover('motor2', ['pos'])\n",
    "\n",
    "RE.run(wait_multiple([motor1, motor2], det))"
   ]
  },
  {
   "cell_type": "markdown",
   "metadata": {},
   "source": [
    "### Advanced Example: Wait for different groups of motors at different points in the run\n",
    "\n",
    "If the `'A'` bit seems pointless, the payoff is here. We trigger all the motors at once, wait for the first two, read, wait for the last one, and read again. This is merely meant to show that complex control flow is possible."
   ]
  },
  {
   "cell_type": "code",
   "execution_count": 55,
   "metadata": {
    "collapsed": false
   },
   "outputs": [
    {
     "name": "stdout",
     "output_type": "stream",
     "text": [
      "*** Emitted RunStart:\n",
      "{'beamline_id': 'test', 'uid': '2bfc0b56-c988-4962-8135-bb28a3e08d44', 'scan_id': 123, 'time': 1433008822.63035, 'owner': 'tester'}\n",
      "set: (mover: motor1), ({'pos': 5},), {}\n",
      "   ret: None\n",
      "trigger: (mover: motor1), (), {'block_group': 'A'}\n",
      "   ret: None\n",
      "set: (mover: motor2), ({'pos': 5},), {}\n",
      "   ret: None\n",
      "trigger: (mover: motor2), (), {'block_group': 'A'}\n",
      "   ret: None\n",
      "set: (mover: motor3), ({'pos': 5},), {}\n",
      "   ret: None\n",
      "trigger: (mover: motor3), (), {'block_group': 'B'}\n",
      "   ret: None\n",
      "wait: (None), ('A',), {}\n",
      "   ret: {mover: motor2, mover: motor1}\n",
      "trigger: (reader: sg), (), {}\n",
      "   ret: None\n",
      "read: (reader: sg), (), {}\n",
      "   ret: {'intensity': {'value': 3.7266531720786709e-06, 'timetamp': 1433008823.767201}}\n",
      "wait: (None), ('B',), {}\n",
      "   ret: {mover: motor3}\n",
      "trigger: (reader: sg), (), {}\n",
      "   ret: None\n",
      "read: (reader: sg), (), {}\n",
      "   ret: {'intensity': {'value': 3.7266531720786709e-06, 'timetamp': 1433008824.076329}}\n",
      "*** Emitted RunStop:\n",
      "{'exit_status': 'success', 'run_start': '2bfc0b56-c988-4962-8135-bb28a3e08d44', 'reason': '', 'time': 1433008824.284273}\n"
     ]
    }
   ],
   "source": [
    "def wait_complex(motors, det):\n",
    "    \"Set motors, trigger motors, wait for all motors to move.\"\n",
    "    # Same as above...\n",
    "    for motor in motors[:-1]:\n",
    "        yield Msg('set', motor, {'pos': 5})\n",
    "        yield Msg('trigger', motor, block_group='A')\n",
    "        \n",
    "    # ...but put the last motor is separate group.\n",
    "    yield Msg('set', motors[-1], {'pos': 5})\n",
    "    yield Msg('trigger', motors[-1], block_group='B')\n",
    "    \n",
    "    yield Msg('wait', None, 'A')  # Wait for everything in group 'A' to report done.\n",
    "    yield Msg('trigger', det)\n",
    "    yield Msg('read', det)\n",
    "    \n",
    "    yield Msg('wait', None, 'B')  # Wait for everything in group 'B' to report done.\n",
    "    yield Msg('trigger', det)\n",
    "    yield Msg('read', det)\n",
    "    \n",
    "motor3 = Mover('motor3', ['pos'])\n",
    "\n",
    "RE.run(wait_complex([motor1, motor2, motor3], det))"
   ]
  },
  {
   "cell_type": "markdown",
   "metadata": {},
   "source": [
    "## Runs can be aborted"
   ]
  },
  {
   "cell_type": "markdown",
   "metadata": {},
   "source": [
    "### SIGINT (Ctrl+C) is reliably caught before each message is processed, even across threads.\n",
    "\n",
    "The output below is truncated because it caught Ctrl+C (or, in the notebook, \"Interrupt Kerenel\")."
   ]
  },
  {
   "cell_type": "code",
   "execution_count": 56,
   "metadata": {
    "collapsed": false
   },
   "outputs": [
    {
     "name": "stdout",
     "output_type": "stream",
     "text": [
      "*** Emitted RunStart:\n",
      "{'beamline_id': 'test', 'uid': '2d29721d-107f-40a9-9148-7de312bbdff1', 'scan_id': 123, 'time': 1433008830.129583, 'owner': 'tester'}\n",
      "*** Emitted RunStop:\n",
      "{'exit_status': 'abort', 'run_start': '2d29721d-107f-40a9-9148-7de312bbdff1', 'reason': '', 'time': 1433008830.233044}\n"
     ]
    },
    {
     "name": "stderr",
     "output_type": "stream",
     "text": [
      "Exception in thread Thread-21:\n",
      "Traceback (most recent call last):\n",
      "  File \"/Users/dallan/miniconda/envs/py3/lib/python3.4/threading.py\", line 920, in _bootstrap_inner\n",
      "    self.run()\n",
      "  File \"/Users/dallan/miniconda/envs/py3/lib/python3.4/threading.py\", line 868, in run\n",
      "    self._target(*self._args, **self._kwargs)\n",
      "  File \"/Users/dallan/Documents/Repos/bluesky/bs.py\", line 303, in <lambda>\n",
      "    func = lambda: self.run_engine(g)\n",
      "  File \"/Users/dallan/Documents/Repos/bluesky/bs.py\", line 334, in run_engine\n",
      "    raise RunInterrupt(\"RunEngine detected a SIGINT (Ctrl+C) \"\n",
      "RunInterrupt: RunEngine detected a SIGINT (Ctrl+C) and aborted the scan. Records were created, but the run was marked with exit_status='abort'.\n",
      "\n"
     ]
    }
   ],
   "source": [
    "RE.run(simple_scan(motor))"
   ]
  },
  {
   "cell_type": "markdown",
   "metadata": {},
   "source": [
    "### Threading is optional -- switch it off for easier debugging\n",
    "\n",
    "Again, we'll interrupt the scan. We get exactly the same result, but this time we see a full Traceback."
   ]
  },
  {
   "cell_type": "code",
   "execution_count": 57,
   "metadata": {
    "collapsed": false
   },
   "outputs": [
    {
     "name": "stdout",
     "output_type": "stream",
     "text": [
      "*** Emitted RunStart:\n",
      "{'beamline_id': 'test', 'uid': '7c9068f0-707f-4177-8508-27fa4921ac6f', 'scan_id': 123, 'time': 1433008841.624896, 'owner': 'tester'}\n",
      "set: (mover: motor), ({'pos': 5},), {}\n",
      "   ret: None\n",
      "trigger: (mover: motor), (), {}\n",
      "   ret: None\n",
      "*** Emitted RunStop:\n",
      "{'exit_status': 'abort', 'run_start': '7c9068f0-707f-4177-8508-27fa4921ac6f', 'reason': '', 'time': 1433008841.947767}\n"
     ]
    },
    {
     "ename": "RunInterrupt",
     "evalue": "RunEngine detected a SIGINT (Ctrl+C) and aborted the scan. Records were created, but the run was marked with exit_status='abort'.",
     "output_type": "error",
     "traceback": [
      "\u001b[0;31m---------------------------------------------------------------------------\u001b[0m",
      "\u001b[0;31mRunInterrupt\u001b[0m                              Traceback (most recent call last)",
      "\u001b[0;32m<ipython-input-57-63bdca4b590c>\u001b[0m in \u001b[0;36m<module>\u001b[0;34m()\u001b[0m\n\u001b[0;32m----> 1\u001b[0;31m \u001b[0mRE\u001b[0m\u001b[0;34m.\u001b[0m\u001b[0mrun\u001b[0m\u001b[0;34m(\u001b[0m\u001b[0msimple_scan\u001b[0m\u001b[0;34m(\u001b[0m\u001b[0mmotor\u001b[0m\u001b[0;34m)\u001b[0m\u001b[0;34m,\u001b[0m \u001b[0muse_threading\u001b[0m\u001b[0;34m=\u001b[0m\u001b[0;32mFalse\u001b[0m\u001b[0;34m)\u001b[0m\u001b[0;34m\u001b[0m\u001b[0m\n\u001b[0m",
      "\u001b[0;32m/Users/dallan/Documents/Repos/bluesky/bs.py\u001b[0m in \u001b[0;36mrun\u001b[0;34m(self, g, subscriptions, use_threading)\u001b[0m\n\u001b[1;32m    308\u001b[0m                     \u001b[0mself\u001b[0m\u001b[0;34m.\u001b[0m\u001b[0mdispatcher\u001b[0m\u001b[0;34m.\u001b[0m\u001b[0mprocess_all_queues\u001b[0m\u001b[0;34m(\u001b[0m\u001b[0;34m)\u001b[0m\u001b[0;34m\u001b[0m\u001b[0m\n\u001b[1;32m    309\u001b[0m             \u001b[0;32melse\u001b[0m\u001b[0;34m:\u001b[0m\u001b[0;34m\u001b[0m\u001b[0m\n\u001b[0;32m--> 310\u001b[0;31m                 \u001b[0mfunc\u001b[0m\u001b[0;34m(\u001b[0m\u001b[0;34m)\u001b[0m\u001b[0;34m\u001b[0m\u001b[0m\n\u001b[0m\u001b[1;32m    311\u001b[0m                 \u001b[0mself\u001b[0m\u001b[0;34m.\u001b[0m\u001b[0mdispatcher\u001b[0m\u001b[0;34m.\u001b[0m\u001b[0mprocess_all_queues\u001b[0m\u001b[0;34m(\u001b[0m\u001b[0;34m)\u001b[0m\u001b[0;34m\u001b[0m\u001b[0m\n\u001b[1;32m    312\u001b[0m \u001b[0;34m\u001b[0m\u001b[0m\n",
      "\u001b[0;32m/Users/dallan/Documents/Repos/bluesky/bs.py\u001b[0m in \u001b[0;36m<lambda>\u001b[0;34m()\u001b[0m\n\u001b[1;32m    301\u001b[0m                                   \"of this run were created.\")\n\u001b[1;32m    302\u001b[0m         \u001b[0;32mwith\u001b[0m \u001b[0mSignalHandler\u001b[0m\u001b[0;34m(\u001b[0m\u001b[0msignal\u001b[0m\u001b[0;34m.\u001b[0m\u001b[0mSIGINT\u001b[0m\u001b[0;34m)\u001b[0m \u001b[0;32mas\u001b[0m \u001b[0mself\u001b[0m\u001b[0;34m.\u001b[0m\u001b[0m_sigint_handler\u001b[0m\u001b[0;34m:\u001b[0m\u001b[0;34m\u001b[0m\u001b[0m\n\u001b[0;32m--> 303\u001b[0;31m             \u001b[0mfunc\u001b[0m \u001b[0;34m=\u001b[0m \u001b[0;32mlambda\u001b[0m\u001b[0;34m:\u001b[0m \u001b[0mself\u001b[0m\u001b[0;34m.\u001b[0m\u001b[0mrun_engine\u001b[0m\u001b[0;34m(\u001b[0m\u001b[0mg\u001b[0m\u001b[0;34m)\u001b[0m\u001b[0;34m\u001b[0m\u001b[0m\n\u001b[0m\u001b[1;32m    304\u001b[0m             \u001b[0;32mif\u001b[0m \u001b[0muse_threading\u001b[0m\u001b[0;34m:\u001b[0m\u001b[0;34m\u001b[0m\u001b[0m\n\u001b[1;32m    305\u001b[0m                 \u001b[0mthread\u001b[0m \u001b[0;34m=\u001b[0m \u001b[0mthreading\u001b[0m\u001b[0;34m.\u001b[0m\u001b[0mThread\u001b[0m\u001b[0;34m(\u001b[0m\u001b[0mtarget\u001b[0m\u001b[0;34m=\u001b[0m\u001b[0mfunc\u001b[0m\u001b[0;34m)\u001b[0m\u001b[0;34m\u001b[0m\u001b[0m\n",
      "\u001b[0;32m/Users/dallan/Documents/Repos/bluesky/bs.py\u001b[0m in \u001b[0;36mrun_engine\u001b[0;34m(self, gen)\u001b[0m\n\u001b[1;32m    332\u001b[0m                 \u001b[0;32mif\u001b[0m \u001b[0mself\u001b[0m\u001b[0;34m.\u001b[0m\u001b[0m_sigint_handler\u001b[0m\u001b[0;34m.\u001b[0m\u001b[0minterrupted\u001b[0m\u001b[0;34m:\u001b[0m\u001b[0;34m\u001b[0m\u001b[0m\n\u001b[1;32m    333\u001b[0m                     \u001b[0mexit_status\u001b[0m \u001b[0;34m=\u001b[0m \u001b[0;34m'abort'\u001b[0m\u001b[0;34m\u001b[0m\u001b[0m\n\u001b[0;32m--> 334\u001b[0;31m                     raise RunInterrupt(\"RunEngine detected a SIGINT (Ctrl+C) \"\n\u001b[0m\u001b[1;32m    335\u001b[0m                                        \u001b[0;34m\"and aborted the scan. Records were \"\u001b[0m\u001b[0;34m\u001b[0m\u001b[0m\n\u001b[1;32m    336\u001b[0m                                        \u001b[0;34m\"created, but the run was marked with \"\u001b[0m\u001b[0;34m\u001b[0m\u001b[0m\n",
      "\u001b[0;31mRunInterrupt\u001b[0m: RunEngine detected a SIGINT (Ctrl+C) and aborted the scan. Records were created, but the run was marked with exit_status='abort'."
     ]
    }
   ],
   "source": [
    "RE.run(simple_scan(motor), use_threading=False)"
   ]
  },
  {
   "cell_type": "markdown",
   "metadata": {},
   "source": [
    "## Data can be consumed live by user-defined functions\n",
    "\n",
    "In the examples above, the runs have been emitting RunStart and RunStop Documents, but no Events or Event Descriptors. We will add those now.\n",
    "\n",
    "### Emitting Events and Event Descriptors\n",
    "\n",
    "The `'create'` and `'save'` commands collect all the reads between them into one Event.\n",
    "\n",
    "If that particular set of objects has never been bundled into an Event during this run, then an Event Descriptor is also created.\n",
    "\n",
    "All four Documents -- RunStart, RunStop, Event, and EventDescriptor -- are simply Python dictionaries."
   ]
  },
  {
   "cell_type": "code",
   "execution_count": 10,
   "metadata": {
    "collapsed": false
   },
   "outputs": [
    {
     "name": "stdout",
     "output_type": "stream",
     "text": [
      "*** Emitted RunStart:\n",
      "{'beamline_id': 'test', 'uid': 'e6372db0-4a6a-4822-b283-b9b575a495a5', 'time': 1433009994.480978, 'scan_id': 123, 'owner': 'tester'}\n",
      "create: (None), (), {}\n",
      "   ret: None\n",
      "set: (mover: motor), ({'pos': 5},), {}\n",
      "   ret: None\n",
      "trigger: (mover: motor), (), {}\n",
      "   ret: None\n",
      "read: (mover: motor), (), {}\n",
      "   ret: {'pos': {'timestamp': 1433009994.891559, 'value': 5}}\n",
      "*** Emitted Event Descriptor:\n",
      "{'time': 1433009995.094256, 'uid': 'b4e58a32-ffd0-4fe1-8e70-e6f225a654a4', 'run_start': 'e6372db0-4a6a-4822-b283-b9b575a495a5', 'data_keys': {'pos': {'source': 'motor', 'dtype': 'number'}}}\n",
      "*** Emitted Event:\n",
      "{'uid': '6ec9e79d-6ada-49a4-84b3-097a531dbb9e', 'descriptor': 'b4e58a32-ffd0-4fe1-8e70-e6f225a654a4', 'time': 1433009995.09449, 'data': {'pos': {'timestamp': 1433009994.891559, 'value': 5}}, 'seq_num': 1}\n",
      "save: (None), (), {}\n",
      "   ret: None\n",
      "*** Emitted RunStop:\n",
      "{'reason': '', 'time': 1433009995.199799, 'run_start': 'e6372db0-4a6a-4822-b283-b9b575a495a5', 'exit_status': 'success'}\n"
     ]
    }
   ],
   "source": [
    "def simple_scan_saving(motor):\n",
    "    \"Set, trigger, read\"\n",
    "    yield Msg('create')\n",
    "    yield Msg('set', motor, {'pos': 5})\n",
    "    yield Msg('trigger', motor)\n",
    "    yield Msg('read', motor)\n",
    "    yield Msg('save')\n",
    "    \n",
    "RE.run(simple_scan_saving(motor))"
   ]
  },
  {
   "cell_type": "markdown",
   "metadata": {},
   "source": [
    "### Consuming Documents for Live Visualization and Analysis\n",
    "\n",
    "Any user function that accepts a Python dictionary can be registered as a \"consumer\" of these Event Documents. Here's a toy example."
   ]
  },
  {
   "cell_type": "code",
   "execution_count": 11,
   "metadata": {
    "collapsed": true
   },
   "outputs": [],
   "source": [
    "def print_event_time(doc):\n",
    "    print('===== EVENT TIME:', doc['time'], '=====')"
   ]
  },
  {
   "cell_type": "markdown",
   "metadata": {},
   "source": [
    "To use this consumer function during a run:"
   ]
  },
  {
   "cell_type": "code",
   "execution_count": 12,
   "metadata": {
    "collapsed": false
   },
   "outputs": [
    {
     "name": "stdout",
     "output_type": "stream",
     "text": [
      "*** Emitted RunStart:\n",
      "{'beamline_id': 'test', 'uid': '16b3f2fc-398c-4c1b-a4f2-edf48d3d24a8', 'time': 1433009997.570369, 'scan_id': 123, 'owner': 'tester'}\n",
      "create: (None), (), {}\n",
      "   ret: None\n",
      "set: (mover: motor), ({'pos': 5},), {}\n",
      "   ret: None\n",
      "trigger: (mover: motor), (), {}\n",
      "   ret: None\n",
      "read: (mover: motor), (), {}\n",
      "   ret: {'pos': {'timestamp': 1433009997.974602, 'value': 5}}\n",
      "*** Emitted Event Descriptor:\n",
      "{'time': 1433009998.181415, 'uid': 'c4bf02b3-fbfa-48ff-856c-d1d34b9f46ab', 'run_start': '16b3f2fc-398c-4c1b-a4f2-edf48d3d24a8', 'data_keys': {'pos': {'source': 'motor', 'dtype': 'number'}}}\n",
      "*** Emitted Event:\n",
      "{'uid': '3f057943-e03b-4f9f-ac35-cb27f1c23d8e', 'descriptor': 'c4bf02b3-fbfa-48ff-856c-d1d34b9f46ab', 'time': 1433009998.18182, 'data': {'pos': {'timestamp': 1433009997.974602, 'value': 5}}, 'seq_num': 1}\n",
      "save: (None), (), {}\n",
      "   ret: None\n",
      "===== EVENT TIME: 1433009998.18182 =====\n",
      "*** Emitted RunStop:\n",
      "{'reason': '', 'time': 1433009998.283894, 'run_start': '16b3f2fc-398c-4c1b-a4f2-edf48d3d24a8', 'exit_status': 'success'}\n"
     ]
    }
   ],
   "source": [
    "RE.run(simple_scan_saving(motor), subscriptions={'event': print_event_time})"
   ]
  },
  {
   "cell_type": "markdown",
   "metadata": {},
   "source": [
    "The use it by default on every run for this instance of the Run Engine:"
   ]
  },
  {
   "cell_type": "code",
   "execution_count": 13,
   "metadata": {
    "collapsed": false
   },
   "outputs": [
    {
     "data": {
      "text/plain": [
       "1"
      ]
     },
     "execution_count": 13,
     "metadata": {},
     "output_type": "execute_result"
    }
   ],
   "source": [
    "token = RE.subscribe('event', print_event_time)\n",
    "token"
   ]
  },
  {
   "cell_type": "markdown",
   "metadata": {},
   "source": [
    "The output `token`, an integer, can be use to unsubscribe later."
   ]
  },
  {
   "cell_type": "code",
   "execution_count": 14,
   "metadata": {
    "collapsed": false
   },
   "outputs": [],
   "source": [
    "RE.unsubscribe(token)"
   ]
  },
  {
   "cell_type": "markdown",
   "metadata": {},
   "source": [
    "### Saving Documents to metadatastore\n",
    "\n",
    "Mission-critical consumers can be run on the scan thread, where they will block the scan until they return from processing the emitted Documents. This should not be used for computationally heavy tasks like visualization. Its only intended use is for saving data to metadatastore, but users can register any consumers they want, at risk of slowing down the scan.\n",
    "\n",
    "```\n",
    "RE._register_scan_callback('event', some_critical_func)\n",
    "```\n",
    "\n",
    "The convenience function `register_mds` registers metadatastore's four `insert_*` functions to consume their four respective Documents. These are registered on the scan thread, so data is guaranteed to be saved in metadatastore."
   ]
  },
  {
   "cell_type": "code",
   "execution_count": 18,
   "metadata": {
    "collapsed": false
   },
   "outputs": [],
   "source": [
    "%run register_mds.py\n",
    "\n",
    "register_mds(RE)"
   ]
  },
  {
   "cell_type": "markdown",
   "metadata": {},
   "source": [
    "We can verify that this worked by loading this one-point scan from the DataBroker and displaying the data using DataMuxer."
   ]
  },
  {
   "cell_type": "code",
   "execution_count": 19,
   "metadata": {
    "collapsed": false
   },
   "outputs": [
    {
     "name": "stdout",
     "output_type": "stream",
     "text": [
      "*** Emitted RunStart:\n",
      "{'beamline_id': 'test', 'uid': '6fdbb66a-cc83-425b-98ee-ca63dcf89f63', 'time': 1433010038.598662, 'scan_id': 123, 'owner': 'tester'}\n",
      "create: (None), (), {}\n",
      "   ret: None\n",
      "set: (mover: motor), ({'pos': 5},), {}\n",
      "   ret: None\n",
      "trigger: (mover: motor), (), {}\n",
      "   ret: None\n",
      "read: (mover: motor), (), {}\n",
      "   ret: {'pos': {'timestamp': 1433010039.031538, 'value': 5}}\n",
      "*** Emitted Event Descriptor:\n",
      "{'time': 1433010039.236176, 'uid': 'efcf48ca-f499-4ad6-8138-ee4272d4aa76', 'run_start': '6fdbb66a-cc83-425b-98ee-ca63dcf89f63', 'data_keys': {'pos': {'source': 'motor', 'dtype': 'number'}}}\n",
      "*** Emitted Event:\n",
      "{'uid': '181409f6-a4bf-4c8a-91b1-1fdbff036956', 'descriptor': 'efcf48ca-f499-4ad6-8138-ee4272d4aa76', 'time': 1433010039.243223, 'data': {'pos': {'timestamp': 1433010039.031538, 'value': 5}}, 'seq_num': 1}\n",
      "save: (None), (), {}\n",
      "   ret: None\n",
      "*** Emitted RunStop:\n",
      "{'reason': '', 'time': 1433010039.351014, 'run_start': '6fdbb66a-cc83-425b-98ee-ca63dcf89f63', 'exit_status': 'success'}\n"
     ]
    }
   ],
   "source": [
    "RE.run(simple_scan_saving(motor))"
   ]
  },
  {
   "cell_type": "code",
   "execution_count": 20,
   "metadata": {
    "collapsed": false
   },
   "outputs": [
    {
     "data": {
      "text/html": [
       "<table><tr><td>beamline_config</td><td><table><tr><td>config_params</td><td><table></table></td></tr><tr><td>time</td><td>1433010038.598757</td></tr><tr><td>time_as_datetime</td><td>2015-05-30 14:20:38.598757  (3 seconds ago)</td></tr><tr><td>uid</td><td>d88dbdcd-135a-401c-93ed-1845c7aedf1b</td></tr></table></td></tr><tr><td>beamline_id</td><td>test</td></tr><tr><td>event_descriptors</td><td><table style='border: none;'><tr style='border: none;' ><td style='border: none;'><table><tr><td>data_keys</td><td><table><tr><td>pos</td><td><table><tr><td>dtype</td><td>number</td></tr><tr><td>external</td><td>None</td></tr><tr><td>shape</td><td><table style='border: none;'></table></td></tr><tr><td>source</td><td>motor</td></tr></table></td></tr></table></td></tr><tr><td>run_start</td><td>6fdbb66a-cc83-425b-98ee-ca63dcf89f63</td></tr><tr><td>time</td><td>1433010039.236176</td></tr><tr><td>time_as_datetime</td><td>2015-05-30 14:20:39.236176  (2 seconds ago)</td></tr><tr><td>uid</td><td>efcf48ca-f499-4ad6-8138-ee4272d4aa76</td></tr></table></td></tr></table></td></tr><tr><td>exit_reason</td><td></td></tr><tr><td>exit_status</td><td>success</td></tr><tr><td>group</td><td></td></tr><tr><td>owner</td><td>tester</td></tr><tr><td>project</td><td></td></tr><tr><td>run_start_uid</td><td>6fdbb66a-cc83-425b-98ee-ca63dcf89f63</td></tr><tr><td>run_stop_uid</td><td>4fce87e3-a25b-46ce-b647-f18e035d9ddf</td></tr><tr><td>sample</td><td><table></table></td></tr><tr><td>scan_id</td><td>123</td></tr><tr><td>start_datetime</td><td>2015-05-30 14:20:38.598661  (3 seconds ago)</td></tr><tr><td>start_time</td><td>1433010038.598662</td></tr><tr><td>stop_datetime</td><td>2015-05-30 14:20:39.351013  (2 seconds ago)</td></tr><tr><td>stop_time</td><td>1433010039.351014</td></tr></table>"
      ],
      "text/plain": [
       "<Header scan_id=123 run_start_uid='6fdbb66a-cc83-425b-98ee-ca63dcf89f63'>"
      ]
     },
     "execution_count": 20,
     "metadata": {},
     "output_type": "execute_result"
    }
   ],
   "source": [
    "from dataportal import DataBroker as db\n",
    "\n",
    "header = db[-1]\n",
    "header"
   ]
  },
  {
   "cell_type": "code",
   "execution_count": 21,
   "metadata": {
    "collapsed": false
   },
   "outputs": [
    {
     "data": {
      "text/html": [
       "<div style=\"max-height:1000px;max-width:1500px;overflow:auto;\">\n",
       "<table border=\"1\" class=\"dataframe\">\n",
       "  <thead>\n",
       "    <tr style=\"text-align: right;\">\n",
       "      <th></th>\n",
       "      <th>pos</th>\n",
       "      <th>time</th>\n",
       "    </tr>\n",
       "  </thead>\n",
       "  <tbody>\n",
       "    <tr>\n",
       "      <th>0</th>\n",
       "      <td> 5</td>\n",
       "      <td>2015-05-30 18:20:39.243223</td>\n",
       "    </tr>\n",
       "  </tbody>\n",
       "</table>\n",
       "</div>"
      ],
      "text/plain": [
       "   pos                       time\n",
       "0    5 2015-05-30 18:20:39.243223"
      ]
     },
     "execution_count": 21,
     "metadata": {},
     "output_type": "execute_result"
    }
   ],
   "source": [
    "from dataportal import DataMuxer as dm\n",
    "\n",
    "dm.from_events(db.fetch_events(header)).to_sparse_dataframe()"
   ]
  },
  {
   "cell_type": "code",
   "execution_count": null,
   "metadata": {
    "collapsed": true
   },
   "outputs": [],
   "source": []
  }
 ],
 "metadata": {
  "gist_id": "435cc2016dea29848cc9",
  "kernelspec": {
   "display_name": "Python 3",
   "language": "python",
   "name": "python3"
  },
  "language_info": {
   "codemirror_mode": {
    "name": "ipython",
    "version": 3
   },
   "file_extension": ".py",
   "mimetype": "text/x-python",
   "name": "python",
   "nbconvert_exporter": "python",
   "pygments_lexer": "ipython3",
   "version": "3.4.3"
  }
 },
 "nbformat": 4,
 "nbformat_minor": 0
}
