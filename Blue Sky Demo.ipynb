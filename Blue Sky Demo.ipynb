{
 "cells": [
  {
   "cell_type": "markdown",
   "metadata": {},
   "source": [
    "# Blue Sky Run Engine\n",
    "\n",
    "Contents:\n",
    "\n",
    "* The Run Engine processes messages\n",
    "* There is two-way communication between the message generator and the Run Engine\n",
    "* Control timing with 'sleep' and 'wait'\n",
    "* Runs can be aborted\n",
    "* Any functions can subscribe to the live data stream (e.g., live plotting)\n",
    "* Example: Live Plotting"
   ]
  },
  {
   "cell_type": "code",
   "execution_count": 1,
   "metadata": {
    "collapsed": false
   },
   "outputs": [
    {
     "name": "stderr",
     "output_type": "stream",
     "text": [
      ":0: FutureWarning: IPython widgets are experimental and may change in the future.\n"
     ]
    }
   ],
   "source": [
    "%run bs.py\n",
    "\n",
    "motor = Mover('motor', ['pos'])\n",
    "det = SynGauss('sg', motor, 'pos', center=0, Imax=1, sigma=1)"
   ]
  },
  {
   "cell_type": "markdown",
   "metadata": {},
   "source": [
    "## The Run Engine processes messages\n",
    "\n",
    "A message has four parts: a command string, an object, a tuple of positional arguments, and a dictionary of keyword arguments."
   ]
  },
  {
   "cell_type": "code",
   "execution_count": 2,
   "metadata": {
    "collapsed": false
   },
   "outputs": [
    {
     "data": {
      "text/plain": [
       "set: (mover: motor), ({'pos': 5},), {}"
      ]
     },
     "execution_count": 2,
     "metadata": {},
     "output_type": "execute_result"
    }
   ],
   "source": [
    "Msg('set', motor, {'pos': 5})"
   ]
  },
  {
   "cell_type": "code",
   "execution_count": 3,
   "metadata": {
    "collapsed": false
   },
   "outputs": [
    {
     "data": {
      "text/plain": [
       "trigger: (mover: motor), (), {}"
      ]
     },
     "execution_count": 3,
     "metadata": {},
     "output_type": "execute_result"
    }
   ],
   "source": [
    "Msg('trigger', motor)"
   ]
  },
  {
   "cell_type": "code",
   "execution_count": 4,
   "metadata": {
    "collapsed": false
   },
   "outputs": [
    {
     "data": {
      "text/plain": [
       "read: (mover: motor), (), {}"
      ]
     },
     "execution_count": 4,
     "metadata": {},
     "output_type": "execute_result"
    }
   ],
   "source": [
    "Msg('read', motor)"
   ]
  },
  {
   "cell_type": "code",
   "execution_count": 5,
   "metadata": {
    "collapsed": false
   },
   "outputs": [],
   "source": [
    "RE = RunEngine()"
   ]
  },
  {
   "cell_type": "code",
   "execution_count": 45,
   "metadata": {
    "collapsed": false,
    "scrolled": false
   },
   "outputs": [
    {
     "name": "stdout",
     "output_type": "stream",
     "text": [
      "*** Emitted RunStart:\n",
      "{'beamline_id': 'test', 'uid': '549e8e0b-cd66-45d8-b44c-7045b64308d0', 'time': 1433011278.129966, 'scan_id': 123, 'owner': 'tester'}\n",
      "set: (mover: motor), ({'pos': 5},), {}\n",
      "   ret: None\n",
      "trigger: (mover: motor), (), {}\n",
      "   ret: None\n",
      "read: (mover: motor), (), {}\n",
      "   ret: {'pos': {'timestamp': 1433011278.439633, 'value': 5}}\n",
      "*** Emitted RunStop:\n",
      "{'reason': '', 'time': 1433011278.645251, 'run_start': '549e8e0b-cd66-45d8-b44c-7045b64308d0', 'exit_status': 'success'}\n"
     ]
    }
   ],
   "source": [
    "def simple_scan(motor):\n",
    "    \"Set, trigger, read\"\n",
    "    yield Msg('set', motor, {'pos': 5})\n",
    "    yield Msg('trigger', motor)\n",
    "    yield Msg('read', motor)\n",
    "    \n",
    "RE.run(simple_scan(motor))"
   ]
  },
  {
   "cell_type": "markdown",
   "metadata": {},
   "source": [
    "Moving a motor and reading it back is boring. Let's add a detector."
   ]
  },
  {
   "cell_type": "code",
   "execution_count": 7,
   "metadata": {
    "collapsed": false
   },
   "outputs": [
    {
     "name": "stdout",
     "output_type": "stream",
     "text": [
      "*** Emitted RunStart:\n",
      "{'beamline_id': 'test', 'uid': '5448cc9d-481e-49eb-a19c-6b6244e11953', 'time': 1433009980.38547, 'scan_id': 123, 'owner': 'tester'}\n",
      "set: (mover: motor), ({'pos': 5},), {}\n",
      "   ret: None\n",
      "trigger: (mover: motor), (), {}\n",
      "   ret: None\n",
      "trigger: (reader: sg), (), {}\n",
      "   ret: None\n",
      "read: (reader: sg), (), {}\n",
      "   ret: {'intensity': {'timetamp': 1433009980.800412, 'value': 3.7266531720786709e-06}}\n",
      "*** Emitted RunStop:\n",
      "{'reason': '', 'time': 1433009981.004707, 'run_start': '5448cc9d-481e-49eb-a19c-6b6244e11953', 'exit_status': 'success'}\n"
     ]
    }
   ],
   "source": [
    "def simple_scan2(motor, det):\n",
    "    \"Set, trigger motor, trigger detector, read\"\n",
    "    yield Msg('set', motor, {'pos': 5})\n",
    "    yield Msg('trigger', motor)\n",
    "    yield Msg('trigger', det)\n",
    "    yield Msg('read', det)\n",
    "    \n",
    "RE.run(simple_scan2(motor, det))"
   ]
  },
  {
   "cell_type": "markdown",
   "metadata": {},
   "source": [
    "## There is two-way communication between the message generator and the Run Engine"
   ]
  },
  {
   "cell_type": "markdown",
   "metadata": {},
   "source": [
    "Above we the three messages with the responses they generated from the RunEngine. We can use these responses to make our scan adaptive."
   ]
  },
  {
   "cell_type": "code",
   "execution_count": 8,
   "metadata": {
    "collapsed": false
   },
   "outputs": [
    {
     "name": "stdout",
     "output_type": "stream",
     "text": [
      "*** Emitted RunStart:\n",
      "{'beamline_id': 'test', 'uid': '094fe05c-3f68-4dab-99a6-ecc48c105ac2', 'time': 1433009982.447273, 'scan_id': 123, 'owner': 'tester'}\n",
      "LOOP 0\n",
      "set: (mover: motor), ({'pos': 0},), {}\n",
      "   ret: None\n",
      "trigger: (mover: motor), (), {}\n",
      "   ret: None\n",
      "trigger: (reader: sg), (), {}\n",
      "   ret: None\n",
      "read: (reader: sg), (), {}\n",
      "   ret: {'intensity': {'timetamp': 1433009982.855087, 'value': 1.0}}\n",
      "LOOP 1\n",
      "set: (mover: motor), ({'pos': 1},), {}\n",
      "   ret: None\n",
      "trigger: (mover: motor), (), {}\n",
      "   ret: None\n",
      "trigger: (reader: sg), (), {}\n",
      "   ret: None\n",
      "read: (reader: sg), (), {}\n",
      "   ret: {'intensity': {'timetamp': 1433009983.367687, 'value': 0.60653065971263342}}\n",
      "LOOP 2\n",
      "set: (mover: motor), ({'pos': 2},), {}\n",
      "   ret: None\n",
      "trigger: (mover: motor), (), {}\n",
      "   ret: None\n",
      "trigger: (reader: sg), (), {}\n",
      "   ret: None\n",
      "read: (reader: sg), (), {}\n",
      "   ret: {'intensity': {'timetamp': 1433009983.879607, 'value': 0.1353352832366127}}\n",
      "DONE\n",
      "*** Emitted RunStop:\n",
      "{'reason': '', 'time': 1433009984.085332, 'run_start': '094fe05c-3f68-4dab-99a6-ecc48c105ac2', 'exit_status': 'success'}\n"
     ]
    }
   ],
   "source": [
    "def adaptive_scan(motor, det, threshold):\n",
    "    \"\"\"Set, trigger, read until the detector reads intensity < threshold\"\"\"\n",
    "    i = 0\n",
    "    while True:\n",
    "        print(\"LOOP %d\" % i)\n",
    "        yield Msg('set', motor, {'pos': i})\n",
    "        yield Msg('trigger', motor)\n",
    "        yield Msg('trigger', det)\n",
    "        reading = yield Msg('read', det)\n",
    "        if reading['intensity']['value'] < threshold:\n",
    "            print('DONE')\n",
    "            break\n",
    "        i += 1\n",
    "\n",
    "RE.run(adaptive_scan(motor, det, 0.2))"
   ]
  },
  {
   "cell_type": "markdown",
   "metadata": {},
   "source": [
    "## Control timing with 'sleep' and 'wait'"
   ]
  },
  {
   "cell_type": "markdown",
   "metadata": {},
   "source": [
    "The 'sleep' command is as simple as it sounds."
   ]
  },
  {
   "cell_type": "code",
   "execution_count": 9,
   "metadata": {
    "collapsed": false
   },
   "outputs": [
    {
     "name": "stdout",
     "output_type": "stream",
     "text": [
      "*** Emitted RunStart:\n",
      "{'beamline_id': 'test', 'uid': '70fa15cc-8379-40d4-9f62-901b32be382c', 'time': 1433009985.563407, 'scan_id': 123, 'owner': 'tester'}\n",
      "set: (mover: motor), ({'pos': 5},), {}\n",
      "   ret: None\n",
      "trigger: (mover: motor), (), {}\n",
      "   ret: None\n",
      "sleep: (None), (2,), {}\n",
      "   ret: None\n",
      "trigger: (reader: sg), (), {}\n",
      "   ret: None\n",
      "read: (reader: sg), (), {}\n",
      "   ret: {'intensity': {'timetamp': 1433009988.08861, 'value': 3.7266531720786709e-06}}\n",
      "*** Emitted RunStop:\n",
      "{'reason': '', 'time': 1433009988.295305, 'run_start': '70fa15cc-8379-40d4-9f62-901b32be382c', 'exit_status': 'success'}\n"
     ]
    }
   ],
   "source": [
    "def sleepy_scan(motor, det):\n",
    "    \"Set, trigger motor, sleep for a fixed time, trigger detector, read\"\n",
    "    yield Msg('set', motor, {'pos': 5})\n",
    "    yield Msg('trigger', motor)\n",
    "    yield Msg('sleep', None, 2)  # units: seconds\n",
    "    yield Msg('trigger', det)\n",
    "    yield Msg('read', det)\n",
    "    \n",
    "RE.run(sleepy_scan(motor, det))"
   ]
  },
  {
   "cell_type": "markdown",
   "metadata": {},
   "source": [
    "The 'wait' command is more powerful. It watches for Movers (e.g., `motor`) to report being done.\n",
    "\n",
    "### Wait for one motor to be done moving"
   ]
  },
  {
   "cell_type": "code",
   "execution_count": 53,
   "metadata": {
    "collapsed": false
   },
   "outputs": [
    {
     "name": "stdout",
     "output_type": "stream",
     "text": [
      "*** Emitted RunStart:\n",
      "{'beamline_id': 'test', 'uid': '21386be5-e20e-4217-9ece-0db5a3a82949', 'scan_id': 123, 'time': 1433008818.189182, 'owner': 'tester'}\n",
      "set: (mover: motor), ({'pos': 5},), {}\n",
      "   ret: None\n",
      "trigger: (mover: motor), (), {'block_group': 'A'}\n",
      "   ret: None\n",
      "wait: (None), ('A',), {}\n",
      "   ret: {mover: motor}\n",
      "trigger: (reader: sg), (), {}\n",
      "   ret: None\n",
      "read: (reader: sg), (), {}\n",
      "   ret: {'intensity': {'value': 3.7266531720786709e-06, 'timetamp': 1433008818.703617}}\n",
      "*** Emitted RunStop:\n",
      "{'exit_status': 'success', 'run_start': '21386be5-e20e-4217-9ece-0db5a3a82949', 'reason': '', 'time': 1433008818.909774}\n"
     ]
    }
   ],
   "source": [
    "def wait_one(motor, det):\n",
    "    \"Set, trigger, read\"\n",
    "    yield Msg('set', motor, {'pos': 5})\n",
    "    yield Msg('trigger', motor, block_group='A')  # Add motor to group 'A'.\n",
    "    yield Msg('wait', None, 'A')  # Wait for everything in group 'A' to report done.\n",
    "    yield Msg('trigger', det)\n",
    "    yield Msg('read', det)\n",
    "    \n",
    "RE.run(wait_one(motor, det))"
   ]
  },
  {
   "cell_type": "markdown",
   "metadata": {},
   "source": [
    "Notice, in the log, that the response to `wait` is the set of Movers the scan was waiting on."
   ]
  },
  {
   "cell_type": "markdown",
   "metadata": {},
   "source": [
    "### Wait for two motors to both be done moving"
   ]
  },
  {
   "cell_type": "code",
   "execution_count": 54,
   "metadata": {
    "collapsed": false
   },
   "outputs": [
    {
     "name": "stdout",
     "output_type": "stream",
     "text": [
      "*** Emitted RunStart:\n",
      "{'beamline_id': 'test', 'uid': '9a8dbfa3-511d-4e63-8391-b576ca7005c5', 'scan_id': 123, 'time': 1433008819.679768, 'owner': 'tester'}\n",
      "set: (mover: motor1), ({'pos': 5},), {}\n",
      "   ret: None\n",
      "trigger: (mover: motor1), (), {'block_group': 'A'}\n",
      "   ret: None\n",
      "set: (mover: motor2), ({'pos': 5},), {}\n",
      "   ret: None\n",
      "trigger: (mover: motor2), (), {'block_group': 'A'}\n",
      "   ret: None\n",
      "wait: (None), ('A',), {}\n",
      "   ret: {mover: motor2, mover: motor1}\n",
      "trigger: (reader: sg), (), {}\n",
      "   ret: None\n",
      "read: (reader: sg), (), {}\n",
      "   ret: {'intensity': {'value': 3.7266531720786709e-06, 'timetamp': 1433008820.499757}}\n",
      "*** Emitted RunStop:\n",
      "{'exit_status': 'success', 'run_start': '9a8dbfa3-511d-4e63-8391-b576ca7005c5', 'reason': '', 'time': 1433008820.708166}\n"
     ]
    }
   ],
   "source": [
    "def wait_multiple(motors, det):\n",
    "    \"Set motors, trigger all motors, wait for all motors to move.\"\n",
    "    for motor in motors:\n",
    "        yield Msg('set', motor, {'pos': 5})\n",
    "        yield Msg('trigger', motor, block_group='A')  # Trigger each motor and add it to group 'A'.\n",
    "    yield Msg('wait', None, 'A')  # Wait for everything in group 'A' to report done.\n",
    "    yield Msg('trigger', det)\n",
    "    yield Msg('read', det)\n",
    "\n",
    "motor1 = Mover('motor1', ['pos'])\n",
    "motor2 = Mover('motor2', ['pos'])\n",
    "\n",
    "RE.run(wait_multiple([motor1, motor2], det))"
   ]
  },
  {
   "cell_type": "markdown",
   "metadata": {},
   "source": [
    "### Advanced Example: Wait for different groups of motors at different points in the run\n",
    "\n",
    "If the `'A'` bit seems pointless, the payoff is here. We trigger all the motors at once, wait for the first two, read, wait for the last one, and read again. This is merely meant to show that complex control flow is possible."
   ]
  },
  {
   "cell_type": "code",
   "execution_count": 55,
   "metadata": {
    "collapsed": false
   },
   "outputs": [
    {
     "name": "stdout",
     "output_type": "stream",
     "text": [
      "*** Emitted RunStart:\n",
      "{'beamline_id': 'test', 'uid': '2bfc0b56-c988-4962-8135-bb28a3e08d44', 'scan_id': 123, 'time': 1433008822.63035, 'owner': 'tester'}\n",
      "set: (mover: motor1), ({'pos': 5},), {}\n",
      "   ret: None\n",
      "trigger: (mover: motor1), (), {'block_group': 'A'}\n",
      "   ret: None\n",
      "set: (mover: motor2), ({'pos': 5},), {}\n",
      "   ret: None\n",
      "trigger: (mover: motor2), (), {'block_group': 'A'}\n",
      "   ret: None\n",
      "set: (mover: motor3), ({'pos': 5},), {}\n",
      "   ret: None\n",
      "trigger: (mover: motor3), (), {'block_group': 'B'}\n",
      "   ret: None\n",
      "wait: (None), ('A',), {}\n",
      "   ret: {mover: motor2, mover: motor1}\n",
      "trigger: (reader: sg), (), {}\n",
      "   ret: None\n",
      "read: (reader: sg), (), {}\n",
      "   ret: {'intensity': {'value': 3.7266531720786709e-06, 'timetamp': 1433008823.767201}}\n",
      "wait: (None), ('B',), {}\n",
      "   ret: {mover: motor3}\n",
      "trigger: (reader: sg), (), {}\n",
      "   ret: None\n",
      "read: (reader: sg), (), {}\n",
      "   ret: {'intensity': {'value': 3.7266531720786709e-06, 'timetamp': 1433008824.076329}}\n",
      "*** Emitted RunStop:\n",
      "{'exit_status': 'success', 'run_start': '2bfc0b56-c988-4962-8135-bb28a3e08d44', 'reason': '', 'time': 1433008824.284273}\n"
     ]
    }
   ],
   "source": [
    "def wait_complex(motors, det):\n",
    "    \"Set motors, trigger motors, wait for all motors to move.\"\n",
    "    # Same as above...\n",
    "    for motor in motors[:-1]:\n",
    "        yield Msg('set', motor, {'pos': 5})\n",
    "        yield Msg('trigger', motor, block_group='A')\n",
    "        \n",
    "    # ...but put the last motor is separate group.\n",
    "    yield Msg('set', motors[-1], {'pos': 5})\n",
    "    yield Msg('trigger', motors[-1], block_group='B')\n",
    "    \n",
    "    yield Msg('wait', None, 'A')  # Wait for everything in group 'A' to report done.\n",
    "    yield Msg('trigger', det)\n",
    "    yield Msg('read', det)\n",
    "    \n",
    "    yield Msg('wait', None, 'B')  # Wait for everything in group 'B' to report done.\n",
    "    yield Msg('trigger', det)\n",
    "    yield Msg('read', det)\n",
    "    \n",
    "motor3 = Mover('motor3', ['pos'])\n",
    "\n",
    "RE.run(wait_complex([motor1, motor2, motor3], det))"
   ]
  },
  {
   "cell_type": "markdown",
   "metadata": {},
   "source": [
    "## Runs can be aborted"
   ]
  },
  {
   "cell_type": "markdown",
   "metadata": {},
   "source": [
    "### SIGINT (Ctrl+C) is reliably caught before each message is processed, even across threads.\n",
    "\n",
    "The output below is truncated because it caught Ctrl+C (or, in the notebook, \"Interrupt Kerenel\")."
   ]
  },
  {
   "cell_type": "code",
   "execution_count": 31,
   "metadata": {
    "collapsed": false
   },
   "outputs": [
    {
     "name": "stdout",
     "output_type": "stream",
     "text": [
      "*** Emitted RunStart:\n",
      "{'beamline_id': 'test', 'uid': 'aa014369-c061-48ed-ab95-f266e6feb673', 'time': 1433010934.42001, 'scan_id': 123, 'owner': 'tester'}\n",
      "*** Emitted RunStop:\n",
      "{'reason': '', 'time': 1433010934.526744, 'run_start': 'aa014369-c061-48ed-ab95-f266e6feb673', 'exit_status': 'abort'}\n"
     ]
    },
    {
     "name": "stderr",
     "output_type": "stream",
     "text": [
      "Exception in thread Thread-15:\n",
      "Traceback (most recent call last):\n",
      "  File \"/Users/dallan/miniconda/envs/py3/lib/python3.4/threading.py\", line 920, in _bootstrap_inner\n",
      "    self.run()\n",
      "  File \"/Users/dallan/miniconda/envs/py3/lib/python3.4/threading.py\", line 868, in run\n",
      "    self._target(*self._args, **self._kwargs)\n",
      "  File \"/Users/dallan/Documents/Repos/bluesky/bs.py\", line 290, in <lambda>\n",
      "    func = lambda: self.run_engine(gen)\n",
      "  File \"/Users/dallan/Documents/Repos/bluesky/bs.py\", line 322, in run_engine\n",
      "    raise RunInterrupt(\"RunEngine detected a SIGINT (Ctrl+C) \"\n",
      "RunInterrupt: RunEngine detected a SIGINT (Ctrl+C) and aborted the scan. Records were created, but the run was marked with exit_status='abort'.\n",
      "\n"
     ]
    }
   ],
   "source": [
    "RE.run(simple_scan(motor))"
   ]
  },
  {
   "cell_type": "markdown",
   "metadata": {},
   "source": [
    "### Threading is optional -- switch it off for easier debugging\n",
    "\n",
    "Again, we'll interrupt the scan. We get exactly the same result, but this time we see a full Traceback."
   ]
  },
  {
   "cell_type": "code",
   "execution_count": 57,
   "metadata": {
    "collapsed": false
   },
   "outputs": [
    {
     "name": "stdout",
     "output_type": "stream",
     "text": [
      "*** Emitted RunStart:\n",
      "{'beamline_id': 'test', 'uid': '7c9068f0-707f-4177-8508-27fa4921ac6f', 'scan_id': 123, 'time': 1433008841.624896, 'owner': 'tester'}\n",
      "set: (mover: motor), ({'pos': 5},), {}\n",
      "   ret: None\n",
      "trigger: (mover: motor), (), {}\n",
      "   ret: None\n",
      "*** Emitted RunStop:\n",
      "{'exit_status': 'abort', 'run_start': '7c9068f0-707f-4177-8508-27fa4921ac6f', 'reason': '', 'time': 1433008841.947767}\n"
     ]
    },
    {
     "ename": "RunInterrupt",
     "evalue": "RunEngine detected a SIGINT (Ctrl+C) and aborted the scan. Records were created, but the run was marked with exit_status='abort'.",
     "output_type": "error",
     "traceback": [
      "\u001b[0;31m---------------------------------------------------------------------------\u001b[0m",
      "\u001b[0;31mRunInterrupt\u001b[0m                              Traceback (most recent call last)",
      "\u001b[0;32m<ipython-input-57-63bdca4b590c>\u001b[0m in \u001b[0;36m<module>\u001b[0;34m()\u001b[0m\n\u001b[0;32m----> 1\u001b[0;31m \u001b[0mRE\u001b[0m\u001b[0;34m.\u001b[0m\u001b[0mrun\u001b[0m\u001b[0;34m(\u001b[0m\u001b[0msimple_scan\u001b[0m\u001b[0;34m(\u001b[0m\u001b[0mmotor\u001b[0m\u001b[0;34m)\u001b[0m\u001b[0;34m,\u001b[0m \u001b[0muse_threading\u001b[0m\u001b[0;34m=\u001b[0m\u001b[0;32mFalse\u001b[0m\u001b[0;34m)\u001b[0m\u001b[0;34m\u001b[0m\u001b[0m\n\u001b[0m",
      "\u001b[0;32m/Users/dallan/Documents/Repos/bluesky/bs.py\u001b[0m in \u001b[0;36mrun\u001b[0;34m(self, g, subscriptions, use_threading)\u001b[0m\n\u001b[1;32m    308\u001b[0m                     \u001b[0mself\u001b[0m\u001b[0;34m.\u001b[0m\u001b[0mdispatcher\u001b[0m\u001b[0;34m.\u001b[0m\u001b[0mprocess_all_queues\u001b[0m\u001b[0;34m(\u001b[0m\u001b[0;34m)\u001b[0m\u001b[0;34m\u001b[0m\u001b[0m\n\u001b[1;32m    309\u001b[0m             \u001b[0;32melse\u001b[0m\u001b[0;34m:\u001b[0m\u001b[0;34m\u001b[0m\u001b[0m\n\u001b[0;32m--> 310\u001b[0;31m                 \u001b[0mfunc\u001b[0m\u001b[0;34m(\u001b[0m\u001b[0;34m)\u001b[0m\u001b[0;34m\u001b[0m\u001b[0m\n\u001b[0m\u001b[1;32m    311\u001b[0m                 \u001b[0mself\u001b[0m\u001b[0;34m.\u001b[0m\u001b[0mdispatcher\u001b[0m\u001b[0;34m.\u001b[0m\u001b[0mprocess_all_queues\u001b[0m\u001b[0;34m(\u001b[0m\u001b[0;34m)\u001b[0m\u001b[0;34m\u001b[0m\u001b[0m\n\u001b[1;32m    312\u001b[0m \u001b[0;34m\u001b[0m\u001b[0m\n",
      "\u001b[0;32m/Users/dallan/Documents/Repos/bluesky/bs.py\u001b[0m in \u001b[0;36m<lambda>\u001b[0;34m()\u001b[0m\n\u001b[1;32m    301\u001b[0m                                   \"of this run were created.\")\n\u001b[1;32m    302\u001b[0m         \u001b[0;32mwith\u001b[0m \u001b[0mSignalHandler\u001b[0m\u001b[0;34m(\u001b[0m\u001b[0msignal\u001b[0m\u001b[0;34m.\u001b[0m\u001b[0mSIGINT\u001b[0m\u001b[0;34m)\u001b[0m \u001b[0;32mas\u001b[0m \u001b[0mself\u001b[0m\u001b[0;34m.\u001b[0m\u001b[0m_sigint_handler\u001b[0m\u001b[0;34m:\u001b[0m\u001b[0;34m\u001b[0m\u001b[0m\n\u001b[0;32m--> 303\u001b[0;31m             \u001b[0mfunc\u001b[0m \u001b[0;34m=\u001b[0m \u001b[0;32mlambda\u001b[0m\u001b[0;34m:\u001b[0m \u001b[0mself\u001b[0m\u001b[0;34m.\u001b[0m\u001b[0mrun_engine\u001b[0m\u001b[0;34m(\u001b[0m\u001b[0mg\u001b[0m\u001b[0;34m)\u001b[0m\u001b[0;34m\u001b[0m\u001b[0m\n\u001b[0m\u001b[1;32m    304\u001b[0m             \u001b[0;32mif\u001b[0m \u001b[0muse_threading\u001b[0m\u001b[0;34m:\u001b[0m\u001b[0;34m\u001b[0m\u001b[0m\n\u001b[1;32m    305\u001b[0m                 \u001b[0mthread\u001b[0m \u001b[0;34m=\u001b[0m \u001b[0mthreading\u001b[0m\u001b[0;34m.\u001b[0m\u001b[0mThread\u001b[0m\u001b[0;34m(\u001b[0m\u001b[0mtarget\u001b[0m\u001b[0;34m=\u001b[0m\u001b[0mfunc\u001b[0m\u001b[0;34m)\u001b[0m\u001b[0;34m\u001b[0m\u001b[0m\n",
      "\u001b[0;32m/Users/dallan/Documents/Repos/bluesky/bs.py\u001b[0m in \u001b[0;36mrun_engine\u001b[0;34m(self, gen)\u001b[0m\n\u001b[1;32m    332\u001b[0m                 \u001b[0;32mif\u001b[0m \u001b[0mself\u001b[0m\u001b[0;34m.\u001b[0m\u001b[0m_sigint_handler\u001b[0m\u001b[0;34m.\u001b[0m\u001b[0minterrupted\u001b[0m\u001b[0;34m:\u001b[0m\u001b[0;34m\u001b[0m\u001b[0m\n\u001b[1;32m    333\u001b[0m                     \u001b[0mexit_status\u001b[0m \u001b[0;34m=\u001b[0m \u001b[0;34m'abort'\u001b[0m\u001b[0;34m\u001b[0m\u001b[0m\n\u001b[0;32m--> 334\u001b[0;31m                     raise RunInterrupt(\"RunEngine detected a SIGINT (Ctrl+C) \"\n\u001b[0m\u001b[1;32m    335\u001b[0m                                        \u001b[0;34m\"and aborted the scan. Records were \"\u001b[0m\u001b[0;34m\u001b[0m\u001b[0m\n\u001b[1;32m    336\u001b[0m                                        \u001b[0;34m\"created, but the run was marked with \"\u001b[0m\u001b[0;34m\u001b[0m\u001b[0m\n",
      "\u001b[0;31mRunInterrupt\u001b[0m: RunEngine detected a SIGINT (Ctrl+C) and aborted the scan. Records were created, but the run was marked with exit_status='abort'."
     ]
    }
   ],
   "source": [
    "RE.run(simple_scan(motor), use_threading=False)"
   ]
  },
  {
   "cell_type": "markdown",
   "metadata": {},
   "source": [
    "## Any functions can subscribe to the live data stream (e.g., live plotting)\n",
    "\n",
    "In the examples above, the runs have been emitting RunStart and RunStop Documents, but no Events or Event Descriptors. We will add those now.\n",
    "\n",
    "### Emitting Events and Event Descriptors\n",
    "\n",
    "The `'create'` and `'save'` commands collect all the reads between them into one Event.\n",
    "\n",
    "If that particular set of objects has never been bundled into an Event during this run, then an Event Descriptor is also created.\n",
    "\n",
    "All four Documents -- RunStart, RunStop, Event, and EventDescriptor -- are simply Python dictionaries."
   ]
  },
  {
   "cell_type": "code",
   "execution_count": 24,
   "metadata": {
    "collapsed": false
   },
   "outputs": [
    {
     "name": "stdout",
     "output_type": "stream",
     "text": [
      "*** Emitted RunStart:\n",
      "{'beamline_id': 'test', 'owner': 'tester', 'uid': '1eaeb364-15ac-4b80-afe0-35a3eaa3c1c7', 'time': 1433011817.137248, 'scan_id': 123}\n",
      "create: (None), (), {}\n",
      "   ret: None\n",
      "set: (mover: motor), ({'pos': 5},), {}\n",
      "   ret: None\n",
      "trigger: (mover: motor), (), {}\n",
      "   ret: None\n",
      "read: (mover: motor), (), {}\n",
      "   ret: {'pos': {'timestamp': 1433011817.548762, 'value': 5}}\n",
      "*** Emitted Event Descriptor:\n",
      "{'data_keys': {'pos': {'source': 'motor', 'dtype': 'number'}}, 'run_start': '1eaeb364-15ac-4b80-afe0-35a3eaa3c1c7', 'time': 1433011817.758388, 'uid': '13718b0a-d3b9-4397-9d17-26ea5a413ba3'}\n",
      "*** Emitted Event:\n",
      "{'seq_num': 1, 'data': {'pos': {'timestamp': 1433011817.548762, 'value': 5}}, 'uid': '1a084d79-fdbe-4bc4-b177-7ef83be7ee6f', 'time': 1433011817.758621, 'descriptor': '13718b0a-d3b9-4397-9d17-26ea5a413ba3'}\n",
      "save: (None), (), {}\n",
      "   ret: None\n",
      "*** Emitted RunStop:\n",
      "{'exit_status': 'success', 'run_start': '1eaeb364-15ac-4b80-afe0-35a3eaa3c1c7', 'time': 1433011817.86201, 'reason': ''}\n"
     ]
    }
   ],
   "source": [
    "def simple_scan_saving(motor):\n",
    "    \"Set, trigger, read\"\n",
    "    yield Msg('create')\n",
    "    yield Msg('set', motor, {'pos': 5})\n",
    "    yield Msg('trigger', motor)\n",
    "    yield Msg('read', motor)\n",
    "    yield Msg('save')\n",
    "    \n",
    "RE.run(simple_scan_saving(motor))"
   ]
  },
  {
   "cell_type": "markdown",
   "metadata": {},
   "source": [
    "### Very Simple Example\n",
    "\n",
    "Any user function that accepts a Python dictionary can be registered as a \"consumer\" of these Event Documents. Here's a toy example."
   ]
  },
  {
   "cell_type": "code",
   "execution_count": 7,
   "metadata": {
    "collapsed": true
   },
   "outputs": [],
   "source": [
    "def print_event_time(doc):\n",
    "    print('===== EVENT TIME:', doc['time'], '=====')"
   ]
  },
  {
   "cell_type": "markdown",
   "metadata": {},
   "source": [
    "To use this consumer function during a run:"
   ]
  },
  {
   "cell_type": "code",
   "execution_count": 8,
   "metadata": {
    "collapsed": false
   },
   "outputs": [
    {
     "name": "stdout",
     "output_type": "stream",
     "text": [
      "*** Emitted RunStart:\n",
      "{'beamline_id': 'test', 'owner': 'tester', 'uid': '5cbcd69e-8df8-4a82-a449-26d59c3de2f5', 'time': 1433011558.946144, 'scan_id': 123}\n",
      "create: (None), (), {}\n",
      "   ret: None\n",
      "set: (mover: motor), ({'pos': 5},), {}\n",
      "   ret: None\n",
      "trigger: (mover: motor), (), {}\n",
      "   ret: None\n",
      "trigger: (reader: sg), (), {}\n",
      "   ret: None\n",
      "read: (mover: motor), (), {}\n",
      "   ret: {'pos': {'timestamp': 1433011559.35857, 'value': 5}}\n",
      "read: (reader: sg), (), {}\n",
      "   ret: {'intensity': {'timestamp': 1433011559.463416, 'value': 3.7266531720786709e-06}}\n",
      "*** Emitted Event Descriptor:\n",
      "{'data_keys': {'I': {'source': 'sg', 'dtype': 'number'}, 'pos': {'source': 'motor', 'dtype': 'number'}}, 'run_start': '5cbcd69e-8df8-4a82-a449-26d59c3de2f5', 'time': 1433011559.774423, 'uid': '03001ca5-a857-4ce6-9e46-b0b8fd649233'}\n",
      "*** Emitted Event:\n",
      "{'seq_num': 1, 'data': {'intensity': {'timestamp': 1433011559.463416, 'value': 3.726653172078671e-06}, 'pos': {'timestamp': 1433011559.35857, 'value': 5}}, 'uid': '969c301c-f214-456f-9688-38d741a96fdd', 'time': 1433011559.774791, 'descriptor': '03001ca5-a857-4ce6-9e46-b0b8fd649233'}\n",
      "save: (None), (), {}\n",
      "   ret: None\n",
      "===== EVENT TIME: 1433011559.774791 =====\n",
      "*** Emitted RunStop:\n",
      "{'exit_status': 'success', 'run_start': '5cbcd69e-8df8-4a82-a449-26d59c3de2f5', 'time': 1433011559.876771, 'reason': ''}\n"
     ]
    }
   ],
   "source": [
    "RE.run(simple_scan_saving(motor, det), subscriptions={'event': print_event_time})"
   ]
  },
  {
   "cell_type": "markdown",
   "metadata": {},
   "source": [
    "The use it by default on every run for this instance of the Run Engine:"
   ]
  },
  {
   "cell_type": "code",
   "execution_count": 9,
   "metadata": {
    "collapsed": false
   },
   "outputs": [
    {
     "data": {
      "text/plain": [
       "1"
      ]
     },
     "execution_count": 9,
     "metadata": {},
     "output_type": "execute_result"
    }
   ],
   "source": [
    "token = RE.subscribe('event', print_event_time)\n",
    "token"
   ]
  },
  {
   "cell_type": "markdown",
   "metadata": {},
   "source": [
    "The output `token`, an integer, can be use to unsubscribe later."
   ]
  },
  {
   "cell_type": "code",
   "execution_count": 10,
   "metadata": {
    "collapsed": false
   },
   "outputs": [],
   "source": [
    "RE.unsubscribe(token)"
   ]
  },
  {
   "cell_type": "markdown",
   "metadata": {},
   "source": [
    "### Live Plotting\n",
    "\n",
    "First, we'll create some axes. The code below updates the plot while the run is ongoing."
   ]
  },
  {
   "cell_type": "code",
   "execution_count": 37,
   "metadata": {
    "collapsed": false
   },
   "outputs": [
    {
     "data": {
      "application/javascript": [
       "/* Put everything inside the global mpl namespace */\n",
       "window.mpl = {};\n",
       "\n",
       "mpl.get_websocket_type = function() {\n",
       "    if (typeof(WebSocket) !== 'undefined') {\n",
       "        return WebSocket;\n",
       "    } else if (typeof(MozWebSocket) !== 'undefined') {\n",
       "        return MozWebSocket;\n",
       "    } else {\n",
       "        alert('Your browser does not have WebSocket support.' +\n",
       "              'Please try Chrome, Safari or Firefox ≥ 6. ' +\n",
       "              'Firefox 4 and 5 are also supported but you ' +\n",
       "              'have to enable WebSockets in about:config.');\n",
       "    };\n",
       "}\n",
       "\n",
       "mpl.figure = function(figure_id, websocket, ondownload, parent_element) {\n",
       "    this.id = figure_id;\n",
       "\n",
       "    this.ws = websocket;\n",
       "\n",
       "    this.supports_binary = (this.ws.binaryType != undefined);\n",
       "\n",
       "    if (!this.supports_binary) {\n",
       "        var warnings = document.getElementById(\"mpl-warnings\");\n",
       "        if (warnings) {\n",
       "            warnings.style.display = 'block';\n",
       "            warnings.textContent = (\n",
       "                \"This browser does not support binary websocket messages. \" +\n",
       "                    \"Performance may be slow.\");\n",
       "        }\n",
       "    }\n",
       "\n",
       "    this.imageObj = new Image();\n",
       "\n",
       "    this.context = undefined;\n",
       "    this.message = undefined;\n",
       "    this.canvas = undefined;\n",
       "    this.rubberband_canvas = undefined;\n",
       "    this.rubberband_context = undefined;\n",
       "    this.format_dropdown = undefined;\n",
       "\n",
       "    this.image_mode = 'full';\n",
       "\n",
       "    this.root = $('<div/>');\n",
       "    this._root_extra_style(this.root)\n",
       "    this.root.attr('style', 'display: inline-block');\n",
       "\n",
       "    $(parent_element).append(this.root);\n",
       "\n",
       "    this._init_header(this);\n",
       "    this._init_canvas(this);\n",
       "    this._init_toolbar(this);\n",
       "\n",
       "    var fig = this;\n",
       "\n",
       "    this.waiting = false;\n",
       "\n",
       "    this.ws.onopen =  function () {\n",
       "            fig.send_message(\"supports_binary\", {value: fig.supports_binary});\n",
       "            fig.send_message(\"send_image_mode\", {});\n",
       "            fig.send_message(\"refresh\", {});\n",
       "        }\n",
       "\n",
       "    this.imageObj.onload = function() {\n",
       "            if (fig.image_mode == 'full') {\n",
       "                // Full images could contain transparency (where diff images\n",
       "                // almost always do), so we need to clear the canvas so that\n",
       "                // there is no ghosting.\n",
       "                fig.context.clearRect(0, 0, fig.canvas.width, fig.canvas.height);\n",
       "            }\n",
       "            fig.context.drawImage(fig.imageObj, 0, 0);\n",
       "            fig.waiting = false;\n",
       "        };\n",
       "\n",
       "    this.imageObj.onunload = function() {\n",
       "        this.ws.close();\n",
       "    }\n",
       "\n",
       "    this.ws.onmessage = this._make_on_message_function(this);\n",
       "\n",
       "    this.ondownload = ondownload;\n",
       "}\n",
       "\n",
       "mpl.figure.prototype._init_header = function() {\n",
       "    var titlebar = $(\n",
       "        '<div class=\"ui-dialog-titlebar ui-widget-header ui-corner-all ' +\n",
       "        'ui-helper-clearfix\"/>');\n",
       "    var titletext = $(\n",
       "        '<div class=\"ui-dialog-title\" style=\"width: 100%; ' +\n",
       "        'text-align: center; padding: 3px;\"/>');\n",
       "    titlebar.append(titletext)\n",
       "    this.root.append(titlebar);\n",
       "    this.header = titletext[0];\n",
       "}\n",
       "\n",
       "\n",
       "\n",
       "mpl.figure.prototype._canvas_extra_style = function(canvas_div) {\n",
       "\n",
       "}\n",
       "\n",
       "\n",
       "mpl.figure.prototype._root_extra_style = function(canvas_div) {\n",
       "\n",
       "}\n",
       "\n",
       "mpl.figure.prototype._init_canvas = function() {\n",
       "    var fig = this;\n",
       "\n",
       "    var canvas_div = $('<div/>');\n",
       "\n",
       "    canvas_div.attr('style', 'position: relative; clear: both; outline: 0');\n",
       "\n",
       "    function canvas_keyboard_event(event) {\n",
       "        return fig.key_event(event, event['data']);\n",
       "    }\n",
       "\n",
       "    canvas_div.keydown('key_press', canvas_keyboard_event);\n",
       "    canvas_div.keyup('key_release', canvas_keyboard_event);\n",
       "    this.canvas_div = canvas_div\n",
       "    this._canvas_extra_style(canvas_div)\n",
       "    this.root.append(canvas_div);\n",
       "\n",
       "    var canvas = $('<canvas/>');\n",
       "    canvas.addClass('mpl-canvas');\n",
       "    canvas.attr('style', \"left: 0; top: 0; z-index: 0; outline: 0\")\n",
       "\n",
       "    this.canvas = canvas[0];\n",
       "    this.context = canvas[0].getContext(\"2d\");\n",
       "\n",
       "    var rubberband = $('<canvas/>');\n",
       "    rubberband.attr('style', \"position: absolute; left: 0; top: 0; z-index: 1;\")\n",
       "\n",
       "    var pass_mouse_events = true;\n",
       "\n",
       "    canvas_div.resizable({\n",
       "        start: function(event, ui) {\n",
       "            pass_mouse_events = false;\n",
       "        },\n",
       "        resize: function(event, ui) {\n",
       "            fig.request_resize(ui.size.width, ui.size.height);\n",
       "        },\n",
       "        stop: function(event, ui) {\n",
       "            pass_mouse_events = true;\n",
       "            fig.request_resize(ui.size.width, ui.size.height);\n",
       "        },\n",
       "    });\n",
       "\n",
       "    function mouse_event_fn(event) {\n",
       "        if (pass_mouse_events)\n",
       "            return fig.mouse_event(event, event['data']);\n",
       "    }\n",
       "\n",
       "    rubberband.mousedown('button_press', mouse_event_fn);\n",
       "    rubberband.mouseup('button_release', mouse_event_fn);\n",
       "    // Throttle sequential mouse events to 1 every 20ms.\n",
       "    rubberband.mousemove('motion_notify', mouse_event_fn);\n",
       "\n",
       "    rubberband.mouseenter('figure_enter', mouse_event_fn);\n",
       "    rubberband.mouseleave('figure_leave', mouse_event_fn);\n",
       "\n",
       "    canvas_div.on(\"wheel\", function (event) {\n",
       "        event = event.originalEvent;\n",
       "        event['data'] = 'scroll'\n",
       "        if (event.deltaY < 0) {\n",
       "            event.step = 1;\n",
       "        } else {\n",
       "            event.step = -1;\n",
       "        }\n",
       "        mouse_event_fn(event);\n",
       "    });\n",
       "\n",
       "    canvas_div.append(canvas);\n",
       "    canvas_div.append(rubberband);\n",
       "\n",
       "    this.rubberband = rubberband;\n",
       "    this.rubberband_canvas = rubberband[0];\n",
       "    this.rubberband_context = rubberband[0].getContext(\"2d\");\n",
       "    this.rubberband_context.strokeStyle = \"#000000\";\n",
       "\n",
       "    this._resize_canvas = function(width, height) {\n",
       "        // Keep the size of the canvas, canvas container, and rubber band\n",
       "        // canvas in synch.\n",
       "        canvas_div.css('width', width)\n",
       "        canvas_div.css('height', height)\n",
       "\n",
       "        canvas.attr('width', width);\n",
       "        canvas.attr('height', height);\n",
       "\n",
       "        rubberband.attr('width', width);\n",
       "        rubberband.attr('height', height);\n",
       "    }\n",
       "\n",
       "    // Set the figure to an initial 600x600px, this will subsequently be updated\n",
       "    // upon first draw.\n",
       "    this._resize_canvas(600, 600);\n",
       "\n",
       "    // Disable right mouse context menu.\n",
       "    $(this.rubberband_canvas).bind(\"contextmenu\",function(e){\n",
       "        return false;\n",
       "    });\n",
       "\n",
       "    function set_focus () {\n",
       "        canvas.focus();\n",
       "        canvas_div.focus();\n",
       "    }\n",
       "\n",
       "    window.setTimeout(set_focus, 100);\n",
       "}\n",
       "\n",
       "mpl.figure.prototype._init_toolbar = function() {\n",
       "    var fig = this;\n",
       "\n",
       "    var nav_element = $('<div/>')\n",
       "    nav_element.attr('style', 'width: 100%');\n",
       "    this.root.append(nav_element);\n",
       "\n",
       "    // Define a callback function for later on.\n",
       "    function toolbar_event(event) {\n",
       "        return fig.toolbar_button_onclick(event['data']);\n",
       "    }\n",
       "    function toolbar_mouse_event(event) {\n",
       "        return fig.toolbar_button_onmouseover(event['data']);\n",
       "    }\n",
       "\n",
       "    for(var toolbar_ind in mpl.toolbar_items) {\n",
       "        var name = mpl.toolbar_items[toolbar_ind][0];\n",
       "        var tooltip = mpl.toolbar_items[toolbar_ind][1];\n",
       "        var image = mpl.toolbar_items[toolbar_ind][2];\n",
       "        var method_name = mpl.toolbar_items[toolbar_ind][3];\n",
       "\n",
       "        if (!name) {\n",
       "            // put a spacer in here.\n",
       "            continue;\n",
       "        }\n",
       "        var button = $('<button/>');\n",
       "        button.addClass('ui-button ui-widget ui-state-default ui-corner-all ' +\n",
       "                        'ui-button-icon-only');\n",
       "        button.attr('role', 'button');\n",
       "        button.attr('aria-disabled', 'false');\n",
       "        button.click(method_name, toolbar_event);\n",
       "        button.mouseover(tooltip, toolbar_mouse_event);\n",
       "\n",
       "        var icon_img = $('<span/>');\n",
       "        icon_img.addClass('ui-button-icon-primary ui-icon');\n",
       "        icon_img.addClass(image);\n",
       "        icon_img.addClass('ui-corner-all');\n",
       "\n",
       "        var tooltip_span = $('<span/>');\n",
       "        tooltip_span.addClass('ui-button-text');\n",
       "        tooltip_span.html(tooltip);\n",
       "\n",
       "        button.append(icon_img);\n",
       "        button.append(tooltip_span);\n",
       "\n",
       "        nav_element.append(button);\n",
       "    }\n",
       "\n",
       "    var fmt_picker_span = $('<span/>');\n",
       "\n",
       "    var fmt_picker = $('<select/>');\n",
       "    fmt_picker.addClass('mpl-toolbar-option ui-widget ui-widget-content');\n",
       "    fmt_picker_span.append(fmt_picker);\n",
       "    nav_element.append(fmt_picker_span);\n",
       "    this.format_dropdown = fmt_picker[0];\n",
       "\n",
       "    for (var ind in mpl.extensions) {\n",
       "        var fmt = mpl.extensions[ind];\n",
       "        var option = $(\n",
       "            '<option/>', {selected: fmt === mpl.default_extension}).html(fmt);\n",
       "        fmt_picker.append(option)\n",
       "    }\n",
       "\n",
       "    // Add hover states to the ui-buttons\n",
       "    $( \".ui-button\" ).hover(\n",
       "        function() { $(this).addClass(\"ui-state-hover\");},\n",
       "        function() { $(this).removeClass(\"ui-state-hover\");}\n",
       "    );\n",
       "\n",
       "    var status_bar = $('<span class=\"mpl-message\"/>');\n",
       "    nav_element.append(status_bar);\n",
       "    this.message = status_bar[0];\n",
       "}\n",
       "\n",
       "mpl.figure.prototype.request_resize = function(x_pixels, y_pixels) {\n",
       "    // Request matplotlib to resize the figure. Matplotlib will then trigger a resize in the client,\n",
       "    // which will in turn request a refresh of the image.\n",
       "    this.send_message('resize', {'width': x_pixels, 'height': y_pixels});\n",
       "}\n",
       "\n",
       "mpl.figure.prototype.send_message = function(type, properties) {\n",
       "    properties['type'] = type;\n",
       "    properties['figure_id'] = this.id;\n",
       "    this.ws.send(JSON.stringify(properties));\n",
       "}\n",
       "\n",
       "mpl.figure.prototype.send_draw_message = function() {\n",
       "    if (!this.waiting) {\n",
       "        this.waiting = true;\n",
       "        this.ws.send(JSON.stringify({type: \"draw\", figure_id: this.id}));\n",
       "    }\n",
       "}\n",
       "\n",
       "\n",
       "mpl.figure.prototype.handle_save = function(fig, msg) {\n",
       "    var format_dropdown = fig.format_dropdown;\n",
       "    var format = format_dropdown.options[format_dropdown.selectedIndex].value;\n",
       "    fig.ondownload(fig, format);\n",
       "}\n",
       "\n",
       "\n",
       "mpl.figure.prototype.handle_resize = function(fig, msg) {\n",
       "    var size = msg['size'];\n",
       "    if (size[0] != fig.canvas.width || size[1] != fig.canvas.height) {\n",
       "        fig._resize_canvas(size[0], size[1]);\n",
       "        fig.send_message(\"refresh\", {});\n",
       "    };\n",
       "}\n",
       "\n",
       "mpl.figure.prototype.handle_rubberband = function(fig, msg) {\n",
       "    var x0 = msg['x0'];\n",
       "    var y0 = fig.canvas.height - msg['y0'];\n",
       "    var x1 = msg['x1'];\n",
       "    var y1 = fig.canvas.height - msg['y1'];\n",
       "    x0 = Math.floor(x0) + 0.5;\n",
       "    y0 = Math.floor(y0) + 0.5;\n",
       "    x1 = Math.floor(x1) + 0.5;\n",
       "    y1 = Math.floor(y1) + 0.5;\n",
       "    var min_x = Math.min(x0, x1);\n",
       "    var min_y = Math.min(y0, y1);\n",
       "    var width = Math.abs(x1 - x0);\n",
       "    var height = Math.abs(y1 - y0);\n",
       "\n",
       "    fig.rubberband_context.clearRect(\n",
       "        0, 0, fig.canvas.width, fig.canvas.height);\n",
       "\n",
       "    fig.rubberband_context.strokeRect(min_x, min_y, width, height);\n",
       "}\n",
       "\n",
       "mpl.figure.prototype.handle_figure_label = function(fig, msg) {\n",
       "    // Updates the figure title.\n",
       "    fig.header.textContent = msg['label'];\n",
       "}\n",
       "\n",
       "mpl.figure.prototype.handle_cursor = function(fig, msg) {\n",
       "    var cursor = msg['cursor'];\n",
       "    switch(cursor)\n",
       "    {\n",
       "    case 0:\n",
       "        cursor = 'pointer';\n",
       "        break;\n",
       "    case 1:\n",
       "        cursor = 'default';\n",
       "        break;\n",
       "    case 2:\n",
       "        cursor = 'crosshair';\n",
       "        break;\n",
       "    case 3:\n",
       "        cursor = 'move';\n",
       "        break;\n",
       "    }\n",
       "    fig.rubberband_canvas.style.cursor = cursor;\n",
       "}\n",
       "\n",
       "mpl.figure.prototype.handle_message = function(fig, msg) {\n",
       "    fig.message.textContent = msg['message'];\n",
       "}\n",
       "\n",
       "mpl.figure.prototype.handle_draw = function(fig, msg) {\n",
       "    // Request the server to send over a new figure.\n",
       "    fig.send_draw_message();\n",
       "}\n",
       "\n",
       "mpl.figure.prototype.handle_image_mode = function(fig, msg) {\n",
       "    fig.image_mode = msg['mode'];\n",
       "}\n",
       "\n",
       "mpl.figure.prototype.updated_canvas_event = function() {\n",
       "    // Called whenever the canvas gets updated.\n",
       "    this.send_message(\"ack\", {});\n",
       "}\n",
       "\n",
       "// A function to construct a web socket function for onmessage handling.\n",
       "// Called in the figure constructor.\n",
       "mpl.figure.prototype._make_on_message_function = function(fig) {\n",
       "    return function socket_on_message(evt) {\n",
       "        if (evt.data instanceof Blob) {\n",
       "            /* FIXME: We get \"Resource interpreted as Image but\n",
       "             * transferred with MIME type text/plain:\" errors on\n",
       "             * Chrome.  But how to set the MIME type?  It doesn't seem\n",
       "             * to be part of the websocket stream */\n",
       "            evt.data.type = \"image/png\";\n",
       "\n",
       "            /* Free the memory for the previous frames */\n",
       "            if (fig.imageObj.src) {\n",
       "                (window.URL || window.webkitURL).revokeObjectURL(\n",
       "                    fig.imageObj.src);\n",
       "            }\n",
       "\n",
       "            fig.imageObj.src = (window.URL || window.webkitURL).createObjectURL(\n",
       "                evt.data);\n",
       "            fig.updated_canvas_event();\n",
       "            return;\n",
       "        }\n",
       "        else if (typeof evt.data === 'string' && evt.data.slice(0, 21) == \"data:image/png;base64\") {\n",
       "            fig.imageObj.src = evt.data;\n",
       "            fig.updated_canvas_event();\n",
       "            return;\n",
       "        }\n",
       "\n",
       "        var msg = JSON.parse(evt.data);\n",
       "        var msg_type = msg['type'];\n",
       "\n",
       "        // Call the  \"handle_{type}\" callback, which takes\n",
       "        // the figure and JSON message as its only arguments.\n",
       "        try {\n",
       "            var callback = fig[\"handle_\" + msg_type];\n",
       "        } catch (e) {\n",
       "            console.log(\"No handler for the '\" + msg_type + \"' message type: \", msg);\n",
       "            return;\n",
       "        }\n",
       "\n",
       "        if (callback) {\n",
       "            try {\n",
       "                // console.log(\"Handling '\" + msg_type + \"' message: \", msg);\n",
       "                callback(fig, msg);\n",
       "            } catch (e) {\n",
       "                console.log(\"Exception inside the 'handler_\" + msg_type + \"' callback:\", e, e.stack, msg);\n",
       "            }\n",
       "        }\n",
       "    };\n",
       "}\n",
       "\n",
       "// from http://stackoverflow.com/questions/1114465/getting-mouse-location-in-canvas\n",
       "mpl.findpos = function(e) {\n",
       "    //this section is from http://www.quirksmode.org/js/events_properties.html\n",
       "    var targ;\n",
       "    if (!e)\n",
       "        e = window.event;\n",
       "    if (e.target)\n",
       "        targ = e.target;\n",
       "    else if (e.srcElement)\n",
       "        targ = e.srcElement;\n",
       "    if (targ.nodeType == 3) // defeat Safari bug\n",
       "        targ = targ.parentNode;\n",
       "\n",
       "    // jQuery normalizes the pageX and pageY\n",
       "    // pageX,Y are the mouse positions relative to the document\n",
       "    // offset() returns the position of the element relative to the document\n",
       "    var x = e.pageX - $(targ).offset().left;\n",
       "    var y = e.pageY - $(targ).offset().top;\n",
       "\n",
       "    return {\"x\": x, \"y\": y};\n",
       "};\n",
       "\n",
       "mpl.figure.prototype.mouse_event = function(event, name) {\n",
       "    var canvas_pos = mpl.findpos(event)\n",
       "\n",
       "    if (name === 'button_press')\n",
       "    {\n",
       "        this.canvas.focus();\n",
       "        this.canvas_div.focus();\n",
       "    }\n",
       "\n",
       "    var x = canvas_pos.x;\n",
       "    var y = canvas_pos.y;\n",
       "\n",
       "    this.send_message(name, {x: x, y: y, button: event.button,\n",
       "                             step: event.step});\n",
       "\n",
       "    /* This prevents the web browser from automatically changing to\n",
       "     * the text insertion cursor when the button is pressed.  We want\n",
       "     * to control all of the cursor setting manually through the\n",
       "     * 'cursor' event from matplotlib */\n",
       "    event.preventDefault();\n",
       "    return false;\n",
       "}\n",
       "\n",
       "mpl.figure.prototype._key_event_extra = function(event, name) {\n",
       "    // Handle any extra behaviour associated with a key event\n",
       "}\n",
       "\n",
       "mpl.figure.prototype.key_event = function(event, name) {\n",
       "\n",
       "    // Prevent repeat events\n",
       "    if (name == 'key_press')\n",
       "    {\n",
       "        if (event.which === this._key)\n",
       "            return;\n",
       "        else\n",
       "            this._key = event.which;\n",
       "    }\n",
       "    if (name == 'key_release')\n",
       "        this._key = null;\n",
       "\n",
       "    var value = '';\n",
       "    if (event.ctrlKey && event.which != 17)\n",
       "        value += \"ctrl+\";\n",
       "    if (event.altKey && event.which != 18)\n",
       "        value += \"alt+\";\n",
       "    if (event.shiftKey && event.which != 16)\n",
       "        value += \"shift+\";\n",
       "\n",
       "    value += 'k';\n",
       "    value += event.which.toString();\n",
       "\n",
       "    this._key_event_extra(event, name);\n",
       "\n",
       "    this.send_message(name, {key: value});\n",
       "    return false;\n",
       "}\n",
       "\n",
       "mpl.figure.prototype.toolbar_button_onclick = function(name) {\n",
       "    if (name == 'download') {\n",
       "        this.handle_save(this, null);\n",
       "    } else {\n",
       "        this.send_message(\"toolbar_button\", {name: name});\n",
       "    }\n",
       "};\n",
       "\n",
       "mpl.figure.prototype.toolbar_button_onmouseover = function(tooltip) {\n",
       "    this.message.textContent = tooltip;\n",
       "};\n",
       "mpl.toolbar_items = [[\"Home\", \"Reset original view\", \"fa fa-home icon-home\", \"home\"], [\"Back\", \"Back to  previous view\", \"fa fa-arrow-left icon-arrow-left\", \"back\"], [\"Forward\", \"Forward to next view\", \"fa fa-arrow-right icon-arrow-right\", \"forward\"], [\"\", \"\", \"\", \"\"], [\"Pan\", \"Pan axes with left mouse, zoom with right\", \"fa fa-arrows icon-move\", \"pan\"], [\"Zoom\", \"Zoom to rectangle\", \"fa fa-square-o icon-check-empty\", \"zoom\"], [\"\", \"\", \"\", \"\"], [\"Download\", \"Download plot\", \"fa fa-floppy-o icon-save\", \"download\"]];\n",
       "\n",
       "mpl.extensions = [\"eps\", \"jpeg\", \"pdf\", \"png\", \"ps\", \"raw\", \"svg\", \"tif\"];\n",
       "\n",
       "mpl.default_extension = \"png\";var comm_websocket_adapter = function(comm) {\n",
       "    // Create a \"websocket\"-like object which calls the given IPython comm\n",
       "    // object with the appropriate methods. Currently this is a non binary\n",
       "    // socket, so there is still some room for performance tuning.\n",
       "    var ws = {};\n",
       "\n",
       "    ws.close = function() {\n",
       "        comm.close()\n",
       "    };\n",
       "    ws.send = function(m) {\n",
       "        //console.log('sending', m);\n",
       "        comm.send(m);\n",
       "    };\n",
       "    // Register the callback with on_msg.\n",
       "    comm.on_msg(function(msg) {\n",
       "        //console.log('receiving', msg['content']['data'], msg);\n",
       "        // Pass the mpl event to the overriden (by mpl) onmessage function.\n",
       "        ws.onmessage(msg['content']['data'])\n",
       "    });\n",
       "    return ws;\n",
       "}\n",
       "\n",
       "mpl.mpl_figure_comm = function(comm, msg) {\n",
       "    // This is the function which gets called when the mpl process\n",
       "    // starts-up an IPython Comm through the \"matplotlib\" channel.\n",
       "\n",
       "    var id = msg.content.data.id;\n",
       "    // Get hold of the div created by the display call when the Comm\n",
       "    // socket was opened in Python.\n",
       "    var element = $(\"#\" + id);\n",
       "    var ws_proxy = comm_websocket_adapter(comm)\n",
       "\n",
       "    function ondownload(figure, format) {\n",
       "        window.open(figure.imageObj.src);\n",
       "    }\n",
       "\n",
       "    var fig = new mpl.figure(id, ws_proxy,\n",
       "                           ondownload,\n",
       "                           element.get(0));\n",
       "\n",
       "    // Call onopen now - mpl needs it, as it is assuming we've passed it a real\n",
       "    // web socket which is closed, not our websocket->open comm proxy.\n",
       "    ws_proxy.onopen();\n",
       "\n",
       "    fig.parent_element = element.get(0);\n",
       "    fig.cell_info = mpl.find_output_cell(\"<div id='\" + id + \"'></div>\");\n",
       "    if (!fig.cell_info) {\n",
       "        console.error(\"Failed to find cell for figure\", id, fig);\n",
       "        return;\n",
       "    }\n",
       "\n",
       "    var output_index = fig.cell_info[2]\n",
       "    var cell = fig.cell_info[0];\n",
       "\n",
       "};\n",
       "\n",
       "mpl.figure.prototype.handle_close = function(fig, msg) {\n",
       "    // Update the output cell to use the data from the current canvas.\n",
       "    fig.push_to_output();\n",
       "    var dataURL = fig.canvas.toDataURL();\n",
       "    // Re-enable the keyboard manager in IPython - without this line, in FF,\n",
       "    // the notebook keyboard shortcuts fail.\n",
       "    IPython.keyboard_manager.enable()\n",
       "    $(fig.parent_element).html('<img src=\"' + dataURL + '\">');\n",
       "    fig.send_message('closing', {});\n",
       "    fig.ws.close()\n",
       "}\n",
       "\n",
       "mpl.figure.prototype.push_to_output = function(remove_interactive) {\n",
       "    // Turn the data on the canvas into data in the output cell.\n",
       "    var dataURL = this.canvas.toDataURL();\n",
       "    this.cell_info[1]['text/html'] = '<img src=\"' + dataURL + '\">';\n",
       "}\n",
       "\n",
       "mpl.figure.prototype.updated_canvas_event = function() {\n",
       "    // Tell IPython that the notebook contents must change.\n",
       "    IPython.notebook.set_dirty(true);\n",
       "    this.send_message(\"ack\", {});\n",
       "    var fig = this;\n",
       "    // Wait a second, then push the new image to the DOM so\n",
       "    // that it is saved nicely (might be nice to debounce this).\n",
       "    setTimeout(function () { fig.push_to_output() }, 1000);\n",
       "}\n",
       "\n",
       "mpl.figure.prototype._init_toolbar = function() {\n",
       "    var fig = this;\n",
       "\n",
       "    var nav_element = $('<div/>')\n",
       "    nav_element.attr('style', 'width: 100%');\n",
       "    this.root.append(nav_element);\n",
       "\n",
       "    // Define a callback function for later on.\n",
       "    function toolbar_event(event) {\n",
       "        return fig.toolbar_button_onclick(event['data']);\n",
       "    }\n",
       "    function toolbar_mouse_event(event) {\n",
       "        return fig.toolbar_button_onmouseover(event['data']);\n",
       "    }\n",
       "\n",
       "    for(var toolbar_ind in mpl.toolbar_items){\n",
       "        var name = mpl.toolbar_items[toolbar_ind][0];\n",
       "        var tooltip = mpl.toolbar_items[toolbar_ind][1];\n",
       "        var image = mpl.toolbar_items[toolbar_ind][2];\n",
       "        var method_name = mpl.toolbar_items[toolbar_ind][3];\n",
       "\n",
       "        if (!name) { continue; };\n",
       "\n",
       "        var button = $('<button class=\"btn btn-default\" href=\"#\" title=\"' + name + '\"><i class=\"fa ' + image + ' fa-lg\"></i></button>');\n",
       "        button.click(method_name, toolbar_event);\n",
       "        button.mouseover(tooltip, toolbar_mouse_event);\n",
       "        nav_element.append(button);\n",
       "    }\n",
       "\n",
       "    // Add the status bar.\n",
       "    var status_bar = $('<span class=\"mpl-message\" style=\"text-align:right; float: right;\"/>');\n",
       "    nav_element.append(status_bar);\n",
       "    this.message = status_bar[0];\n",
       "\n",
       "    // Add the close button to the window.\n",
       "    var buttongrp = $('<div class=\"btn-group inline pull-right\"></div>');\n",
       "    var button = $('<button class=\"btn btn-mini btn-danger\" href=\"#\" title=\"Close figure\"><i class=\"fa fa-times icon-remove icon-large\"></i></button>');\n",
       "    button.click(function (evt) { fig.handle_close(fig, {}); } );\n",
       "    button.mouseover('Close figure', toolbar_mouse_event);\n",
       "    buttongrp.append(button);\n",
       "    var titlebar = this.root.find($('.ui-dialog-titlebar'));\n",
       "    titlebar.prepend(buttongrp);\n",
       "}\n",
       "\n",
       "\n",
       "mpl.figure.prototype._canvas_extra_style = function(el){\n",
       "    // this is important to make the div 'focusable\n",
       "    el.attr('tabindex', 0)\n",
       "    // reach out to IPython and tell the keyboard manager to turn it's self\n",
       "    // off when our div gets focus\n",
       "\n",
       "    // location in version 3\n",
       "    if (IPython.notebook.keyboard_manager) {\n",
       "        IPython.notebook.keyboard_manager.register_events(el);\n",
       "    }\n",
       "    else {\n",
       "        // location in version 2\n",
       "        IPython.keyboard_manager.register_events(el);\n",
       "    }\n",
       "\n",
       "}\n",
       "\n",
       "mpl.figure.prototype._key_event_extra = function(event, name) {\n",
       "    var manager = IPython.notebook.keyboard_manager;\n",
       "    if (!manager)\n",
       "        manager = IPython.keyboard_manager;\n",
       "\n",
       "    // Check for shift+enter\n",
       "    if (event.shiftKey && event.which == 13) {\n",
       "        this.canvas_div.blur();\n",
       "        event.shiftKey = false;\n",
       "        // Send a \"J\" for go to next cell\n",
       "        event.which = 74;\n",
       "        event.keyCode = 74;\n",
       "        manager.command_mode();\n",
       "        manager.handle_keydown(event);\n",
       "    }\n",
       "}\n",
       "\n",
       "mpl.figure.prototype.handle_save = function(fig, msg) {\n",
       "    fig.ondownload(fig, null);\n",
       "}\n",
       "\n",
       "\n",
       "mpl.find_output_cell = function(html_output) {\n",
       "    // Return the cell and output element which can be found *uniquely* in the notebook.\n",
       "    // Note - this is a bit hacky, but it is done because the \"notebook_saving.Notebook\"\n",
       "    // IPython event is triggered only after the cells have been serialised, which for\n",
       "    // our purposes (turning an active figure into a static one), is too late.\n",
       "    var cells = IPython.notebook.get_cells();\n",
       "    var ncells = cells.length;\n",
       "    for (var i=0; i<ncells; i++) {\n",
       "        var cell = cells[i];\n",
       "        if (cell.cell_type === 'code'){\n",
       "            for (var j=0; j<cell.output_area.outputs.length; j++) {\n",
       "                var data = cell.output_area.outputs[j];\n",
       "                if (data.data) {\n",
       "                    // IPython >= 3 moved mimebundle to data attribute of output\n",
       "                    data = data.data;\n",
       "                }\n",
       "                if (data['text/html'] == html_output) {\n",
       "                    return [cell, data, j];\n",
       "                }\n",
       "            }\n",
       "        }\n",
       "    }\n",
       "}\n",
       "\n",
       "// Register the function which deals with the matplotlib target/channel.\n",
       "// The kernel may be null if the page has been refreshed.\n",
       "if (IPython.notebook.kernel != null) {\n",
       "    IPython.notebook.kernel.comm_manager.register_target('matplotlib', mpl.mpl_figure_comm);\n",
       "}\n"
      ],
      "text/plain": [
       "<IPython.core.display.Javascript object>"
      ]
     },
     "metadata": {},
     "output_type": "display_data"
    },
    {
     "data": {
      "text/html": [
       "<img src=\"data:image/png;base64,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\">"
      ],
      "text/plain": [
       "<IPython.core.display.HTML object>"
      ]
     },
     "metadata": {},
     "output_type": "display_data"
    }
   ],
   "source": [
    "%matplotlib notebook\n",
    "import matplotlib.pyplot as plt\n",
    "\n",
    "fig, ax = plt.subplots()"
   ]
  },
  {
   "cell_type": "code",
   "execution_count": 38,
   "metadata": {
    "collapsed": false
   },
   "outputs": [
    {
     "name": "stdout",
     "output_type": "stream",
     "text": [
      "*** Emitted RunStart:\n",
      "{'beamline_id': 'test', 'owner': 'tester', 'uid': '8bd8e8b6-f1aa-481f-9c9c-6777a0837b9e', 'time': 1433012270.758852, 'scan_id': 123}\n",
      "create: (None), (), {}\n",
      "   ret: None\n",
      "set: (mover: motor), ({'pos': 0},), {}\n",
      "   ret: None\n",
      "trigger: (mover: motor), (), {}\n",
      "   ret: None\n",
      "trigger: (reader: sg), (), {}\n",
      "   ret: None\n",
      "read: (mover: motor), (), {}\n",
      "   ret: {'pos': {'timestamp': 1433012271.165664, 'value': 0}}\n",
      "read: (reader: sg), (), {}\n",
      "   ret: {'intensity': {'timestamp': 1433012271.266142, 'value': 1.0}}\n",
      "*** Emitted Event Descriptor:\n",
      "{'data_keys': {'I': {'source': 'sg', 'dtype': 'number'}, 'pos': {'source': 'motor', 'dtype': 'number'}}, 'run_start': '8bd8e8b6-f1aa-481f-9c9c-6777a0837b9e', 'time': 1433012271.579914, 'uid': '96bcac6f-739b-463c-a8e9-a2be46058579'}\n",
      "*** Emitted Event:\n",
      "{'seq_num': 1, 'data': {'intensity': {'timestamp': 1433012271.266142, 'value': 1.0}, 'pos': {'timestamp': 1433012271.165664, 'value': 0}}, 'uid': '6775765b-ac06-4107-ba73-1b5c0417b50e', 'time': 1433012271.580154, 'descriptor': '96bcac6f-739b-463c-a8e9-a2be46058579'}\n",
      "save: (None), (), {}\n",
      "   ret: None\n",
      "create: (None), (), {}\n",
      "   ret: None\n",
      "set: (mover: motor), ({'pos': 1},), {}\n",
      "   ret: None\n",
      "trigger: (mover: motor), (), {}\n",
      "   ret: None\n",
      "trigger: (reader: sg), (), {}\n",
      "   ret: None\n",
      "read: (mover: motor), (), {}\n",
      "   ret: {'pos': {'timestamp': 1433012271.98938, 'value': 1}}\n",
      "read: (reader: sg), (), {}\n",
      "   ret: {'intensity': {'timestamp': 1433012272.091851, 'value': 0.60653065971263342}}\n",
      "*** Emitted Event:\n",
      "{'seq_num': 2, 'data': {'intensity': {'timestamp': 1433012272.091851, 'value': 0.6065306597126334}, 'pos': {'timestamp': 1433012271.98938, 'value': 1}}, 'uid': 'ced3b1af-41fd-48c9-85a6-7f3edb2f2ede', 'time': 1433012272.398339, 'descriptor': '96bcac6f-739b-463c-a8e9-a2be46058579'}\n",
      "save: (None), (), {}\n",
      "   ret: None\n",
      "create: (None), (), {}\n",
      "   ret: None\n",
      "set: (mover: motor), ({'pos': 2},), {}\n",
      "   ret: None\n",
      "trigger: (mover: motor), (), {}\n",
      "   ret: None\n",
      "trigger: (reader: sg), (), {}\n",
      "   ret: None\n",
      "read: (mover: motor), (), {}\n",
      "   ret: {'pos': {'timestamp': 1433012272.812691, 'value': 2}}\n",
      "read: (reader: sg), (), {}\n",
      "   ret: {'intensity': {'timestamp': 1433012272.9182, 'value': 0.1353352832366127}}\n",
      "*** Emitted Event:\n",
      "{'seq_num': 3, 'data': {'intensity': {'timestamp': 1433012272.9182, 'value': 0.1353352832366127}, 'pos': {'timestamp': 1433012272.812691, 'value': 2}}, 'uid': '57c30ba5-320a-40ed-9e6a-ab473a23e4f2', 'time': 1433012273.226395, 'descriptor': '96bcac6f-739b-463c-a8e9-a2be46058579'}\n",
      "save: (None), (), {}\n",
      "   ret: None\n",
      "create: (None), (), {}\n",
      "   ret: None\n",
      "set: (mover: motor), ({'pos': 3},), {}\n",
      "   ret: None\n",
      "trigger: (mover: motor), (), {}\n",
      "   ret: None\n",
      "trigger: (reader: sg), (), {}\n",
      "   ret: None\n",
      "read: (mover: motor), (), {}\n",
      "   ret: {'pos': {'timestamp': 1433012273.63043, 'value': 3}}\n",
      "read: (reader: sg), (), {}\n",
      "   ret: {'intensity': {'timestamp': 1433012273.7309, 'value': 0.011108996538242306}}\n",
      "*** Emitted Event:\n",
      "{'seq_num': 4, 'data': {'intensity': {'timestamp': 1433012273.7309, 'value': 0.011108996538242306}, 'pos': {'timestamp': 1433012273.63043, 'value': 3}}, 'uid': '86a15a23-3b9a-4716-be8c-76e7605e8c2c', 'time': 1433012274.03863, 'descriptor': '96bcac6f-739b-463c-a8e9-a2be46058579'}\n",
      "save: (None), (), {}\n",
      "   ret: None\n",
      "create: (None), (), {}\n",
      "   ret: None\n",
      "set: (mover: motor), ({'pos': 4},), {}\n",
      "   ret: None\n",
      "trigger: (mover: motor), (), {}\n",
      "   ret: None\n",
      "trigger: (reader: sg), (), {}\n",
      "   ret: None\n",
      "read: (mover: motor), (), {}\n",
      "   ret: {'pos': {'timestamp': 1433012274.448185, 'value': 4}}\n",
      "read: (reader: sg), (), {}\n",
      "   ret: {'intensity': {'timestamp': 1433012274.550009, 'value': 0.00033546262790251185}}\n",
      "*** Emitted Event:\n",
      "{'seq_num': 5, 'data': {'intensity': {'timestamp': 1433012274.550009, 'value': 0.00033546262790251185}, 'pos': {'timestamp': 1433012274.448185, 'value': 4}}, 'uid': 'b2ca0b96-0822-4831-8453-3f4bd6571c7c', 'time': 1433012274.858881, 'descriptor': '96bcac6f-739b-463c-a8e9-a2be46058579'}\n",
      "save: (None), (), {}\n",
      "   ret: None\n",
      "*** Emitted RunStop:\n",
      "{'exit_status': 'success', 'run_start': '8bd8e8b6-f1aa-481f-9c9c-6777a0837b9e', 'time': 1433012274.962844, 'reason': ''}\n"
     ]
    }
   ],
   "source": [
    "def stepscan(motor, detector):\n",
    "    for i in range(5):\n",
    "        yield Msg('create')\n",
    "        yield Msg('set', motor, {'pos': i})\n",
    "        yield Msg('trigger', motor)\n",
    "        yield Msg('trigger', det)\n",
    "        yield Msg('read', motor)\n",
    "        yield Msg('read', detector)\n",
    "        yield Msg('save')\n",
    "\n",
    "def live_scalar_plotter(ax, y, x):\n",
    "    x_data, y_data = [], []\n",
    "    line, = ax.plot([], [], 'ro', markersize=10)\n",
    "    def update_plot(doc):\n",
    "        # Update with the latest data.\n",
    "        x_data.append(doc['data'][x]['value'])\n",
    "        y_data.append(doc['data'][y]['value'])\n",
    "        line.set_data(x_data, y_data)\n",
    "        # Rescale and redraw.\n",
    "        ax.relim(visible_only=True)\n",
    "        ax.autoscale_view(tight=True)\n",
    "        ax.figure.canvas.draw()\n",
    "    return update_plot\n",
    "\n",
    "# Point the function to our axes above, and specify what to plot.\n",
    "my_plotter = live_scalar_plotter(ax, 'intensity', 'pos')\n",
    "\n",
    "RE.run(stepscan(motor, det), subscriptions={'event': my_plotter})"
   ]
  },
  {
   "cell_type": "markdown",
   "metadata": {},
   "source": [
    "### Saving Documents to metadatastore\n",
    "\n",
    "Mission-critical consumers can be run on the scan thread, where they will block the scan until they return from processing the emitted Documents. This should not be used for computationally heavy tasks like visualization. Its only intended use is for saving data to metadatastore, but users can register any consumers they want, at risk of slowing down the scan.\n",
    "\n",
    "```\n",
    "RE._register_scan_callback('event', some_critical_func)\n",
    "```\n",
    "\n",
    "The convenience function `register_mds` registers metadatastore's four `insert_*` functions to consume their four respective Documents. These are registered on the scan thread, so data is guaranteed to be saved in metadatastore."
   ]
  },
  {
   "cell_type": "code",
   "execution_count": 18,
   "metadata": {
    "collapsed": false
   },
   "outputs": [],
   "source": [
    "%run register_mds.py\n",
    "\n",
    "register_mds(RE)"
   ]
  },
  {
   "cell_type": "markdown",
   "metadata": {},
   "source": [
    "We can verify that this worked by loading this one-point scan from the DataBroker and displaying the data using DataMuxer."
   ]
  },
  {
   "cell_type": "code",
   "execution_count": 19,
   "metadata": {
    "collapsed": false
   },
   "outputs": [
    {
     "name": "stdout",
     "output_type": "stream",
     "text": [
      "*** Emitted RunStart:\n",
      "{'beamline_id': 'test', 'uid': '6fdbb66a-cc83-425b-98ee-ca63dcf89f63', 'time': 1433010038.598662, 'scan_id': 123, 'owner': 'tester'}\n",
      "create: (None), (), {}\n",
      "   ret: None\n",
      "set: (mover: motor), ({'pos': 5},), {}\n",
      "   ret: None\n",
      "trigger: (mover: motor), (), {}\n",
      "   ret: None\n",
      "read: (mover: motor), (), {}\n",
      "   ret: {'pos': {'timestamp': 1433010039.031538, 'value': 5}}\n",
      "*** Emitted Event Descriptor:\n",
      "{'time': 1433010039.236176, 'uid': 'efcf48ca-f499-4ad6-8138-ee4272d4aa76', 'run_start': '6fdbb66a-cc83-425b-98ee-ca63dcf89f63', 'data_keys': {'pos': {'source': 'motor', 'dtype': 'number'}}}\n",
      "*** Emitted Event:\n",
      "{'uid': '181409f6-a4bf-4c8a-91b1-1fdbff036956', 'descriptor': 'efcf48ca-f499-4ad6-8138-ee4272d4aa76', 'time': 1433010039.243223, 'data': {'pos': {'timestamp': 1433010039.031538, 'value': 5}}, 'seq_num': 1}\n",
      "save: (None), (), {}\n",
      "   ret: None\n",
      "*** Emitted RunStop:\n",
      "{'reason': '', 'time': 1433010039.351014, 'run_start': '6fdbb66a-cc83-425b-98ee-ca63dcf89f63', 'exit_status': 'success'}\n"
     ]
    }
   ],
   "source": [
    "RE.run(simple_scan_saving(motor))"
   ]
  },
  {
   "cell_type": "code",
   "execution_count": 20,
   "metadata": {
    "collapsed": false
   },
   "outputs": [
    {
     "data": {
      "text/html": [
       "<table><tr><td>beamline_config</td><td><table><tr><td>config_params</td><td><table></table></td></tr><tr><td>time</td><td>1433010038.598757</td></tr><tr><td>time_as_datetime</td><td>2015-05-30 14:20:38.598757  (3 seconds ago)</td></tr><tr><td>uid</td><td>d88dbdcd-135a-401c-93ed-1845c7aedf1b</td></tr></table></td></tr><tr><td>beamline_id</td><td>test</td></tr><tr><td>event_descriptors</td><td><table style='border: none;'><tr style='border: none;' ><td style='border: none;'><table><tr><td>data_keys</td><td><table><tr><td>pos</td><td><table><tr><td>dtype</td><td>number</td></tr><tr><td>external</td><td>None</td></tr><tr><td>shape</td><td><table style='border: none;'></table></td></tr><tr><td>source</td><td>motor</td></tr></table></td></tr></table></td></tr><tr><td>run_start</td><td>6fdbb66a-cc83-425b-98ee-ca63dcf89f63</td></tr><tr><td>time</td><td>1433010039.236176</td></tr><tr><td>time_as_datetime</td><td>2015-05-30 14:20:39.236176  (2 seconds ago)</td></tr><tr><td>uid</td><td>efcf48ca-f499-4ad6-8138-ee4272d4aa76</td></tr></table></td></tr></table></td></tr><tr><td>exit_reason</td><td></td></tr><tr><td>exit_status</td><td>success</td></tr><tr><td>group</td><td></td></tr><tr><td>owner</td><td>tester</td></tr><tr><td>project</td><td></td></tr><tr><td>run_start_uid</td><td>6fdbb66a-cc83-425b-98ee-ca63dcf89f63</td></tr><tr><td>run_stop_uid</td><td>4fce87e3-a25b-46ce-b647-f18e035d9ddf</td></tr><tr><td>sample</td><td><table></table></td></tr><tr><td>scan_id</td><td>123</td></tr><tr><td>start_datetime</td><td>2015-05-30 14:20:38.598661  (3 seconds ago)</td></tr><tr><td>start_time</td><td>1433010038.598662</td></tr><tr><td>stop_datetime</td><td>2015-05-30 14:20:39.351013  (2 seconds ago)</td></tr><tr><td>stop_time</td><td>1433010039.351014</td></tr></table>"
      ],
      "text/plain": [
       "<Header scan_id=123 run_start_uid='6fdbb66a-cc83-425b-98ee-ca63dcf89f63'>"
      ]
     },
     "execution_count": 20,
     "metadata": {},
     "output_type": "execute_result"
    }
   ],
   "source": [
    "from dataportal import DataBroker as db\n",
    "\n",
    "header = db[-1]\n",
    "header"
   ]
  },
  {
   "cell_type": "code",
   "execution_count": 21,
   "metadata": {
    "collapsed": false
   },
   "outputs": [
    {
     "data": {
      "text/html": [
       "<div style=\"max-height:1000px;max-width:1500px;overflow:auto;\">\n",
       "<table border=\"1\" class=\"dataframe\">\n",
       "  <thead>\n",
       "    <tr style=\"text-align: right;\">\n",
       "      <th></th>\n",
       "      <th>pos</th>\n",
       "      <th>time</th>\n",
       "    </tr>\n",
       "  </thead>\n",
       "  <tbody>\n",
       "    <tr>\n",
       "      <th>0</th>\n",
       "      <td> 5</td>\n",
       "      <td>2015-05-30 18:20:39.243223</td>\n",
       "    </tr>\n",
       "  </tbody>\n",
       "</table>\n",
       "</div>"
      ],
      "text/plain": [
       "   pos                       time\n",
       "0    5 2015-05-30 18:20:39.243223"
      ]
     },
     "execution_count": 21,
     "metadata": {},
     "output_type": "execute_result"
    }
   ],
   "source": [
    "from dataportal import DataMuxer as dm\n",
    "\n",
    "dm.from_events(db.fetch_events(header)).to_sparse_dataframe()"
   ]
  },
  {
   "cell_type": "code",
   "execution_count": null,
   "metadata": {
    "collapsed": true
   },
   "outputs": [],
   "source": []
  }
 ],
 "metadata": {
  "gist_id": "435cc2016dea29848cc9",
  "kernelspec": {
   "display_name": "Python 3",
   "language": "python",
   "name": "python3"
  },
  "language_info": {
   "codemirror_mode": {
    "name": "ipython",
    "version": 3
   },
   "file_extension": ".py",
   "mimetype": "text/x-python",
   "name": "python",
   "nbconvert_exporter": "python",
   "pygments_lexer": "ipython3",
   "version": "3.4.3"
  }
 },
 "nbformat": 4,
 "nbformat_minor": 0
}
