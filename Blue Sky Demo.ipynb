{
 "cells": [
  {
   "cell_type": "markdown",
   "metadata": {},
   "source": [
    "# Blue Sky Run Engine\n",
    "\n",
    "Contents:\n",
    "\n",
    "* The Run Engine processes messages\n",
    "* There is two-way communication between the message generator and the Run Engine\n",
    "* Control timing with 'sleep' and 'wait'\n",
    "* Runs can be aborted\n",
    "* Any functions can subscribe to the live data stream (e.g., live plotting)"
   ]
  },
  {
   "cell_type": "code",
   "execution_count": 123,
   "metadata": {
    "collapsed": false
   },
   "outputs": [],
   "source": [
    "%run bs.py\n",
    "\n",
    "motor = Mover('motor', ['pos'])\n",
    "det = SynGauss('sg', motor, 'pos', center=0, Imax=1, sigma=1)"
   ]
  },
  {
   "cell_type": "markdown",
   "metadata": {},
   "source": [
    "## The Run Engine processes messages\n",
    "\n",
    "A message has four parts: a command string, an object, a tuple of positional arguments, and a dictionary of keyword arguments."
   ]
  },
  {
   "cell_type": "code",
   "execution_count": 124,
   "metadata": {
    "collapsed": false
   },
   "outputs": [
    {
     "data": {
      "text/plain": [
       "set: (mover: motor), ({'pos': 5},), {}"
      ]
     },
     "execution_count": 124,
     "metadata": {},
     "output_type": "execute_result"
    }
   ],
   "source": [
    "Msg('set', motor, {'pos': 5})"
   ]
  },
  {
   "cell_type": "code",
   "execution_count": 125,
   "metadata": {
    "collapsed": false
   },
   "outputs": [
    {
     "data": {
      "text/plain": [
       "trigger: (mover: motor), (), {}"
      ]
     },
     "execution_count": 125,
     "metadata": {},
     "output_type": "execute_result"
    }
   ],
   "source": [
    "Msg('trigger', motor)"
   ]
  },
  {
   "cell_type": "code",
   "execution_count": 126,
   "metadata": {
    "collapsed": false
   },
   "outputs": [
    {
     "data": {
      "text/plain": [
       "read: (mover: motor), (), {}"
      ]
     },
     "execution_count": 126,
     "metadata": {},
     "output_type": "execute_result"
    }
   ],
   "source": [
    "Msg('read', motor)"
   ]
  },
  {
   "cell_type": "code",
   "execution_count": 127,
   "metadata": {
    "collapsed": false
   },
   "outputs": [],
   "source": [
    "RE = RunEngine()"
   ]
  },
  {
   "cell_type": "code",
   "execution_count": 120,
   "metadata": {
    "collapsed": false,
    "scrolled": false
   },
   "outputs": [
    {
     "name": "stdout",
     "output_type": "stream",
     "text": [
      "*** Emitted RunStart:\n",
      "{'beamline_id': 'test', 'owner': 'tester', 'uid': 'c44f25fe-b762-41af-8ee6-6cb6d59ea7ca', 'time': 1433020843.839719, 'scan_id': 123}\n",
      "MSG_CACHE None\n",
      "set: (mover: motor), ({'pos': 5},), {}\n",
      "   ret: None\n",
      "MSG_CACHE None\n",
      "trigger: (mover: motor), (), {}\n",
      "   ret: None\n",
      "MSG_CACHE None\n",
      "read: (mover: motor), (), {}\n",
      "   ret: {'pos': {'timestamp': 1433020843.964762, 'value': 5}}\n",
      "MSG_CACHE None\n",
      "*** Emitted RunStop:\n",
      "{'exit_status': 'success', 'run_start': 'c44f25fe-b762-41af-8ee6-6cb6d59ea7ca', 'time': 1433020843.987697, 'reason': ''}\n"
     ]
    }
   ],
   "source": [
    "def simple_scan(motor):\n",
    "    \"Set, trigger, read\"\n",
    "    yield Msg('set', motor, {'pos': 5})\n",
    "    yield Msg('trigger', motor)\n",
    "    yield Msg('read', motor)\n",
    "    \n",
    "RE.run(simple_scan(motor))"
   ]
  },
  {
   "cell_type": "markdown",
   "metadata": {},
   "source": [
    "Moving a motor and reading it back is boring. Let's add a detector."
   ]
  },
  {
   "cell_type": "code",
   "execution_count": 65,
   "metadata": {
    "collapsed": false
   },
   "outputs": [
    {
     "name": "stdout",
     "output_type": "stream",
     "text": [
      "*** Emitted RunStart:\n",
      "{'beamline_id': 'test', 'owner': 'tester', 'uid': '11a05c08-d6fd-4289-a9b8-a3b314b5d040', 'time': 1433019923.099313, 'scan_id': 123}\n",
      "set: (mover: motor), ({'pos': 5},), {}\n",
      "   ret: None\n",
      "trigger: (mover: motor), (), {}\n",
      "   ret: None\n",
      "trigger: (reader: sg), (), {}\n",
      "   ret: None\n",
      "read: (reader: sg), (), {}\n",
      "   ret: {'intensity': {'timestamp': 1433019923.231683, 'value': 3.7266531720786709e-06}}\n",
      "*** Emitted RunStop:\n",
      "{'exit_status': 'success', 'run_start': '11a05c08-d6fd-4289-a9b8-a3b314b5d040', 'time': 1433019923.253892, 'reason': ''}\n"
     ]
    }
   ],
   "source": [
    "def simple_scan2(motor, det):\n",
    "    \"Set, trigger motor, trigger detector, read\"\n",
    "    yield Msg('set', motor, {'pos': 5})\n",
    "    yield Msg('trigger', motor)\n",
    "    yield Msg('trigger', det)\n",
    "    yield Msg('read', det)\n",
    "    \n",
    "RE.run(simple_scan2(motor, det))"
   ]
  },
  {
   "cell_type": "markdown",
   "metadata": {},
   "source": [
    "## There is two-way communication between the message generator and the Run Engine"
   ]
  },
  {
   "cell_type": "markdown",
   "metadata": {},
   "source": [
    "Above we the three messages with the responses they generated from the RunEngine. We can use these responses to make our scan adaptive."
   ]
  },
  {
   "cell_type": "code",
   "execution_count": 66,
   "metadata": {
    "collapsed": false
   },
   "outputs": [
    {
     "name": "stdout",
     "output_type": "stream",
     "text": [
      "*** Emitted RunStart:\n",
      "{'beamline_id': 'test', 'owner': 'tester', 'uid': '9445c9c4-7bcc-4855-8649-4e7616ed819f', 'time': 1433019924.926932, 'scan_id': 123}\n",
      "LOOP 0\n",
      "set: (mover: motor), ({'pos': 0},), {}\n",
      "   ret: None\n",
      "trigger: (mover: motor), (), {}\n",
      "   ret: None\n",
      "trigger: (reader: sg), (), {}\n",
      "   ret: None\n",
      "read: (reader: sg), (), {}\n",
      "   ret: {'intensity': {'timestamp': 1433019925.060256, 'value': 1.0}}\n",
      "LOOP 1\n",
      "set: (mover: motor), ({'pos': 1},), {}\n",
      "   ret: None\n",
      "trigger: (mover: motor), (), {}\n",
      "   ret: None\n",
      "trigger: (reader: sg), (), {}\n",
      "   ret: None\n",
      "read: (reader: sg), (), {}\n",
      "   ret: {'intensity': {'timestamp': 1433019925.212962, 'value': 0.60653065971263342}}\n",
      "LOOP 2\n",
      "set: (mover: motor), ({'pos': 2},), {}\n",
      "   ret: None\n",
      "trigger: (mover: motor), (), {}\n",
      "   ret: None\n",
      "trigger: (reader: sg), (), {}\n",
      "   ret: None\n",
      "read: (reader: sg), (), {}\n",
      "   ret: {'intensity': {'timestamp': 1433019925.365138, 'value': 0.1353352832366127}}\n",
      "DONE\n",
      "*** Emitted RunStop:\n",
      "{'exit_status': 'success', 'run_start': '9445c9c4-7bcc-4855-8649-4e7616ed819f', 'time': 1433019925.387229, 'reason': ''}\n"
     ]
    }
   ],
   "source": [
    "def adaptive_scan(motor, det, threshold):\n",
    "    \"\"\"Set, trigger, read until the detector reads intensity < threshold\"\"\"\n",
    "    i = 0\n",
    "    while True:\n",
    "        print(\"LOOP %d\" % i)\n",
    "        yield Msg('set', motor, {'pos': i})\n",
    "        yield Msg('trigger', motor)\n",
    "        yield Msg('trigger', det)\n",
    "        reading = yield Msg('read', det)\n",
    "        if reading['intensity']['value'] < threshold:\n",
    "            print('DONE')\n",
    "            break\n",
    "        i += 1\n",
    "\n",
    "RE.run(adaptive_scan(motor, det, 0.2))"
   ]
  },
  {
   "cell_type": "markdown",
   "metadata": {},
   "source": [
    "## Control timing with 'sleep' and 'wait'"
   ]
  },
  {
   "cell_type": "markdown",
   "metadata": {},
   "source": [
    "The 'sleep' command is as simple as it sounds."
   ]
  },
  {
   "cell_type": "code",
   "execution_count": 67,
   "metadata": {
    "collapsed": false
   },
   "outputs": [
    {
     "name": "stdout",
     "output_type": "stream",
     "text": [
      "*** Emitted RunStart:\n",
      "{'beamline_id': 'test', 'owner': 'tester', 'uid': '0fe6e401-ea69-4a90-b923-6194535c4093', 'time': 1433019927.041067, 'scan_id': 123}\n",
      "set: (mover: motor), ({'pos': 5},), {}\n",
      "   ret: None\n",
      "trigger: (mover: motor), (), {}\n",
      "   ret: None\n",
      "sleep: (None), (2,), {}\n",
      "   ret: None\n",
      "trigger: (reader: sg), (), {}\n",
      "   ret: None\n",
      "read: (reader: sg), (), {}\n",
      "   ret: {'intensity': {'timestamp': 1433019929.190734, 'value': 3.7266531720786709e-06}}\n",
      "*** Emitted RunStop:\n",
      "{'exit_status': 'success', 'run_start': '0fe6e401-ea69-4a90-b923-6194535c4093', 'time': 1433019929.211809, 'reason': ''}\n"
     ]
    }
   ],
   "source": [
    "def sleepy_scan(motor, det):\n",
    "    \"Set, trigger motor, sleep for a fixed time, trigger detector, read\"\n",
    "    yield Msg('set', motor, {'pos': 5})\n",
    "    yield Msg('trigger', motor)\n",
    "    yield Msg('sleep', None, 2)  # units: seconds\n",
    "    yield Msg('trigger', det)\n",
    "    yield Msg('read', det)\n",
    "    \n",
    "RE.run(sleepy_scan(motor, det))"
   ]
  },
  {
   "cell_type": "markdown",
   "metadata": {},
   "source": [
    "The 'wait' command is more powerful. It watches for Movers (e.g., `motor`) to report being done.\n",
    "\n",
    "### Wait for one motor to be done moving"
   ]
  },
  {
   "cell_type": "code",
   "execution_count": 68,
   "metadata": {
    "collapsed": false
   },
   "outputs": [
    {
     "name": "stdout",
     "output_type": "stream",
     "text": [
      "*** Emitted RunStart:\n",
      "{'beamline_id': 'test', 'owner': 'tester', 'uid': '17125590-058e-498d-a5ff-dd9004bfde83', 'time': 1433019929.546638, 'scan_id': 123}\n",
      "set: (mover: motor), ({'pos': 5},), {}\n",
      "   ret: None\n",
      "trigger: (mover: motor), (), {'block_group': 'A'}\n",
      "   ret: None\n",
      "wait: (None), ('A',), {}\n",
      "   ret: {mover: motor}\n",
      "trigger: (reader: sg), (), {}\n",
      "   ret: None\n",
      "read: (reader: sg), (), {}\n",
      "   ret: {'intensity': {'timestamp': 1433019929.694684, 'value': 3.7266531720786709e-06}}\n",
      "*** Emitted RunStop:\n",
      "{'exit_status': 'success', 'run_start': '17125590-058e-498d-a5ff-dd9004bfde83', 'time': 1433019929.719068, 'reason': ''}\n"
     ]
    }
   ],
   "source": [
    "def wait_one(motor, det):\n",
    "    \"Set, trigger, read\"\n",
    "    yield Msg('set', motor, {'pos': 5})\n",
    "    yield Msg('trigger', motor, block_group='A')  # Add motor to group 'A'.\n",
    "    yield Msg('wait', None, 'A')  # Wait for everything in group 'A' to report done.\n",
    "    yield Msg('trigger', det)\n",
    "    yield Msg('read', det)\n",
    "    \n",
    "RE.run(wait_one(motor, det))"
   ]
  },
  {
   "cell_type": "markdown",
   "metadata": {},
   "source": [
    "Notice, in the log, that the response to `wait` is the set of Movers the scan was waiting on."
   ]
  },
  {
   "cell_type": "markdown",
   "metadata": {},
   "source": [
    "### Wait for two motors to both be done moving"
   ]
  },
  {
   "cell_type": "code",
   "execution_count": 69,
   "metadata": {
    "collapsed": false
   },
   "outputs": [
    {
     "name": "stdout",
     "output_type": "stream",
     "text": [
      "*** Emitted RunStart:\n",
      "{'beamline_id': 'test', 'owner': 'tester', 'uid': '0380714e-48d9-45f2-b772-aca8c9eb094f', 'time': 1433019930.623692, 'scan_id': 123}\n",
      "set: (mover: motor1), ({'pos': 5},), {}\n",
      "   ret: None\n",
      "trigger: (mover: motor1), (), {'block_group': 'A'}\n",
      "   ret: None\n",
      "set: (mover: motor2), ({'pos': 5},), {}\n",
      "   ret: None\n",
      "trigger: (mover: motor2), (), {'block_group': 'A'}\n",
      "   ret: None\n",
      "wait: (None), ('A',), {}\n",
      "   ret: {mover: motor1, mover: motor2}\n",
      "trigger: (reader: sg), (), {}\n",
      "   ret: None\n",
      "read: (reader: sg), (), {}\n",
      "   ret: {'intensity': {'timestamp': 1433019930.907667, 'value': 3.7266531720786709e-06}}\n",
      "*** Emitted RunStop:\n",
      "{'exit_status': 'success', 'run_start': '0380714e-48d9-45f2-b772-aca8c9eb094f', 'time': 1433019930.929627, 'reason': ''}\n"
     ]
    }
   ],
   "source": [
    "def wait_multiple(motors, det):\n",
    "    \"Set motors, trigger all motors, wait for all motors to move.\"\n",
    "    for motor in motors:\n",
    "        yield Msg('set', motor, {'pos': 5})\n",
    "        yield Msg('trigger', motor, block_group='A')  # Trigger each motor and add it to group 'A'.\n",
    "    yield Msg('wait', None, 'A')  # Wait for everything in group 'A' to report done.\n",
    "    yield Msg('trigger', det)\n",
    "    yield Msg('read', det)\n",
    "\n",
    "motor1 = Mover('motor1', ['pos'])\n",
    "motor2 = Mover('motor2', ['pos'])\n",
    "\n",
    "RE.run(wait_multiple([motor1, motor2], det))"
   ]
  },
  {
   "cell_type": "markdown",
   "metadata": {},
   "source": [
    "### Advanced Example: Wait for different groups of motors at different points in the run\n",
    "\n",
    "If the `'A'` bit seems pointless, the payoff is here. We trigger all the motors at once, wait for the first two, read, wait for the last one, and read again. This is merely meant to show that complex control flow is possible."
   ]
  },
  {
   "cell_type": "code",
   "execution_count": 70,
   "metadata": {
    "collapsed": false
   },
   "outputs": [
    {
     "name": "stdout",
     "output_type": "stream",
     "text": [
      "*** Emitted RunStart:\n",
      "{'beamline_id': 'test', 'owner': 'tester', 'uid': '6a4eb800-3b42-4f88-af9a-2aea603fda28', 'time': 1433019931.429841, 'scan_id': 123}\n",
      "set: (mover: motor1), ({'pos': 5},), {}\n",
      "   ret: None\n",
      "trigger: (mover: motor1), (), {'block_group': 'A'}\n",
      "   ret: None\n",
      "set: (mover: motor2), ({'pos': 5},), {}\n",
      "   ret: None\n",
      "trigger: (mover: motor2), (), {'block_group': 'A'}\n",
      "   ret: None\n",
      "set: (mover: motor3), ({'pos': 5},), {}\n",
      "   ret: None\n",
      "trigger: (mover: motor3), (), {'block_group': 'B'}\n",
      "   ret: None\n",
      "wait: (None), ('A',), {}\n",
      "   ret: {mover: motor1, mover: motor2}\n",
      "trigger: (reader: sg), (), {}\n",
      "   ret: None\n",
      "read: (reader: sg), (), {}\n",
      "   ret: {'intensity': {'timestamp': 1433019931.827563, 'value': 3.7266531720786709e-06}}\n",
      "wait: (None), ('B',), {}\n",
      "   ret: {mover: motor3}\n",
      "trigger: (reader: sg), (), {}\n",
      "   ret: None\n",
      "read: (reader: sg), (), {}\n",
      "   ret: {'intensity': {'timestamp': 1433019931.865908, 'value': 3.7266531720786709e-06}}\n",
      "*** Emitted RunStop:\n",
      "{'exit_status': 'success', 'run_start': '6a4eb800-3b42-4f88-af9a-2aea603fda28', 'time': 1433019931.889311, 'reason': ''}\n"
     ]
    }
   ],
   "source": [
    "def wait_complex(motors, det):\n",
    "    \"Set motors, trigger motors, wait for all motors to move.\"\n",
    "    # Same as above...\n",
    "    for motor in motors[:-1]:\n",
    "        yield Msg('set', motor, {'pos': 5})\n",
    "        yield Msg('trigger', motor, block_group='A')\n",
    "        \n",
    "    # ...but put the last motor is separate group.\n",
    "    yield Msg('set', motors[-1], {'pos': 5})\n",
    "    yield Msg('trigger', motors[-1], block_group='B')\n",
    "    \n",
    "    yield Msg('wait', None, 'A')  # Wait for everything in group 'A' to report done.\n",
    "    yield Msg('trigger', det)\n",
    "    yield Msg('read', det)\n",
    "    \n",
    "    yield Msg('wait', None, 'B')  # Wait for everything in group 'B' to report done.\n",
    "    yield Msg('trigger', det)\n",
    "    yield Msg('read', det)\n",
    "    \n",
    "motor3 = Mover('motor3', ['pos'])\n",
    "\n",
    "RE.run(wait_complex([motor1, motor2, motor3], det))"
   ]
  },
  {
   "cell_type": "markdown",
   "metadata": {},
   "source": [
    "## Runs can be aborted"
   ]
  },
  {
   "cell_type": "markdown",
   "metadata": {},
   "source": [
    "### SIGINT (Ctrl+C) is reliably caught before each message is processed, even across threads.\n",
    "\n",
    "The output below is truncated because it caught Ctrl+C (or, in the notebook, \"Interrupt Kerenel\")."
   ]
  },
  {
   "cell_type": "code",
   "execution_count": 105,
   "metadata": {
    "collapsed": false
   },
   "outputs": [
    {
     "name": "stdout",
     "output_type": "stream",
     "text": [
      "*** Emitted RunStart:\n",
      "{'beamline_id': 'test', 'owner': 'tester', 'uid': '9ee2cf01-b449-49d5-9449-0dde163e91f2', 'time': 1433020514.035691, 'scan_id': 123}\n",
      "set: (mover: motor), ({'pos': 5},), {}\n",
      "   ret: None\n",
      "trigger: (mover: motor), (), {}\n",
      "   ret: None\n",
      "sleep: (None), (2,), {}\n",
      "   ret: None\n",
      "RunEngine detected a SIGINT (Ctrl+C)\n",
      "trigger: (reader: sg), (), {}\n",
      "   ret: None\n",
      "RunEngine detected a SIGINT (Ctrl+C)\n",
      "No checkpoints. Cannot resume; must abort\n",
      "*** Emitted RunStop:\n",
      "{'exit_status': 'abort', 'run_start': '9ee2cf01-b449-49d5-9449-0dde163e91f2', 'time': 1433020516.197139, 'reason': ''}\n"
     ]
    },
    {
     "name": "stderr",
     "output_type": "stream",
     "text": [
      "Exception in thread Thread-41:\n",
      "Traceback (most recent call last):\n",
      "  File \"/Users/dallan/miniconda/envs/py3/lib/python3.4/threading.py\", line 920, in _bootstrap_inner\n",
      "    self.run()\n",
      "  File \"/Users/dallan/miniconda/envs/py3/lib/python3.4/threading.py\", line 868, in run\n",
      "    self._target(*self._args, **self._kwargs)\n",
      "  File \"/Users/dallan/Documents/Repos/bluesky/bs.py\", line 319, in func\n",
      "    return self.run_engine(gen)\n",
      "  File \"/Users/dallan/Documents/Repos/bluesky/bs.py\", line 380, in run_engine\n",
      "    raise RunInterrupt(\"Run aborted.\")\n",
      "RunInterrupt: Run aborted.\n",
      "\n"
     ]
    }
   ],
   "source": [
    "RE.run(sleepy_scan(motor, det))"
   ]
  },
  {
   "cell_type": "code",
   "execution_count": 128,
   "metadata": {
    "collapsed": false
   },
   "outputs": [
    {
     "name": "stdout",
     "output_type": "stream",
     "text": [
      "*** Emitted RunStart:\n",
      "{'beamline_id': 'test', 'owner': 'tester', 'uid': 'a987ff05-d4f3-4b70-89c6-71acd27a84a7', 'time': 1433020931.221604, 'scan_id': 123}\n",
      "MSG_CACHE None\n",
      "checkpoint: (None), (), {}\n",
      "   ret: None\n",
      "MSG_CACHE deque([])\n",
      "set: (mover: motor), ({'pos': 5},), {}\n",
      "   ret: None\n",
      "MSG_CACHE deque([set: (mover: motor), ({'pos': 5},), {}])\n",
      "trigger: (mover: motor), (), {}\n",
      "   ret: None\n",
      "MSG_CACHE deque([set: (mover: motor), ({'pos': 5},), {}, trigger: (mover: motor), (), {}])\n",
      "sleep: (None), (2,), {}\n",
      "   ret: None\n",
      "MSG_CACHE deque([set: (mover: motor), ({'pos': 5},), {}, trigger: (mover: motor), (), {}, sleep: (None), (2,), {}])\n",
      "RunEngine detected a SIGINT (Ctrl+C)\n",
      "trigger: (reader: sg), (), {}\n",
      "   ret: None\n",
      "MSG_CACHE deque([set: (mover: motor), ({'pos': 5},), {}, trigger: (mover: motor), (), {}, sleep: (None), (2,), {}, trigger: (reader: sg), (), {}])\n",
      "RunEngine detected a SIGINT (Ctrl+C)\n",
      "Hard pause requested. Sleeping until resume() is called. Will rerun from last 'checkpoint' command.\n"
     ]
    }
   ],
   "source": [
    "def sleepy_scan_checkpoints(motor, det):\n",
    "    \"Set, trigger motor, sleep for a fixed time, trigger detector, read\"\n",
    "    yield Msg('checkpoint')\n",
    "    yield Msg('set', motor, {'pos': 5})\n",
    "    yield Msg('trigger', motor)\n",
    "    yield Msg('sleep', None, 2)  # units: seconds\n",
    "    yield Msg('trigger', det)\n",
    "    yield Msg('read', det)\n",
    "\n",
    "RE.run(sleepy_scan_checkpoints(motor, det))"
   ]
  },
  {
   "cell_type": "code",
   "execution_count": 129,
   "metadata": {
    "collapsed": false
   },
   "outputs": [
    {
     "name": "stdout",
     "output_type": "stream",
     "text": [
      "Rerunning from checkpoint...\n",
      "set: (mover: motor), ({'pos': 5},), {}\n",
      "   ret: None (On rerun, responses are not sent.)\n",
      "trigger: (mover: motor), (), {}\n",
      "   ret: None (On rerun, responses are not sent.)\n",
      "sleep: (None), (2,), {}\n",
      "   ret: None (On rerun, responses are not sent.)\n",
      "trigger: (reader: sg), (), {}\n",
      "   ret: None (On rerun, responses are not sent.)\n",
      "read: (reader: sg), (), {}\n",
      "   ret: {'intensity': {'timestamp': 1433020938.522628, 'value': 3.7266531720786709e-06}}\n",
      "MSG_CACHE deque([set: (mover: motor), ({'pos': 5},), {}, trigger: (mover: motor), (), {}, sleep: (None), (2,), {}, trigger: (reader: sg), (), {}, read: (reader: sg), (), {}])\n",
      "*** Emitted RunStop:\n",
      "{'exit_status': 'success', 'run_start': 'a987ff05-d4f3-4b70-89c6-71acd27a84a7', 'time': 1433020938.535703, 'reason': ''}\n"
     ]
    }
   ],
   "source": [
    "RE.resume()"
   ]
  },
  {
   "cell_type": "markdown",
   "metadata": {},
   "source": [
    "### Threading is optional -- switch it off for easier debugging\n",
    "\n",
    "Again, we'll interrupt the scan. We get exactly the same result, but this time we see a full Traceback."
   ]
  },
  {
   "cell_type": "code",
   "execution_count": 57,
   "metadata": {
    "collapsed": false
   },
   "outputs": [
    {
     "name": "stdout",
     "output_type": "stream",
     "text": [
      "*** Emitted RunStart:\n",
      "{'beamline_id': 'test', 'uid': '7c9068f0-707f-4177-8508-27fa4921ac6f', 'scan_id': 123, 'time': 1433008841.624896, 'owner': 'tester'}\n",
      "set: (mover: motor), ({'pos': 5},), {}\n",
      "   ret: None\n",
      "trigger: (mover: motor), (), {}\n",
      "   ret: None\n",
      "*** Emitted RunStop:\n",
      "{'exit_status': 'abort', 'run_start': '7c9068f0-707f-4177-8508-27fa4921ac6f', 'reason': '', 'time': 1433008841.947767}\n"
     ]
    },
    {
     "ename": "RunInterrupt",
     "evalue": "RunEngine detected a SIGINT (Ctrl+C) and aborted the scan. Records were created, but the run was marked with exit_status='abort'.",
     "output_type": "error",
     "traceback": [
      "\u001b[0;31m---------------------------------------------------------------------------\u001b[0m",
      "\u001b[0;31mRunInterrupt\u001b[0m                              Traceback (most recent call last)",
      "\u001b[0;32m<ipython-input-57-63bdca4b590c>\u001b[0m in \u001b[0;36m<module>\u001b[0;34m()\u001b[0m\n\u001b[0;32m----> 1\u001b[0;31m \u001b[0mRE\u001b[0m\u001b[0;34m.\u001b[0m\u001b[0mrun\u001b[0m\u001b[0;34m(\u001b[0m\u001b[0msimple_scan\u001b[0m\u001b[0;34m(\u001b[0m\u001b[0mmotor\u001b[0m\u001b[0;34m)\u001b[0m\u001b[0;34m,\u001b[0m \u001b[0muse_threading\u001b[0m\u001b[0;34m=\u001b[0m\u001b[0;32mFalse\u001b[0m\u001b[0;34m)\u001b[0m\u001b[0;34m\u001b[0m\u001b[0m\n\u001b[0m",
      "\u001b[0;32m/Users/dallan/Documents/Repos/bluesky/bs.py\u001b[0m in \u001b[0;36mrun\u001b[0;34m(self, g, subscriptions, use_threading)\u001b[0m\n\u001b[1;32m    308\u001b[0m                     \u001b[0mself\u001b[0m\u001b[0;34m.\u001b[0m\u001b[0mdispatcher\u001b[0m\u001b[0;34m.\u001b[0m\u001b[0mprocess_all_queues\u001b[0m\u001b[0;34m(\u001b[0m\u001b[0;34m)\u001b[0m\u001b[0;34m\u001b[0m\u001b[0m\n\u001b[1;32m    309\u001b[0m             \u001b[0;32melse\u001b[0m\u001b[0;34m:\u001b[0m\u001b[0;34m\u001b[0m\u001b[0m\n\u001b[0;32m--> 310\u001b[0;31m                 \u001b[0mfunc\u001b[0m\u001b[0;34m(\u001b[0m\u001b[0;34m)\u001b[0m\u001b[0;34m\u001b[0m\u001b[0m\n\u001b[0m\u001b[1;32m    311\u001b[0m                 \u001b[0mself\u001b[0m\u001b[0;34m.\u001b[0m\u001b[0mdispatcher\u001b[0m\u001b[0;34m.\u001b[0m\u001b[0mprocess_all_queues\u001b[0m\u001b[0;34m(\u001b[0m\u001b[0;34m)\u001b[0m\u001b[0;34m\u001b[0m\u001b[0m\n\u001b[1;32m    312\u001b[0m \u001b[0;34m\u001b[0m\u001b[0m\n",
      "\u001b[0;32m/Users/dallan/Documents/Repos/bluesky/bs.py\u001b[0m in \u001b[0;36m<lambda>\u001b[0;34m()\u001b[0m\n\u001b[1;32m    301\u001b[0m                                   \"of this run were created.\")\n\u001b[1;32m    302\u001b[0m         \u001b[0;32mwith\u001b[0m \u001b[0mSignalHandler\u001b[0m\u001b[0;34m(\u001b[0m\u001b[0msignal\u001b[0m\u001b[0;34m.\u001b[0m\u001b[0mSIGINT\u001b[0m\u001b[0;34m)\u001b[0m \u001b[0;32mas\u001b[0m \u001b[0mself\u001b[0m\u001b[0;34m.\u001b[0m\u001b[0m_sigint_handler\u001b[0m\u001b[0;34m:\u001b[0m\u001b[0;34m\u001b[0m\u001b[0m\n\u001b[0;32m--> 303\u001b[0;31m             \u001b[0mfunc\u001b[0m \u001b[0;34m=\u001b[0m \u001b[0;32mlambda\u001b[0m\u001b[0;34m:\u001b[0m \u001b[0mself\u001b[0m\u001b[0;34m.\u001b[0m\u001b[0mrun_engine\u001b[0m\u001b[0;34m(\u001b[0m\u001b[0mg\u001b[0m\u001b[0;34m)\u001b[0m\u001b[0;34m\u001b[0m\u001b[0m\n\u001b[0m\u001b[1;32m    304\u001b[0m             \u001b[0;32mif\u001b[0m \u001b[0muse_threading\u001b[0m\u001b[0;34m:\u001b[0m\u001b[0;34m\u001b[0m\u001b[0m\n\u001b[1;32m    305\u001b[0m                 \u001b[0mthread\u001b[0m \u001b[0;34m=\u001b[0m \u001b[0mthreading\u001b[0m\u001b[0;34m.\u001b[0m\u001b[0mThread\u001b[0m\u001b[0;34m(\u001b[0m\u001b[0mtarget\u001b[0m\u001b[0;34m=\u001b[0m\u001b[0mfunc\u001b[0m\u001b[0;34m)\u001b[0m\u001b[0;34m\u001b[0m\u001b[0m\n",
      "\u001b[0;32m/Users/dallan/Documents/Repos/bluesky/bs.py\u001b[0m in \u001b[0;36mrun_engine\u001b[0;34m(self, gen)\u001b[0m\n\u001b[1;32m    332\u001b[0m                 \u001b[0;32mif\u001b[0m \u001b[0mself\u001b[0m\u001b[0;34m.\u001b[0m\u001b[0m_sigint_handler\u001b[0m\u001b[0;34m.\u001b[0m\u001b[0minterrupted\u001b[0m\u001b[0;34m:\u001b[0m\u001b[0;34m\u001b[0m\u001b[0m\n\u001b[1;32m    333\u001b[0m                     \u001b[0mexit_status\u001b[0m \u001b[0;34m=\u001b[0m \u001b[0;34m'abort'\u001b[0m\u001b[0;34m\u001b[0m\u001b[0m\n\u001b[0;32m--> 334\u001b[0;31m                     raise RunInterrupt(\"RunEngine detected a SIGINT (Ctrl+C) \"\n\u001b[0m\u001b[1;32m    335\u001b[0m                                        \u001b[0;34m\"and aborted the scan. Records were \"\u001b[0m\u001b[0;34m\u001b[0m\u001b[0m\n\u001b[1;32m    336\u001b[0m                                        \u001b[0;34m\"created, but the run was marked with \"\u001b[0m\u001b[0;34m\u001b[0m\u001b[0m\n",
      "\u001b[0;31mRunInterrupt\u001b[0m: RunEngine detected a SIGINT (Ctrl+C) and aborted the scan. Records were created, but the run was marked with exit_status='abort'."
     ]
    }
   ],
   "source": [
    "RE.run(simple_scan(motor), use_threading=False)"
   ]
  },
  {
   "cell_type": "markdown",
   "metadata": {},
   "source": [
    "## Any functions can subscribe to the live data stream (e.g., live plotting)\n",
    "\n",
    "In the examples above, the runs have been emitting RunStart and RunStop Documents, but no Events or Event Descriptors. We will add those now.\n",
    "\n",
    "### Emitting Events and Event Descriptors\n",
    "\n",
    "The `'create'` and `'save'` commands collect all the reads between them into one Event.\n",
    "\n",
    "If that particular set of objects has never been bundled into an Event during this run, then an Event Descriptor is also created.\n",
    "\n",
    "All four Documents -- RunStart, RunStop, Event, and EventDescriptor -- are simply Python dictionaries."
   ]
  },
  {
   "cell_type": "code",
   "execution_count": 24,
   "metadata": {
    "collapsed": false
   },
   "outputs": [
    {
     "name": "stdout",
     "output_type": "stream",
     "text": [
      "*** Emitted RunStart:\n",
      "{'beamline_id': 'test', 'owner': 'tester', 'uid': '1eaeb364-15ac-4b80-afe0-35a3eaa3c1c7', 'time': 1433011817.137248, 'scan_id': 123}\n",
      "create: (None), (), {}\n",
      "   ret: None\n",
      "set: (mover: motor), ({'pos': 5},), {}\n",
      "   ret: None\n",
      "trigger: (mover: motor), (), {}\n",
      "   ret: None\n",
      "read: (mover: motor), (), {}\n",
      "   ret: {'pos': {'timestamp': 1433011817.548762, 'value': 5}}\n",
      "*** Emitted Event Descriptor:\n",
      "{'data_keys': {'pos': {'source': 'motor', 'dtype': 'number'}}, 'run_start': '1eaeb364-15ac-4b80-afe0-35a3eaa3c1c7', 'time': 1433011817.758388, 'uid': '13718b0a-d3b9-4397-9d17-26ea5a413ba3'}\n",
      "*** Emitted Event:\n",
      "{'seq_num': 1, 'data': {'pos': {'timestamp': 1433011817.548762, 'value': 5}}, 'uid': '1a084d79-fdbe-4bc4-b177-7ef83be7ee6f', 'time': 1433011817.758621, 'descriptor': '13718b0a-d3b9-4397-9d17-26ea5a413ba3'}\n",
      "save: (None), (), {}\n",
      "   ret: None\n",
      "*** Emitted RunStop:\n",
      "{'exit_status': 'success', 'run_start': '1eaeb364-15ac-4b80-afe0-35a3eaa3c1c7', 'time': 1433011817.86201, 'reason': ''}\n"
     ]
    }
   ],
   "source": [
    "def simple_scan_saving(motor):\n",
    "    \"Set, trigger, read\"\n",
    "    yield Msg('create')\n",
    "    yield Msg('set', motor, {'pos': 5})\n",
    "    yield Msg('trigger', motor)\n",
    "    yield Msg('read', motor)\n",
    "    yield Msg('save')\n",
    "    \n",
    "RE.run(simple_scan_saving(motor))"
   ]
  },
  {
   "cell_type": "markdown",
   "metadata": {},
   "source": [
    "### Very Simple Example\n",
    "\n",
    "Any user function that accepts a Python dictionary can be registered as a \"consumer\" of these Event Documents. Here's a toy example."
   ]
  },
  {
   "cell_type": "code",
   "execution_count": 7,
   "metadata": {
    "collapsed": true
   },
   "outputs": [],
   "source": [
    "def print_event_time(doc):\n",
    "    print('===== EVENT TIME:', doc['time'], '=====')"
   ]
  },
  {
   "cell_type": "markdown",
   "metadata": {},
   "source": [
    "To use this consumer function during a run:"
   ]
  },
  {
   "cell_type": "code",
   "execution_count": 8,
   "metadata": {
    "collapsed": false
   },
   "outputs": [
    {
     "name": "stdout",
     "output_type": "stream",
     "text": [
      "*** Emitted RunStart:\n",
      "{'beamline_id': 'test', 'owner': 'tester', 'uid': '5cbcd69e-8df8-4a82-a449-26d59c3de2f5', 'time': 1433011558.946144, 'scan_id': 123}\n",
      "create: (None), (), {}\n",
      "   ret: None\n",
      "set: (mover: motor), ({'pos': 5},), {}\n",
      "   ret: None\n",
      "trigger: (mover: motor), (), {}\n",
      "   ret: None\n",
      "trigger: (reader: sg), (), {}\n",
      "   ret: None\n",
      "read: (mover: motor), (), {}\n",
      "   ret: {'pos': {'timestamp': 1433011559.35857, 'value': 5}}\n",
      "read: (reader: sg), (), {}\n",
      "   ret: {'intensity': {'timestamp': 1433011559.463416, 'value': 3.7266531720786709e-06}}\n",
      "*** Emitted Event Descriptor:\n",
      "{'data_keys': {'I': {'source': 'sg', 'dtype': 'number'}, 'pos': {'source': 'motor', 'dtype': 'number'}}, 'run_start': '5cbcd69e-8df8-4a82-a449-26d59c3de2f5', 'time': 1433011559.774423, 'uid': '03001ca5-a857-4ce6-9e46-b0b8fd649233'}\n",
      "*** Emitted Event:\n",
      "{'seq_num': 1, 'data': {'intensity': {'timestamp': 1433011559.463416, 'value': 3.726653172078671e-06}, 'pos': {'timestamp': 1433011559.35857, 'value': 5}}, 'uid': '969c301c-f214-456f-9688-38d741a96fdd', 'time': 1433011559.774791, 'descriptor': '03001ca5-a857-4ce6-9e46-b0b8fd649233'}\n",
      "save: (None), (), {}\n",
      "   ret: None\n",
      "===== EVENT TIME: 1433011559.774791 =====\n",
      "*** Emitted RunStop:\n",
      "{'exit_status': 'success', 'run_start': '5cbcd69e-8df8-4a82-a449-26d59c3de2f5', 'time': 1433011559.876771, 'reason': ''}\n"
     ]
    }
   ],
   "source": [
    "RE.run(simple_scan_saving(motor, det), subscriptions={'event': print_event_time})"
   ]
  },
  {
   "cell_type": "markdown",
   "metadata": {},
   "source": [
    "The use it by default on every run for this instance of the Run Engine:"
   ]
  },
  {
   "cell_type": "code",
   "execution_count": 9,
   "metadata": {
    "collapsed": false
   },
   "outputs": [
    {
     "data": {
      "text/plain": [
       "1"
      ]
     },
     "execution_count": 9,
     "metadata": {},
     "output_type": "execute_result"
    }
   ],
   "source": [
    "token = RE.subscribe('event', print_event_time)\n",
    "token"
   ]
  },
  {
   "cell_type": "markdown",
   "metadata": {},
   "source": [
    "The output `token`, an integer, can be use to unsubscribe later."
   ]
  },
  {
   "cell_type": "code",
   "execution_count": 10,
   "metadata": {
    "collapsed": false
   },
   "outputs": [],
   "source": [
    "RE.unsubscribe(token)"
   ]
  },
  {
   "cell_type": "markdown",
   "metadata": {},
   "source": [
    "### Live Plotting\n",
    "\n",
    "First, we'll create some axes. The code below updates the plot while the run is ongoing."
   ]
  },
  {
   "cell_type": "code",
   "execution_count": 39,
   "metadata": {
    "collapsed": false
   },
   "outputs": [
    {
     "data": {
      "application/javascript": [
       "/* Put everything inside the global mpl namespace */\n",
       "window.mpl = {};\n",
       "\n",
       "mpl.get_websocket_type = function() {\n",
       "    if (typeof(WebSocket) !== 'undefined') {\n",
       "        return WebSocket;\n",
       "    } else if (typeof(MozWebSocket) !== 'undefined') {\n",
       "        return MozWebSocket;\n",
       "    } else {\n",
       "        alert('Your browser does not have WebSocket support.' +\n",
       "              'Please try Chrome, Safari or Firefox ≥ 6. ' +\n",
       "              'Firefox 4 and 5 are also supported but you ' +\n",
       "              'have to enable WebSockets in about:config.');\n",
       "    };\n",
       "}\n",
       "\n",
       "mpl.figure = function(figure_id, websocket, ondownload, parent_element) {\n",
       "    this.id = figure_id;\n",
       "\n",
       "    this.ws = websocket;\n",
       "\n",
       "    this.supports_binary = (this.ws.binaryType != undefined);\n",
       "\n",
       "    if (!this.supports_binary) {\n",
       "        var warnings = document.getElementById(\"mpl-warnings\");\n",
       "        if (warnings) {\n",
       "            warnings.style.display = 'block';\n",
       "            warnings.textContent = (\n",
       "                \"This browser does not support binary websocket messages. \" +\n",
       "                    \"Performance may be slow.\");\n",
       "        }\n",
       "    }\n",
       "\n",
       "    this.imageObj = new Image();\n",
       "\n",
       "    this.context = undefined;\n",
       "    this.message = undefined;\n",
       "    this.canvas = undefined;\n",
       "    this.rubberband_canvas = undefined;\n",
       "    this.rubberband_context = undefined;\n",
       "    this.format_dropdown = undefined;\n",
       "\n",
       "    this.image_mode = 'full';\n",
       "\n",
       "    this.root = $('<div/>');\n",
       "    this._root_extra_style(this.root)\n",
       "    this.root.attr('style', 'display: inline-block');\n",
       "\n",
       "    $(parent_element).append(this.root);\n",
       "\n",
       "    this._init_header(this);\n",
       "    this._init_canvas(this);\n",
       "    this._init_toolbar(this);\n",
       "\n",
       "    var fig = this;\n",
       "\n",
       "    this.waiting = false;\n",
       "\n",
       "    this.ws.onopen =  function () {\n",
       "            fig.send_message(\"supports_binary\", {value: fig.supports_binary});\n",
       "            fig.send_message(\"send_image_mode\", {});\n",
       "            fig.send_message(\"refresh\", {});\n",
       "        }\n",
       "\n",
       "    this.imageObj.onload = function() {\n",
       "            if (fig.image_mode == 'full') {\n",
       "                // Full images could contain transparency (where diff images\n",
       "                // almost always do), so we need to clear the canvas so that\n",
       "                // there is no ghosting.\n",
       "                fig.context.clearRect(0, 0, fig.canvas.width, fig.canvas.height);\n",
       "            }\n",
       "            fig.context.drawImage(fig.imageObj, 0, 0);\n",
       "            fig.waiting = false;\n",
       "        };\n",
       "\n",
       "    this.imageObj.onunload = function() {\n",
       "        this.ws.close();\n",
       "    }\n",
       "\n",
       "    this.ws.onmessage = this._make_on_message_function(this);\n",
       "\n",
       "    this.ondownload = ondownload;\n",
       "}\n",
       "\n",
       "mpl.figure.prototype._init_header = function() {\n",
       "    var titlebar = $(\n",
       "        '<div class=\"ui-dialog-titlebar ui-widget-header ui-corner-all ' +\n",
       "        'ui-helper-clearfix\"/>');\n",
       "    var titletext = $(\n",
       "        '<div class=\"ui-dialog-title\" style=\"width: 100%; ' +\n",
       "        'text-align: center; padding: 3px;\"/>');\n",
       "    titlebar.append(titletext)\n",
       "    this.root.append(titlebar);\n",
       "    this.header = titletext[0];\n",
       "}\n",
       "\n",
       "\n",
       "\n",
       "mpl.figure.prototype._canvas_extra_style = function(canvas_div) {\n",
       "\n",
       "}\n",
       "\n",
       "\n",
       "mpl.figure.prototype._root_extra_style = function(canvas_div) {\n",
       "\n",
       "}\n",
       "\n",
       "mpl.figure.prototype._init_canvas = function() {\n",
       "    var fig = this;\n",
       "\n",
       "    var canvas_div = $('<div/>');\n",
       "\n",
       "    canvas_div.attr('style', 'position: relative; clear: both; outline: 0');\n",
       "\n",
       "    function canvas_keyboard_event(event) {\n",
       "        return fig.key_event(event, event['data']);\n",
       "    }\n",
       "\n",
       "    canvas_div.keydown('key_press', canvas_keyboard_event);\n",
       "    canvas_div.keyup('key_release', canvas_keyboard_event);\n",
       "    this.canvas_div = canvas_div\n",
       "    this._canvas_extra_style(canvas_div)\n",
       "    this.root.append(canvas_div);\n",
       "\n",
       "    var canvas = $('<canvas/>');\n",
       "    canvas.addClass('mpl-canvas');\n",
       "    canvas.attr('style', \"left: 0; top: 0; z-index: 0; outline: 0\")\n",
       "\n",
       "    this.canvas = canvas[0];\n",
       "    this.context = canvas[0].getContext(\"2d\");\n",
       "\n",
       "    var rubberband = $('<canvas/>');\n",
       "    rubberband.attr('style', \"position: absolute; left: 0; top: 0; z-index: 1;\")\n",
       "\n",
       "    var pass_mouse_events = true;\n",
       "\n",
       "    canvas_div.resizable({\n",
       "        start: function(event, ui) {\n",
       "            pass_mouse_events = false;\n",
       "        },\n",
       "        resize: function(event, ui) {\n",
       "            fig.request_resize(ui.size.width, ui.size.height);\n",
       "        },\n",
       "        stop: function(event, ui) {\n",
       "            pass_mouse_events = true;\n",
       "            fig.request_resize(ui.size.width, ui.size.height);\n",
       "        },\n",
       "    });\n",
       "\n",
       "    function mouse_event_fn(event) {\n",
       "        if (pass_mouse_events)\n",
       "            return fig.mouse_event(event, event['data']);\n",
       "    }\n",
       "\n",
       "    rubberband.mousedown('button_press', mouse_event_fn);\n",
       "    rubberband.mouseup('button_release', mouse_event_fn);\n",
       "    // Throttle sequential mouse events to 1 every 20ms.\n",
       "    rubberband.mousemove('motion_notify', mouse_event_fn);\n",
       "\n",
       "    rubberband.mouseenter('figure_enter', mouse_event_fn);\n",
       "    rubberband.mouseleave('figure_leave', mouse_event_fn);\n",
       "\n",
       "    canvas_div.on(\"wheel\", function (event) {\n",
       "        event = event.originalEvent;\n",
       "        event['data'] = 'scroll'\n",
       "        if (event.deltaY < 0) {\n",
       "            event.step = 1;\n",
       "        } else {\n",
       "            event.step = -1;\n",
       "        }\n",
       "        mouse_event_fn(event);\n",
       "    });\n",
       "\n",
       "    canvas_div.append(canvas);\n",
       "    canvas_div.append(rubberband);\n",
       "\n",
       "    this.rubberband = rubberband;\n",
       "    this.rubberband_canvas = rubberband[0];\n",
       "    this.rubberband_context = rubberband[0].getContext(\"2d\");\n",
       "    this.rubberband_context.strokeStyle = \"#000000\";\n",
       "\n",
       "    this._resize_canvas = function(width, height) {\n",
       "        // Keep the size of the canvas, canvas container, and rubber band\n",
       "        // canvas in synch.\n",
       "        canvas_div.css('width', width)\n",
       "        canvas_div.css('height', height)\n",
       "\n",
       "        canvas.attr('width', width);\n",
       "        canvas.attr('height', height);\n",
       "\n",
       "        rubberband.attr('width', width);\n",
       "        rubberband.attr('height', height);\n",
       "    }\n",
       "\n",
       "    // Set the figure to an initial 600x600px, this will subsequently be updated\n",
       "    // upon first draw.\n",
       "    this._resize_canvas(600, 600);\n",
       "\n",
       "    // Disable right mouse context menu.\n",
       "    $(this.rubberband_canvas).bind(\"contextmenu\",function(e){\n",
       "        return false;\n",
       "    });\n",
       "\n",
       "    function set_focus () {\n",
       "        canvas.focus();\n",
       "        canvas_div.focus();\n",
       "    }\n",
       "\n",
       "    window.setTimeout(set_focus, 100);\n",
       "}\n",
       "\n",
       "mpl.figure.prototype._init_toolbar = function() {\n",
       "    var fig = this;\n",
       "\n",
       "    var nav_element = $('<div/>')\n",
       "    nav_element.attr('style', 'width: 100%');\n",
       "    this.root.append(nav_element);\n",
       "\n",
       "    // Define a callback function for later on.\n",
       "    function toolbar_event(event) {\n",
       "        return fig.toolbar_button_onclick(event['data']);\n",
       "    }\n",
       "    function toolbar_mouse_event(event) {\n",
       "        return fig.toolbar_button_onmouseover(event['data']);\n",
       "    }\n",
       "\n",
       "    for(var toolbar_ind in mpl.toolbar_items) {\n",
       "        var name = mpl.toolbar_items[toolbar_ind][0];\n",
       "        var tooltip = mpl.toolbar_items[toolbar_ind][1];\n",
       "        var image = mpl.toolbar_items[toolbar_ind][2];\n",
       "        var method_name = mpl.toolbar_items[toolbar_ind][3];\n",
       "\n",
       "        if (!name) {\n",
       "            // put a spacer in here.\n",
       "            continue;\n",
       "        }\n",
       "        var button = $('<button/>');\n",
       "        button.addClass('ui-button ui-widget ui-state-default ui-corner-all ' +\n",
       "                        'ui-button-icon-only');\n",
       "        button.attr('role', 'button');\n",
       "        button.attr('aria-disabled', 'false');\n",
       "        button.click(method_name, toolbar_event);\n",
       "        button.mouseover(tooltip, toolbar_mouse_event);\n",
       "\n",
       "        var icon_img = $('<span/>');\n",
       "        icon_img.addClass('ui-button-icon-primary ui-icon');\n",
       "        icon_img.addClass(image);\n",
       "        icon_img.addClass('ui-corner-all');\n",
       "\n",
       "        var tooltip_span = $('<span/>');\n",
       "        tooltip_span.addClass('ui-button-text');\n",
       "        tooltip_span.html(tooltip);\n",
       "\n",
       "        button.append(icon_img);\n",
       "        button.append(tooltip_span);\n",
       "\n",
       "        nav_element.append(button);\n",
       "    }\n",
       "\n",
       "    var fmt_picker_span = $('<span/>');\n",
       "\n",
       "    var fmt_picker = $('<select/>');\n",
       "    fmt_picker.addClass('mpl-toolbar-option ui-widget ui-widget-content');\n",
       "    fmt_picker_span.append(fmt_picker);\n",
       "    nav_element.append(fmt_picker_span);\n",
       "    this.format_dropdown = fmt_picker[0];\n",
       "\n",
       "    for (var ind in mpl.extensions) {\n",
       "        var fmt = mpl.extensions[ind];\n",
       "        var option = $(\n",
       "            '<option/>', {selected: fmt === mpl.default_extension}).html(fmt);\n",
       "        fmt_picker.append(option)\n",
       "    }\n",
       "\n",
       "    // Add hover states to the ui-buttons\n",
       "    $( \".ui-button\" ).hover(\n",
       "        function() { $(this).addClass(\"ui-state-hover\");},\n",
       "        function() { $(this).removeClass(\"ui-state-hover\");}\n",
       "    );\n",
       "\n",
       "    var status_bar = $('<span class=\"mpl-message\"/>');\n",
       "    nav_element.append(status_bar);\n",
       "    this.message = status_bar[0];\n",
       "}\n",
       "\n",
       "mpl.figure.prototype.request_resize = function(x_pixels, y_pixels) {\n",
       "    // Request matplotlib to resize the figure. Matplotlib will then trigger a resize in the client,\n",
       "    // which will in turn request a refresh of the image.\n",
       "    this.send_message('resize', {'width': x_pixels, 'height': y_pixels});\n",
       "}\n",
       "\n",
       "mpl.figure.prototype.send_message = function(type, properties) {\n",
       "    properties['type'] = type;\n",
       "    properties['figure_id'] = this.id;\n",
       "    this.ws.send(JSON.stringify(properties));\n",
       "}\n",
       "\n",
       "mpl.figure.prototype.send_draw_message = function() {\n",
       "    if (!this.waiting) {\n",
       "        this.waiting = true;\n",
       "        this.ws.send(JSON.stringify({type: \"draw\", figure_id: this.id}));\n",
       "    }\n",
       "}\n",
       "\n",
       "\n",
       "mpl.figure.prototype.handle_save = function(fig, msg) {\n",
       "    var format_dropdown = fig.format_dropdown;\n",
       "    var format = format_dropdown.options[format_dropdown.selectedIndex].value;\n",
       "    fig.ondownload(fig, format);\n",
       "}\n",
       "\n",
       "\n",
       "mpl.figure.prototype.handle_resize = function(fig, msg) {\n",
       "    var size = msg['size'];\n",
       "    if (size[0] != fig.canvas.width || size[1] != fig.canvas.height) {\n",
       "        fig._resize_canvas(size[0], size[1]);\n",
       "        fig.send_message(\"refresh\", {});\n",
       "    };\n",
       "}\n",
       "\n",
       "mpl.figure.prototype.handle_rubberband = function(fig, msg) {\n",
       "    var x0 = msg['x0'];\n",
       "    var y0 = fig.canvas.height - msg['y0'];\n",
       "    var x1 = msg['x1'];\n",
       "    var y1 = fig.canvas.height - msg['y1'];\n",
       "    x0 = Math.floor(x0) + 0.5;\n",
       "    y0 = Math.floor(y0) + 0.5;\n",
       "    x1 = Math.floor(x1) + 0.5;\n",
       "    y1 = Math.floor(y1) + 0.5;\n",
       "    var min_x = Math.min(x0, x1);\n",
       "    var min_y = Math.min(y0, y1);\n",
       "    var width = Math.abs(x1 - x0);\n",
       "    var height = Math.abs(y1 - y0);\n",
       "\n",
       "    fig.rubberband_context.clearRect(\n",
       "        0, 0, fig.canvas.width, fig.canvas.height);\n",
       "\n",
       "    fig.rubberband_context.strokeRect(min_x, min_y, width, height);\n",
       "}\n",
       "\n",
       "mpl.figure.prototype.handle_figure_label = function(fig, msg) {\n",
       "    // Updates the figure title.\n",
       "    fig.header.textContent = msg['label'];\n",
       "}\n",
       "\n",
       "mpl.figure.prototype.handle_cursor = function(fig, msg) {\n",
       "    var cursor = msg['cursor'];\n",
       "    switch(cursor)\n",
       "    {\n",
       "    case 0:\n",
       "        cursor = 'pointer';\n",
       "        break;\n",
       "    case 1:\n",
       "        cursor = 'default';\n",
       "        break;\n",
       "    case 2:\n",
       "        cursor = 'crosshair';\n",
       "        break;\n",
       "    case 3:\n",
       "        cursor = 'move';\n",
       "        break;\n",
       "    }\n",
       "    fig.rubberband_canvas.style.cursor = cursor;\n",
       "}\n",
       "\n",
       "mpl.figure.prototype.handle_message = function(fig, msg) {\n",
       "    fig.message.textContent = msg['message'];\n",
       "}\n",
       "\n",
       "mpl.figure.prototype.handle_draw = function(fig, msg) {\n",
       "    // Request the server to send over a new figure.\n",
       "    fig.send_draw_message();\n",
       "}\n",
       "\n",
       "mpl.figure.prototype.handle_image_mode = function(fig, msg) {\n",
       "    fig.image_mode = msg['mode'];\n",
       "}\n",
       "\n",
       "mpl.figure.prototype.updated_canvas_event = function() {\n",
       "    // Called whenever the canvas gets updated.\n",
       "    this.send_message(\"ack\", {});\n",
       "}\n",
       "\n",
       "// A function to construct a web socket function for onmessage handling.\n",
       "// Called in the figure constructor.\n",
       "mpl.figure.prototype._make_on_message_function = function(fig) {\n",
       "    return function socket_on_message(evt) {\n",
       "        if (evt.data instanceof Blob) {\n",
       "            /* FIXME: We get \"Resource interpreted as Image but\n",
       "             * transferred with MIME type text/plain:\" errors on\n",
       "             * Chrome.  But how to set the MIME type?  It doesn't seem\n",
       "             * to be part of the websocket stream */\n",
       "            evt.data.type = \"image/png\";\n",
       "\n",
       "            /* Free the memory for the previous frames */\n",
       "            if (fig.imageObj.src) {\n",
       "                (window.URL || window.webkitURL).revokeObjectURL(\n",
       "                    fig.imageObj.src);\n",
       "            }\n",
       "\n",
       "            fig.imageObj.src = (window.URL || window.webkitURL).createObjectURL(\n",
       "                evt.data);\n",
       "            fig.updated_canvas_event();\n",
       "            return;\n",
       "        }\n",
       "        else if (typeof evt.data === 'string' && evt.data.slice(0, 21) == \"data:image/png;base64\") {\n",
       "            fig.imageObj.src = evt.data;\n",
       "            fig.updated_canvas_event();\n",
       "            return;\n",
       "        }\n",
       "\n",
       "        var msg = JSON.parse(evt.data);\n",
       "        var msg_type = msg['type'];\n",
       "\n",
       "        // Call the  \"handle_{type}\" callback, which takes\n",
       "        // the figure and JSON message as its only arguments.\n",
       "        try {\n",
       "            var callback = fig[\"handle_\" + msg_type];\n",
       "        } catch (e) {\n",
       "            console.log(\"No handler for the '\" + msg_type + \"' message type: \", msg);\n",
       "            return;\n",
       "        }\n",
       "\n",
       "        if (callback) {\n",
       "            try {\n",
       "                // console.log(\"Handling '\" + msg_type + \"' message: \", msg);\n",
       "                callback(fig, msg);\n",
       "            } catch (e) {\n",
       "                console.log(\"Exception inside the 'handler_\" + msg_type + \"' callback:\", e, e.stack, msg);\n",
       "            }\n",
       "        }\n",
       "    };\n",
       "}\n",
       "\n",
       "// from http://stackoverflow.com/questions/1114465/getting-mouse-location-in-canvas\n",
       "mpl.findpos = function(e) {\n",
       "    //this section is from http://www.quirksmode.org/js/events_properties.html\n",
       "    var targ;\n",
       "    if (!e)\n",
       "        e = window.event;\n",
       "    if (e.target)\n",
       "        targ = e.target;\n",
       "    else if (e.srcElement)\n",
       "        targ = e.srcElement;\n",
       "    if (targ.nodeType == 3) // defeat Safari bug\n",
       "        targ = targ.parentNode;\n",
       "\n",
       "    // jQuery normalizes the pageX and pageY\n",
       "    // pageX,Y are the mouse positions relative to the document\n",
       "    // offset() returns the position of the element relative to the document\n",
       "    var x = e.pageX - $(targ).offset().left;\n",
       "    var y = e.pageY - $(targ).offset().top;\n",
       "\n",
       "    return {\"x\": x, \"y\": y};\n",
       "};\n",
       "\n",
       "mpl.figure.prototype.mouse_event = function(event, name) {\n",
       "    var canvas_pos = mpl.findpos(event)\n",
       "\n",
       "    if (name === 'button_press')\n",
       "    {\n",
       "        this.canvas.focus();\n",
       "        this.canvas_div.focus();\n",
       "    }\n",
       "\n",
       "    var x = canvas_pos.x;\n",
       "    var y = canvas_pos.y;\n",
       "\n",
       "    this.send_message(name, {x: x, y: y, button: event.button,\n",
       "                             step: event.step});\n",
       "\n",
       "    /* This prevents the web browser from automatically changing to\n",
       "     * the text insertion cursor when the button is pressed.  We want\n",
       "     * to control all of the cursor setting manually through the\n",
       "     * 'cursor' event from matplotlib */\n",
       "    event.preventDefault();\n",
       "    return false;\n",
       "}\n",
       "\n",
       "mpl.figure.prototype._key_event_extra = function(event, name) {\n",
       "    // Handle any extra behaviour associated with a key event\n",
       "}\n",
       "\n",
       "mpl.figure.prototype.key_event = function(event, name) {\n",
       "\n",
       "    // Prevent repeat events\n",
       "    if (name == 'key_press')\n",
       "    {\n",
       "        if (event.which === this._key)\n",
       "            return;\n",
       "        else\n",
       "            this._key = event.which;\n",
       "    }\n",
       "    if (name == 'key_release')\n",
       "        this._key = null;\n",
       "\n",
       "    var value = '';\n",
       "    if (event.ctrlKey && event.which != 17)\n",
       "        value += \"ctrl+\";\n",
       "    if (event.altKey && event.which != 18)\n",
       "        value += \"alt+\";\n",
       "    if (event.shiftKey && event.which != 16)\n",
       "        value += \"shift+\";\n",
       "\n",
       "    value += 'k';\n",
       "    value += event.which.toString();\n",
       "\n",
       "    this._key_event_extra(event, name);\n",
       "\n",
       "    this.send_message(name, {key: value});\n",
       "    return false;\n",
       "}\n",
       "\n",
       "mpl.figure.prototype.toolbar_button_onclick = function(name) {\n",
       "    if (name == 'download') {\n",
       "        this.handle_save(this, null);\n",
       "    } else {\n",
       "        this.send_message(\"toolbar_button\", {name: name});\n",
       "    }\n",
       "};\n",
       "\n",
       "mpl.figure.prototype.toolbar_button_onmouseover = function(tooltip) {\n",
       "    this.message.textContent = tooltip;\n",
       "};\n",
       "mpl.toolbar_items = [[\"Home\", \"Reset original view\", \"fa fa-home icon-home\", \"home\"], [\"Back\", \"Back to  previous view\", \"fa fa-arrow-left icon-arrow-left\", \"back\"], [\"Forward\", \"Forward to next view\", \"fa fa-arrow-right icon-arrow-right\", \"forward\"], [\"\", \"\", \"\", \"\"], [\"Pan\", \"Pan axes with left mouse, zoom with right\", \"fa fa-arrows icon-move\", \"pan\"], [\"Zoom\", \"Zoom to rectangle\", \"fa fa-square-o icon-check-empty\", \"zoom\"], [\"\", \"\", \"\", \"\"], [\"Download\", \"Download plot\", \"fa fa-floppy-o icon-save\", \"download\"]];\n",
       "\n",
       "mpl.extensions = [\"eps\", \"jpeg\", \"pdf\", \"png\", \"ps\", \"raw\", \"svg\", \"tif\"];\n",
       "\n",
       "mpl.default_extension = \"png\";var comm_websocket_adapter = function(comm) {\n",
       "    // Create a \"websocket\"-like object which calls the given IPython comm\n",
       "    // object with the appropriate methods. Currently this is a non binary\n",
       "    // socket, so there is still some room for performance tuning.\n",
       "    var ws = {};\n",
       "\n",
       "    ws.close = function() {\n",
       "        comm.close()\n",
       "    };\n",
       "    ws.send = function(m) {\n",
       "        //console.log('sending', m);\n",
       "        comm.send(m);\n",
       "    };\n",
       "    // Register the callback with on_msg.\n",
       "    comm.on_msg(function(msg) {\n",
       "        //console.log('receiving', msg['content']['data'], msg);\n",
       "        // Pass the mpl event to the overriden (by mpl) onmessage function.\n",
       "        ws.onmessage(msg['content']['data'])\n",
       "    });\n",
       "    return ws;\n",
       "}\n",
       "\n",
       "mpl.mpl_figure_comm = function(comm, msg) {\n",
       "    // This is the function which gets called when the mpl process\n",
       "    // starts-up an IPython Comm through the \"matplotlib\" channel.\n",
       "\n",
       "    var id = msg.content.data.id;\n",
       "    // Get hold of the div created by the display call when the Comm\n",
       "    // socket was opened in Python.\n",
       "    var element = $(\"#\" + id);\n",
       "    var ws_proxy = comm_websocket_adapter(comm)\n",
       "\n",
       "    function ondownload(figure, format) {\n",
       "        window.open(figure.imageObj.src);\n",
       "    }\n",
       "\n",
       "    var fig = new mpl.figure(id, ws_proxy,\n",
       "                           ondownload,\n",
       "                           element.get(0));\n",
       "\n",
       "    // Call onopen now - mpl needs it, as it is assuming we've passed it a real\n",
       "    // web socket which is closed, not our websocket->open comm proxy.\n",
       "    ws_proxy.onopen();\n",
       "\n",
       "    fig.parent_element = element.get(0);\n",
       "    fig.cell_info = mpl.find_output_cell(\"<div id='\" + id + \"'></div>\");\n",
       "    if (!fig.cell_info) {\n",
       "        console.error(\"Failed to find cell for figure\", id, fig);\n",
       "        return;\n",
       "    }\n",
       "\n",
       "    var output_index = fig.cell_info[2]\n",
       "    var cell = fig.cell_info[0];\n",
       "\n",
       "};\n",
       "\n",
       "mpl.figure.prototype.handle_close = function(fig, msg) {\n",
       "    // Update the output cell to use the data from the current canvas.\n",
       "    fig.push_to_output();\n",
       "    var dataURL = fig.canvas.toDataURL();\n",
       "    // Re-enable the keyboard manager in IPython - without this line, in FF,\n",
       "    // the notebook keyboard shortcuts fail.\n",
       "    IPython.keyboard_manager.enable()\n",
       "    $(fig.parent_element).html('<img src=\"' + dataURL + '\">');\n",
       "    fig.send_message('closing', {});\n",
       "    fig.ws.close()\n",
       "}\n",
       "\n",
       "mpl.figure.prototype.push_to_output = function(remove_interactive) {\n",
       "    // Turn the data on the canvas into data in the output cell.\n",
       "    var dataURL = this.canvas.toDataURL();\n",
       "    this.cell_info[1]['text/html'] = '<img src=\"' + dataURL + '\">';\n",
       "}\n",
       "\n",
       "mpl.figure.prototype.updated_canvas_event = function() {\n",
       "    // Tell IPython that the notebook contents must change.\n",
       "    IPython.notebook.set_dirty(true);\n",
       "    this.send_message(\"ack\", {});\n",
       "    var fig = this;\n",
       "    // Wait a second, then push the new image to the DOM so\n",
       "    // that it is saved nicely (might be nice to debounce this).\n",
       "    setTimeout(function () { fig.push_to_output() }, 1000);\n",
       "}\n",
       "\n",
       "mpl.figure.prototype._init_toolbar = function() {\n",
       "    var fig = this;\n",
       "\n",
       "    var nav_element = $('<div/>')\n",
       "    nav_element.attr('style', 'width: 100%');\n",
       "    this.root.append(nav_element);\n",
       "\n",
       "    // Define a callback function for later on.\n",
       "    function toolbar_event(event) {\n",
       "        return fig.toolbar_button_onclick(event['data']);\n",
       "    }\n",
       "    function toolbar_mouse_event(event) {\n",
       "        return fig.toolbar_button_onmouseover(event['data']);\n",
       "    }\n",
       "\n",
       "    for(var toolbar_ind in mpl.toolbar_items){\n",
       "        var name = mpl.toolbar_items[toolbar_ind][0];\n",
       "        var tooltip = mpl.toolbar_items[toolbar_ind][1];\n",
       "        var image = mpl.toolbar_items[toolbar_ind][2];\n",
       "        var method_name = mpl.toolbar_items[toolbar_ind][3];\n",
       "\n",
       "        if (!name) { continue; };\n",
       "\n",
       "        var button = $('<button class=\"btn btn-default\" href=\"#\" title=\"' + name + '\"><i class=\"fa ' + image + ' fa-lg\"></i></button>');\n",
       "        button.click(method_name, toolbar_event);\n",
       "        button.mouseover(tooltip, toolbar_mouse_event);\n",
       "        nav_element.append(button);\n",
       "    }\n",
       "\n",
       "    // Add the status bar.\n",
       "    var status_bar = $('<span class=\"mpl-message\" style=\"text-align:right; float: right;\"/>');\n",
       "    nav_element.append(status_bar);\n",
       "    this.message = status_bar[0];\n",
       "\n",
       "    // Add the close button to the window.\n",
       "    var buttongrp = $('<div class=\"btn-group inline pull-right\"></div>');\n",
       "    var button = $('<button class=\"btn btn-mini btn-danger\" href=\"#\" title=\"Close figure\"><i class=\"fa fa-times icon-remove icon-large\"></i></button>');\n",
       "    button.click(function (evt) { fig.handle_close(fig, {}); } );\n",
       "    button.mouseover('Close figure', toolbar_mouse_event);\n",
       "    buttongrp.append(button);\n",
       "    var titlebar = this.root.find($('.ui-dialog-titlebar'));\n",
       "    titlebar.prepend(buttongrp);\n",
       "}\n",
       "\n",
       "\n",
       "mpl.figure.prototype._canvas_extra_style = function(el){\n",
       "    // this is important to make the div 'focusable\n",
       "    el.attr('tabindex', 0)\n",
       "    // reach out to IPython and tell the keyboard manager to turn it's self\n",
       "    // off when our div gets focus\n",
       "\n",
       "    // location in version 3\n",
       "    if (IPython.notebook.keyboard_manager) {\n",
       "        IPython.notebook.keyboard_manager.register_events(el);\n",
       "    }\n",
       "    else {\n",
       "        // location in version 2\n",
       "        IPython.keyboard_manager.register_events(el);\n",
       "    }\n",
       "\n",
       "}\n",
       "\n",
       "mpl.figure.prototype._key_event_extra = function(event, name) {\n",
       "    var manager = IPython.notebook.keyboard_manager;\n",
       "    if (!manager)\n",
       "        manager = IPython.keyboard_manager;\n",
       "\n",
       "    // Check for shift+enter\n",
       "    if (event.shiftKey && event.which == 13) {\n",
       "        this.canvas_div.blur();\n",
       "        event.shiftKey = false;\n",
       "        // Send a \"J\" for go to next cell\n",
       "        event.which = 74;\n",
       "        event.keyCode = 74;\n",
       "        manager.command_mode();\n",
       "        manager.handle_keydown(event);\n",
       "    }\n",
       "}\n",
       "\n",
       "mpl.figure.prototype.handle_save = function(fig, msg) {\n",
       "    fig.ondownload(fig, null);\n",
       "}\n",
       "\n",
       "\n",
       "mpl.find_output_cell = function(html_output) {\n",
       "    // Return the cell and output element which can be found *uniquely* in the notebook.\n",
       "    // Note - this is a bit hacky, but it is done because the \"notebook_saving.Notebook\"\n",
       "    // IPython event is triggered only after the cells have been serialised, which for\n",
       "    // our purposes (turning an active figure into a static one), is too late.\n",
       "    var cells = IPython.notebook.get_cells();\n",
       "    var ncells = cells.length;\n",
       "    for (var i=0; i<ncells; i++) {\n",
       "        var cell = cells[i];\n",
       "        if (cell.cell_type === 'code'){\n",
       "            for (var j=0; j<cell.output_area.outputs.length; j++) {\n",
       "                var data = cell.output_area.outputs[j];\n",
       "                if (data.data) {\n",
       "                    // IPython >= 3 moved mimebundle to data attribute of output\n",
       "                    data = data.data;\n",
       "                }\n",
       "                if (data['text/html'] == html_output) {\n",
       "                    return [cell, data, j];\n",
       "                }\n",
       "            }\n",
       "        }\n",
       "    }\n",
       "}\n",
       "\n",
       "// Register the function which deals with the matplotlib target/channel.\n",
       "// The kernel may be null if the page has been refreshed.\n",
       "if (IPython.notebook.kernel != null) {\n",
       "    IPython.notebook.kernel.comm_manager.register_target('matplotlib', mpl.mpl_figure_comm);\n",
       "}\n"
      ],
      "text/plain": [
       "<IPython.core.display.Javascript object>"
      ]
     },
     "metadata": {},
     "output_type": "display_data"
    },
    {
     "data": {
      "text/html": [
       "<img src=\"data:image/png;base64,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\">"
      ],
      "text/plain": [
       "<IPython.core.display.HTML object>"
      ]
     },
     "metadata": {},
     "output_type": "display_data"
    }
   ],
   "source": [
    "%matplotlib notebook\n",
    "import matplotlib.pyplot as plt\n",
    "\n",
    "fig, ax = plt.subplots()"
   ]
  },
  {
   "cell_type": "code",
   "execution_count": 40,
   "metadata": {
    "collapsed": false,
    "scrolled": false
   },
   "outputs": [
    {
     "name": "stdout",
     "output_type": "stream",
     "text": [
      "*** Emitted RunStart:\n",
      "{'beamline_id': 'test', 'owner': 'tester', 'uid': 'cfb25d91-ca49-4af4-b401-11714801839e', 'time': 1433017445.438359, 'scan_id': 123}\n",
      "create: (None), (), {}\n",
      "   ret: None\n",
      "set: (mover: motor), ({'pos': -5},), {}\n",
      "   ret: None\n",
      "trigger: (mover: motor), (), {}\n",
      "   ret: None\n",
      "trigger: (reader: sg), (), {}\n",
      "   ret: None\n",
      "read: (mover: motor), (), {}\n",
      "   ret: {'pos': {'timestamp': 1433017445.849939, 'value': -5}}\n",
      "read: (reader: sg), (), {}\n",
      "   ret: {'intensity': {'timestamp': 1433017445.950493, 'value': 3.7266531720786709e-06}}\n",
      "*** Emitted Event Descriptor:\n",
      "{'data_keys': {'I': {'source': 'sg', 'dtype': 'number'}, 'pos': {'source': 'motor', 'dtype': 'number'}}, 'run_start': 'cfb25d91-ca49-4af4-b401-11714801839e', 'time': 1433017446.265502, 'uid': '04c2685f-4a88-46c9-a5e1-57abdd1518df'}\n",
      "*** Emitted Event:\n",
      "{'seq_num': 1, 'data': {'intensity': {'timestamp': 1433017445.950493, 'value': 3.726653172078671e-06}, 'pos': {'timestamp': 1433017445.849939, 'value': -5}}, 'uid': '5911e663-cea2-45ef-9c0e-26f19526d6cb', 'time': 1433017446.265756, 'descriptor': '04c2685f-4a88-46c9-a5e1-57abdd1518df'}\n",
      "save: (None), (), {}\n",
      "   ret: None\n",
      "create: (None), (), {}\n",
      "   ret: None\n",
      "set: (mover: motor), ({'pos': -4},), {}\n",
      "   ret: None\n",
      "trigger: (mover: motor), (), {}\n",
      "   ret: None\n",
      "trigger: (reader: sg), (), {}\n",
      "   ret: None\n",
      "read: (mover: motor), (), {}\n",
      "   ret: {'pos': {'timestamp': 1433017446.68791, 'value': -4}}\n",
      "read: (reader: sg), (), {}\n",
      "   ret: {'intensity': {'timestamp': 1433017446.792071, 'value': 0.00033546262790251185}}\n",
      "*** Emitted Event:\n",
      "{'seq_num': 2, 'data': {'intensity': {'timestamp': 1433017446.792071, 'value': 0.00033546262790251185}, 'pos': {'timestamp': 1433017446.68791, 'value': -4}}, 'uid': '84e019ae-22f9-4d46-8ef6-568e2b23b3e8', 'time': 1433017447.100018, 'descriptor': '04c2685f-4a88-46c9-a5e1-57abdd1518df'}\n",
      "save: (None), (), {}\n",
      "   ret: None\n",
      "create: (None), (), {}\n",
      "   ret: None\n",
      "set: (mover: motor), ({'pos': -3},), {}\n",
      "   ret: None\n",
      "trigger: (mover: motor), (), {}\n",
      "   ret: None\n",
      "trigger: (reader: sg), (), {}\n",
      "   ret: None\n",
      "read: (mover: motor), (), {}\n",
      "   ret: {'pos': {'timestamp': 1433017447.514702, 'value': -3}}\n",
      "read: (reader: sg), (), {}\n",
      "   ret: {'intensity': {'timestamp': 1433017447.615199, 'value': 0.011108996538242306}}\n",
      "*** Emitted Event:\n",
      "{'seq_num': 3, 'data': {'intensity': {'timestamp': 1433017447.615199, 'value': 0.011108996538242306}, 'pos': {'timestamp': 1433017447.514702, 'value': -3}}, 'uid': '43080d7d-8ad1-4cae-a2f7-e4947f5dab25', 'time': 1433017447.923906, 'descriptor': '04c2685f-4a88-46c9-a5e1-57abdd1518df'}\n",
      "save: (None), (), {}\n",
      "   ret: None\n",
      "create: (None), (), {}\n",
      "   ret: None\n",
      "set: (mover: motor), ({'pos': -2},), {}\n",
      "   ret: None\n",
      "trigger: (mover: motor), (), {}\n",
      "   ret: None\n",
      "trigger: (reader: sg), (), {}\n",
      "   ret: None\n",
      "read: (mover: motor), (), {}\n",
      "   ret: {'pos': {'timestamp': 1433017448.362257, 'value': -2}}\n",
      "read: (reader: sg), (), {}\n",
      "   ret: {'intensity': {'timestamp': 1433017448.463703, 'value': 0.1353352832366127}}\n",
      "*** Emitted Event:\n",
      "{'seq_num': 4, 'data': {'intensity': {'timestamp': 1433017448.463703, 'value': 0.1353352832366127}, 'pos': {'timestamp': 1433017448.362257, 'value': -2}}, 'uid': '3239c13e-208c-49fb-bd6e-71fb83a9dfc0', 'time': 1433017448.771846, 'descriptor': '04c2685f-4a88-46c9-a5e1-57abdd1518df'}\n",
      "save: (None), (), {}\n",
      "   ret: None\n",
      "create: (None), (), {}\n",
      "   ret: None\n",
      "set: (mover: motor), ({'pos': -1},), {}\n",
      "   ret: None\n",
      "trigger: (mover: motor), (), {}\n",
      "   ret: None\n",
      "trigger: (reader: sg), (), {}\n",
      "   ret: None\n",
      "read: (mover: motor), (), {}\n",
      "   ret: {'pos': {'timestamp': 1433017449.190537, 'value': -1}}\n",
      "read: (reader: sg), (), {}\n",
      "   ret: {'intensity': {'timestamp': 1433017449.293802, 'value': 0.60653065971263342}}\n",
      "*** Emitted Event:\n",
      "{'seq_num': 5, 'data': {'intensity': {'timestamp': 1433017449.293802, 'value': 0.6065306597126334}, 'pos': {'timestamp': 1433017449.190537, 'value': -1}}, 'uid': 'fbfab23e-d3da-4385-bca0-234a55449674', 'time': 1433017449.607865, 'descriptor': '04c2685f-4a88-46c9-a5e1-57abdd1518df'}\n",
      "save: (None), (), {}\n",
      "   ret: None\n",
      "create: (None), (), {}\n",
      "   ret: None\n",
      "set: (mover: motor), ({'pos': 0},), {}\n",
      "   ret: None\n",
      "trigger: (mover: motor), (), {}\n",
      "   ret: None\n",
      "trigger: (reader: sg), (), {}\n",
      "   ret: None\n",
      "read: (mover: motor), (), {}\n",
      "   ret: {'pos': {'timestamp': 1433017450.018334, 'value': 0}}\n",
      "read: (reader: sg), (), {}\n",
      "   ret: {'intensity': {'timestamp': 1433017450.122146, 'value': 1.0}}\n",
      "*** Emitted Event:\n",
      "{'seq_num': 6, 'data': {'intensity': {'timestamp': 1433017450.122146, 'value': 1.0}, 'pos': {'timestamp': 1433017450.018334, 'value': 0}}, 'uid': 'd3b2386a-6c60-4fcd-a6ca-b23b8749b6ec', 'time': 1433017450.431633, 'descriptor': '04c2685f-4a88-46c9-a5e1-57abdd1518df'}\n",
      "save: (None), (), {}\n",
      "   ret: None\n",
      "create: (None), (), {}\n",
      "   ret: None\n",
      "set: (mover: motor), ({'pos': 1},), {}\n",
      "   ret: None\n",
      "trigger: (mover: motor), (), {}\n",
      "   ret: None\n",
      "trigger: (reader: sg), (), {}\n",
      "   ret: None\n",
      "read: (mover: motor), (), {}\n",
      "   ret: {'pos': {'timestamp': 1433017450.838384, 'value': 1}}\n",
      "read: (reader: sg), (), {}\n",
      "   ret: {'intensity': {'timestamp': 1433017450.939279, 'value': 0.60653065971263342}}\n",
      "*** Emitted Event:\n",
      "{'seq_num': 7, 'data': {'intensity': {'timestamp': 1433017450.939279, 'value': 0.6065306597126334}, 'pos': {'timestamp': 1433017450.838384, 'value': 1}}, 'uid': '3d7753bc-b345-463f-b20f-3e240071b896', 'time': 1433017451.249614, 'descriptor': '04c2685f-4a88-46c9-a5e1-57abdd1518df'}\n",
      "save: (None), (), {}\n",
      "   ret: None\n",
      "create: (None), (), {}\n",
      "   ret: None\n",
      "set: (mover: motor), ({'pos': 2},), {}\n",
      "   ret: None\n",
      "trigger: (mover: motor), (), {}\n",
      "   ret: None\n",
      "trigger: (reader: sg), (), {}\n",
      "   ret: None\n",
      "read: (mover: motor), (), {}\n",
      "   ret: {'pos': {'timestamp': 1433017451.661096, 'value': 2}}\n",
      "read: (reader: sg), (), {}\n",
      "   ret: {'intensity': {'timestamp': 1433017451.76358, 'value': 0.1353352832366127}}\n",
      "*** Emitted Event:\n",
      "{'seq_num': 8, 'data': {'intensity': {'timestamp': 1433017451.76358, 'value': 0.1353352832366127}, 'pos': {'timestamp': 1433017451.661096, 'value': 2}}, 'uid': '1005394f-fed2-4789-897d-188e74612cbb', 'time': 1433017452.067455, 'descriptor': '04c2685f-4a88-46c9-a5e1-57abdd1518df'}\n",
      "save: (None), (), {}\n",
      "   ret: None\n",
      "create: (None), (), {}\n",
      "   ret: None\n",
      "set: (mover: motor), ({'pos': 3},), {}\n",
      "   ret: None\n",
      "trigger: (mover: motor), (), {}\n",
      "   ret: None\n",
      "trigger: (reader: sg), (), {}\n",
      "   ret: None\n",
      "read: (mover: motor), (), {}\n",
      "   ret: {'pos': {'timestamp': 1433017452.486693, 'value': 3}}\n",
      "read: (reader: sg), (), {}\n",
      "   ret: {'intensity': {'timestamp': 1433017452.591052, 'value': 0.011108996538242306}}\n",
      "*** Emitted Event:\n",
      "{'seq_num': 9, 'data': {'intensity': {'timestamp': 1433017452.591052, 'value': 0.011108996538242306}, 'pos': {'timestamp': 1433017452.486693, 'value': 3}}, 'uid': 'c8380f13-dc64-426f-a6c1-01bd5d7e90cc', 'time': 1433017452.903691, 'descriptor': '04c2685f-4a88-46c9-a5e1-57abdd1518df'}\n",
      "save: (None), (), {}\n",
      "   ret: None\n",
      "create: (None), (), {}\n",
      "   ret: None\n",
      "set: (mover: motor), ({'pos': 4},), {}\n",
      "   ret: None\n",
      "trigger: (mover: motor), (), {}\n",
      "   ret: None\n",
      "trigger: (reader: sg), (), {}\n",
      "   ret: None\n",
      "read: (mover: motor), (), {}\n",
      "   ret: {'pos': {'timestamp': 1433017453.344463, 'value': 4}}\n",
      "read: (reader: sg), (), {}\n",
      "   ret: {'intensity': {'timestamp': 1433017453.448081, 'value': 0.00033546262790251185}}\n",
      "*** Emitted Event:\n",
      "{'seq_num': 10, 'data': {'intensity': {'timestamp': 1433017453.448081, 'value': 0.00033546262790251185}, 'pos': {'timestamp': 1433017453.344463, 'value': 4}}, 'uid': '806c8a2b-ef82-4117-be3a-6c9836830b80', 'time': 1433017453.760924, 'descriptor': '04c2685f-4a88-46c9-a5e1-57abdd1518df'}\n",
      "save: (None), (), {}\n",
      "   ret: None\n",
      "*** Emitted RunStop:\n",
      "{'exit_status': 'success', 'run_start': 'cfb25d91-ca49-4af4-b401-11714801839e', 'time': 1433017453.904836, 'reason': ''}\n"
     ]
    }
   ],
   "source": [
    "def stepscan(motor, detector):\n",
    "    for i in range(-5, 5):\n",
    "        yield Msg('create')\n",
    "        yield Msg('set', motor, {'pos': i})\n",
    "        yield Msg('trigger', motor)\n",
    "        yield Msg('trigger', det)\n",
    "        yield Msg('read', motor)\n",
    "        yield Msg('read', detector)\n",
    "        yield Msg('save')\n",
    "\n",
    "def live_scalar_plotter(ax, y, x):\n",
    "    x_data, y_data = [], []\n",
    "    line, = ax.plot([], [], 'ro', markersize=10)\n",
    "    def update_plot(doc):\n",
    "        # Update with the latest data.\n",
    "        x_data.append(doc['data'][x]['value'])\n",
    "        y_data.append(doc['data'][y]['value'])\n",
    "        line.set_data(x_data, y_data)\n",
    "        # Rescale and redraw.\n",
    "        ax.relim(visible_only=True)\n",
    "        ax.autoscale_view(tight=True)\n",
    "        ax.figure.canvas.draw()\n",
    "    return update_plot\n",
    "\n",
    "# Point the function to our axes above, and specify what to plot.\n",
    "my_plotter = live_scalar_plotter(ax, 'intensity', 'pos')\n",
    "\n",
    "RE.run(stepscan(motor, det), subscriptions={'event': my_plotter})"
   ]
  },
  {
   "cell_type": "markdown",
   "metadata": {},
   "source": [
    "### Saving Documents to metadatastore\n",
    "\n",
    "Mission-critical consumers can be run on the scan thread, where they will block the scan until they return from processing the emitted Documents. This should not be used for computationally heavy tasks like visualization. Its only intended use is for saving data to metadatastore, but users can register any consumers they want, at risk of slowing down the scan.\n",
    "\n",
    "```\n",
    "RE._register_scan_callback('event', some_critical_func)\n",
    "```\n",
    "\n",
    "The convenience function `register_mds` registers metadatastore's four `insert_*` functions to consume their four respective Documents. These are registered on the scan thread, so data is guaranteed to be saved in metadatastore."
   ]
  },
  {
   "cell_type": "code",
   "execution_count": 18,
   "metadata": {
    "collapsed": false
   },
   "outputs": [],
   "source": [
    "%run register_mds.py\n",
    "\n",
    "register_mds(RE)"
   ]
  },
  {
   "cell_type": "markdown",
   "metadata": {},
   "source": [
    "We can verify that this worked by loading this one-point scan from the DataBroker and displaying the data using DataMuxer."
   ]
  },
  {
   "cell_type": "code",
   "execution_count": 19,
   "metadata": {
    "collapsed": false
   },
   "outputs": [
    {
     "name": "stdout",
     "output_type": "stream",
     "text": [
      "*** Emitted RunStart:\n",
      "{'beamline_id': 'test', 'uid': '6fdbb66a-cc83-425b-98ee-ca63dcf89f63', 'time': 1433010038.598662, 'scan_id': 123, 'owner': 'tester'}\n",
      "create: (None), (), {}\n",
      "   ret: None\n",
      "set: (mover: motor), ({'pos': 5},), {}\n",
      "   ret: None\n",
      "trigger: (mover: motor), (), {}\n",
      "   ret: None\n",
      "read: (mover: motor), (), {}\n",
      "   ret: {'pos': {'timestamp': 1433010039.031538, 'value': 5}}\n",
      "*** Emitted Event Descriptor:\n",
      "{'time': 1433010039.236176, 'uid': 'efcf48ca-f499-4ad6-8138-ee4272d4aa76', 'run_start': '6fdbb66a-cc83-425b-98ee-ca63dcf89f63', 'data_keys': {'pos': {'source': 'motor', 'dtype': 'number'}}}\n",
      "*** Emitted Event:\n",
      "{'uid': '181409f6-a4bf-4c8a-91b1-1fdbff036956', 'descriptor': 'efcf48ca-f499-4ad6-8138-ee4272d4aa76', 'time': 1433010039.243223, 'data': {'pos': {'timestamp': 1433010039.031538, 'value': 5}}, 'seq_num': 1}\n",
      "save: (None), (), {}\n",
      "   ret: None\n",
      "*** Emitted RunStop:\n",
      "{'reason': '', 'time': 1433010039.351014, 'run_start': '6fdbb66a-cc83-425b-98ee-ca63dcf89f63', 'exit_status': 'success'}\n"
     ]
    }
   ],
   "source": [
    "RE.run(simple_scan_saving(motor))"
   ]
  },
  {
   "cell_type": "code",
   "execution_count": 20,
   "metadata": {
    "collapsed": false
   },
   "outputs": [
    {
     "data": {
      "text/html": [
       "<table><tr><td>beamline_config</td><td><table><tr><td>config_params</td><td><table></table></td></tr><tr><td>time</td><td>1433010038.598757</td></tr><tr><td>time_as_datetime</td><td>2015-05-30 14:20:38.598757  (3 seconds ago)</td></tr><tr><td>uid</td><td>d88dbdcd-135a-401c-93ed-1845c7aedf1b</td></tr></table></td></tr><tr><td>beamline_id</td><td>test</td></tr><tr><td>event_descriptors</td><td><table style='border: none;'><tr style='border: none;' ><td style='border: none;'><table><tr><td>data_keys</td><td><table><tr><td>pos</td><td><table><tr><td>dtype</td><td>number</td></tr><tr><td>external</td><td>None</td></tr><tr><td>shape</td><td><table style='border: none;'></table></td></tr><tr><td>source</td><td>motor</td></tr></table></td></tr></table></td></tr><tr><td>run_start</td><td>6fdbb66a-cc83-425b-98ee-ca63dcf89f63</td></tr><tr><td>time</td><td>1433010039.236176</td></tr><tr><td>time_as_datetime</td><td>2015-05-30 14:20:39.236176  (2 seconds ago)</td></tr><tr><td>uid</td><td>efcf48ca-f499-4ad6-8138-ee4272d4aa76</td></tr></table></td></tr></table></td></tr><tr><td>exit_reason</td><td></td></tr><tr><td>exit_status</td><td>success</td></tr><tr><td>group</td><td></td></tr><tr><td>owner</td><td>tester</td></tr><tr><td>project</td><td></td></tr><tr><td>run_start_uid</td><td>6fdbb66a-cc83-425b-98ee-ca63dcf89f63</td></tr><tr><td>run_stop_uid</td><td>4fce87e3-a25b-46ce-b647-f18e035d9ddf</td></tr><tr><td>sample</td><td><table></table></td></tr><tr><td>scan_id</td><td>123</td></tr><tr><td>start_datetime</td><td>2015-05-30 14:20:38.598661  (3 seconds ago)</td></tr><tr><td>start_time</td><td>1433010038.598662</td></tr><tr><td>stop_datetime</td><td>2015-05-30 14:20:39.351013  (2 seconds ago)</td></tr><tr><td>stop_time</td><td>1433010039.351014</td></tr></table>"
      ],
      "text/plain": [
       "<Header scan_id=123 run_start_uid='6fdbb66a-cc83-425b-98ee-ca63dcf89f63'>"
      ]
     },
     "execution_count": 20,
     "metadata": {},
     "output_type": "execute_result"
    }
   ],
   "source": [
    "from dataportal import DataBroker as db\n",
    "\n",
    "header = db[-1]\n",
    "header"
   ]
  },
  {
   "cell_type": "code",
   "execution_count": 21,
   "metadata": {
    "collapsed": false
   },
   "outputs": [
    {
     "data": {
      "text/html": [
       "<div style=\"max-height:1000px;max-width:1500px;overflow:auto;\">\n",
       "<table border=\"1\" class=\"dataframe\">\n",
       "  <thead>\n",
       "    <tr style=\"text-align: right;\">\n",
       "      <th></th>\n",
       "      <th>pos</th>\n",
       "      <th>time</th>\n",
       "    </tr>\n",
       "  </thead>\n",
       "  <tbody>\n",
       "    <tr>\n",
       "      <th>0</th>\n",
       "      <td> 5</td>\n",
       "      <td>2015-05-30 18:20:39.243223</td>\n",
       "    </tr>\n",
       "  </tbody>\n",
       "</table>\n",
       "</div>"
      ],
      "text/plain": [
       "   pos                       time\n",
       "0    5 2015-05-30 18:20:39.243223"
      ]
     },
     "execution_count": 21,
     "metadata": {},
     "output_type": "execute_result"
    }
   ],
   "source": [
    "from dataportal import DataMuxer as dm\n",
    "\n",
    "dm.from_events(db.fetch_events(header)).to_sparse_dataframe()"
   ]
  },
  {
   "cell_type": "code",
   "execution_count": null,
   "metadata": {
    "collapsed": true
   },
   "outputs": [],
   "source": []
  }
 ],
 "metadata": {
  "gist_id": "435cc2016dea29848cc9",
  "kernelspec": {
   "display_name": "Python 3",
   "language": "python",
   "name": "python3"
  },
  "language_info": {
   "codemirror_mode": {
    "name": "ipython",
    "version": 3
   },
   "file_extension": ".py",
   "mimetype": "text/x-python",
   "name": "python",
   "nbconvert_exporter": "python",
   "pygments_lexer": "ipython3",
   "version": "3.4.3"
  }
 },
 "nbformat": 4,
 "nbformat_minor": 0
}
