{
 "cells": [
  {
   "cell_type": "markdown",
   "metadata": {},
   "source": [
    "# Blue Sky Run Engine\n",
    "\n",
    "Contents:\n",
    "\n",
    "* The Run Engine processes messages\n",
    "* There is two-way communication between the message generator and the Run Engine\n",
    "* Control timing with 'sleep' and 'wait'\n",
    "* Runs can be aborted\n",
    "* Data can be consumed by Metadatastore and User Functions"
   ]
  },
  {
   "cell_type": "code",
   "execution_count": 1,
   "metadata": {
    "collapsed": false
   },
   "outputs": [
    {
     "name": "stderr",
     "output_type": "stream",
     "text": [
      ":0: FutureWarning: IPython widgets are experimental and may change in the future.\n"
     ]
    }
   ],
   "source": [
    "%run bs.py\n",
    "\n",
    "motor = Mover('motor', ['pos'])\n",
    "det = SynGauss('sg', motor, 'pos', center=0, Imax=1, sigma=1)"
   ]
  },
  {
   "cell_type": "markdown",
   "metadata": {},
   "source": [
    "## The Run Engine processes messages\n",
    "\n",
    "A message has four parts: a command string, an object, a tuple of positional arguments, and a dictionary of keyword arguments."
   ]
  },
  {
   "cell_type": "code",
   "execution_count": 3,
   "metadata": {
    "collapsed": false
   },
   "outputs": [
    {
     "data": {
      "text/plain": [
       "set: (mover: motor), ({'pos': 5},), {}"
      ]
     },
     "execution_count": 3,
     "metadata": {},
     "output_type": "execute_result"
    }
   ],
   "source": [
    "Msg('set', motor, {'pos': 5})"
   ]
  },
  {
   "cell_type": "code",
   "execution_count": 4,
   "metadata": {
    "collapsed": false
   },
   "outputs": [
    {
     "data": {
      "text/plain": [
       "trigger: (mover: motor), (), {}"
      ]
     },
     "execution_count": 4,
     "metadata": {},
     "output_type": "execute_result"
    }
   ],
   "source": [
    "Msg('trigger', motor)"
   ]
  },
  {
   "cell_type": "code",
   "execution_count": 5,
   "metadata": {
    "collapsed": false
   },
   "outputs": [
    {
     "data": {
      "text/plain": [
       "read: (mover: motor), (), {}"
      ]
     },
     "execution_count": 5,
     "metadata": {},
     "output_type": "execute_result"
    }
   ],
   "source": [
    "Msg('read', motor)"
   ]
  },
  {
   "cell_type": "code",
   "execution_count": 2,
   "metadata": {
    "collapsed": true
   },
   "outputs": [],
   "source": [
    "RE = RunEngine()"
   ]
  },
  {
   "cell_type": "code",
   "execution_count": 7,
   "metadata": {
    "collapsed": false,
    "scrolled": true
   },
   "outputs": [
    {
     "name": "stdout",
     "output_type": "stream",
     "text": [
      "Emitted RunStart:\n",
      "{'owner': 'tester', 'scan_id': 123, 'beamline_id': 'test', 'uid': 'b2047c5c-65e8-4b17-a041-90c8c224e54f', 'time': 1432995057.724605}\n",
      "set: (mover: motor), ({'pos': 5},), {}\n",
      "   ret: None\n",
      "trigger: (mover: motor), (), {}\n",
      "   ret: None\n",
      "read: (mover: motor), (), {}\n",
      "   ret: {'pos': {'value': 5, 'timestamp': 1432995058.026932}}\n",
      "Emitted RunStop:\n",
      "{'time': 1432995058.233652, 'reason': '', 'exit_status': 'success', 'run_start': 'b2047c5c-65e8-4b17-a041-90c8c224e54f'}\n"
     ]
    }
   ],
   "source": [
    "def simple_scan(motor):\n",
    "    \"Set, trigger, read\"\n",
    "    yield Msg('set', motor, {'pos': 5})\n",
    "    yield Msg('trigger', motor)\n",
    "    yield Msg('read', motor)\n",
    "    \n",
    "RE.run(simple_scan(motor))"
   ]
  },
  {
   "cell_type": "markdown",
   "metadata": {},
   "source": [
    "Moving a motor and reading it back is boring. Let's add a detector."
   ]
  },
  {
   "cell_type": "code",
   "execution_count": 8,
   "metadata": {
    "collapsed": false
   },
   "outputs": [
    {
     "name": "stdout",
     "output_type": "stream",
     "text": [
      "Emitted RunStart:\n",
      "{'owner': 'tester', 'scan_id': 123, 'beamline_id': 'test', 'uid': '3cc1189f-f7ef-4c73-8a41-4f21ee2a5b6e', 'time': 1432995064.493223}\n",
      "set: (mover: motor), ({'pos': 5},), {}\n",
      "   ret: None\n",
      "trigger: (mover: motor), (), {}\n",
      "   ret: None\n",
      "trigger: (reader: sg), (), {}\n",
      "   ret: None\n",
      "read: (reader: sg), (), {}\n",
      "   ret: {'intensity': {'timetamp': 1432995064.907875, 'value': 3.7266531720786709e-06}}\n",
      "Emitted RunStop:\n",
      "{'time': 1432995065.11085, 'reason': '', 'exit_status': 'success', 'run_start': '3cc1189f-f7ef-4c73-8a41-4f21ee2a5b6e'}\n"
     ]
    }
   ],
   "source": [
    "def simple_scan2(motor, det):\n",
    "    \"Set, trigger motor, trigger detector, read\"\n",
    "    yield Msg('set', motor, {'pos': 5})\n",
    "    yield Msg('trigger', motor)\n",
    "    yield Msg('trigger', det)\n",
    "    yield Msg('read', det)\n",
    "    \n",
    "RE.run(simple_scan2(motor, det))"
   ]
  },
  {
   "cell_type": "markdown",
   "metadata": {},
   "source": [
    "## There is two-way communication between the message generator and the Run Engine"
   ]
  },
  {
   "cell_type": "markdown",
   "metadata": {},
   "source": [
    "Above we the three messages with the responses they generated from the RunEngine. We can use these responses to make our scan adaptive."
   ]
  },
  {
   "cell_type": "code",
   "execution_count": 9,
   "metadata": {
    "collapsed": false
   },
   "outputs": [
    {
     "name": "stdout",
     "output_type": "stream",
     "text": [
      "Emitted RunStart:\n",
      "{'owner': 'tester', 'scan_id': 123, 'beamline_id': 'test', 'uid': 'cb21e9b6-0343-422c-817d-6859a18d9c6d', 'time': 1432995072.243196}\n",
      "LOOP 0\n",
      "set: (mover: motor), ({'pos': 0},), {}\n",
      "   ret: None\n",
      "trigger: (mover: motor), (), {}\n",
      "   ret: None\n",
      "trigger: (reader: sg), (), {}\n",
      "   ret: None\n",
      "read: (reader: sg), (), {}\n",
      "   ret: {'intensity': {'timetamp': 1432995072.655072, 'value': 1.0}}\n",
      "LOOP 1\n",
      "set: (mover: motor), ({'pos': 1},), {}\n",
      "   ret: None\n",
      "trigger: (mover: motor), (), {}\n",
      "   ret: None\n",
      "trigger: (reader: sg), (), {}\n",
      "   ret: None\n",
      "read: (reader: sg), (), {}\n",
      "   ret: {'intensity': {'timetamp': 1432995073.169031, 'value': 0.60653065971263342}}\n",
      "LOOP 2\n",
      "set: (mover: motor), ({'pos': 2},), {}\n",
      "   ret: None\n",
      "trigger: (mover: motor), (), {}\n",
      "   ret: None\n",
      "trigger: (reader: sg), (), {}\n",
      "   ret: None\n",
      "read: (reader: sg), (), {}\n",
      "   ret: {'intensity': {'timetamp': 1432995073.690777, 'value': 0.1353352832366127}}\n",
      "DONE\n",
      "Emitted RunStop:\n",
      "{'time': 1432995073.895493, 'reason': '', 'exit_status': 'success', 'run_start': 'cb21e9b6-0343-422c-817d-6859a18d9c6d'}\n"
     ]
    }
   ],
   "source": [
    "def adaptive_scan(motor, det, threshold):\n",
    "    \"\"\"Set, trigger, read until the detector reads intensity < threshold\"\"\"\n",
    "    i = 0\n",
    "    while True:\n",
    "        print(\"LOOP %d\" % i)\n",
    "        yield Msg('set', motor, {'pos': i})\n",
    "        yield Msg('trigger', motor)\n",
    "        yield Msg('trigger', det)\n",
    "        reading = yield Msg('read', det)\n",
    "        if reading['intensity']['value'] < threshold:\n",
    "            print('DONE')\n",
    "            break\n",
    "        i += 1\n",
    "\n",
    "RE.run(adaptive_scan(motor, det, 0.2))"
   ]
  },
  {
   "cell_type": "markdown",
   "metadata": {},
   "source": [
    "## Control timing with 'sleep' and 'wait'"
   ]
  },
  {
   "cell_type": "markdown",
   "metadata": {},
   "source": [
    "The 'sleep' command is as simple as it sounds."
   ]
  },
  {
   "cell_type": "code",
   "execution_count": 10,
   "metadata": {
    "collapsed": false
   },
   "outputs": [
    {
     "name": "stdout",
     "output_type": "stream",
     "text": [
      "Emitted RunStart:\n",
      "{'owner': 'tester', 'scan_id': 123, 'beamline_id': 'test', 'uid': '7040be31-773a-4170-be40-274d4cff7366', 'time': 1432995082.954654}\n",
      "set: (mover: motor), ({'pos': 5},), {}\n",
      "   ret: None\n",
      "trigger: (mover: motor), (), {}\n",
      "   ret: None\n",
      "sleep: (None), (2,), {}\n",
      "   ret: None\n",
      "trigger: (reader: sg), (), {}\n",
      "   ret: None\n",
      "read: (reader: sg), (), {}\n",
      "   ret: {'intensity': {'timetamp': 1432995085.475303, 'value': 3.7266531720786709e-06}}\n",
      "Emitted RunStop:\n",
      "{'time': 1432995085.683052, 'reason': '', 'exit_status': 'success', 'run_start': '7040be31-773a-4170-be40-274d4cff7366'}\n"
     ]
    }
   ],
   "source": [
    "def sleepy_scan(motor, det):\n",
    "    \"Set, trigger motor, sleep for a fixed time, trigger detector, read\"\n",
    "    yield Msg('set', motor, {'pos': 5})\n",
    "    yield Msg('trigger', motor)\n",
    "    yield Msg('sleep', None, 2)  # units: seconds\n",
    "    yield Msg('trigger', det)\n",
    "    yield Msg('read', det)\n",
    "    \n",
    "RE.run(sleepy_scan(motor, det))"
   ]
  },
  {
   "cell_type": "markdown",
   "metadata": {},
   "source": [
    "The 'wait' command is more powerful. It watches for Movers (e.g., `motor`) to report being done.\n",
    "\n",
    "### Wait for one motor to be done moving"
   ]
  },
  {
   "cell_type": "code",
   "execution_count": 3,
   "metadata": {
    "collapsed": false
   },
   "outputs": [
    {
     "name": "stdout",
     "output_type": "stream",
     "text": [
      "Emitted RunStart:\n",
      "{'scan_id': 123, 'uid': '6ec6a162-0a9f-4500-9b1f-200e2a9be499', 'owner': 'tester', 'time': 1432995419.37463, 'beamline_id': 'test'}\n",
      "set: (mover: motor), ({'pos': 5},), {}\n",
      "   ret: None\n",
      "trigger: (mover: motor), (), {'block_group': 'A'}\n",
      "   ret: None\n",
      "wait: (None), ('A',), {}\n",
      "   ret: {mover: motor}\n",
      "trigger: (reader: sg), (), {}\n",
      "   ret: None\n",
      "read: (reader: sg), (), {}\n",
      "   ret: {'intensity': {'timetamp': 1432995419.890234, 'value': 3.7266531720786709e-06}}\n",
      "Emitted RunStop:\n",
      "{'reason': '', 'run_start': '6ec6a162-0a9f-4500-9b1f-200e2a9be499', 'exit_status': 'success', 'time': 1432995420.096022}\n"
     ]
    }
   ],
   "source": [
    "def wait_one(motor, det):\n",
    "    \"Set, trigger, read\"\n",
    "    yield Msg('set', motor, {'pos': 5})\n",
    "    yield Msg('trigger', motor, block_group='A')  # Add motor to group 'A'.\n",
    "    yield Msg('wait', None, 'A')  # Wait for everything in group 'A' to report done.\n",
    "    yield Msg('trigger', det)\n",
    "    yield Msg('read', det)\n",
    "    \n",
    "RE.run(wait_one(motor, det))"
   ]
  },
  {
   "cell_type": "markdown",
   "metadata": {},
   "source": [
    "Notice, in the log, that the response to `wait` is the set of Movers the scan was waiting on."
   ]
  },
  {
   "cell_type": "markdown",
   "metadata": {},
   "source": [
    "### Wait for two motors to both be done moving"
   ]
  },
  {
   "cell_type": "code",
   "execution_count": 4,
   "metadata": {
    "collapsed": false
   },
   "outputs": [
    {
     "name": "stdout",
     "output_type": "stream",
     "text": [
      "Emitted RunStart:\n",
      "{'scan_id': 123, 'uid': '52de6e9d-c762-4197-a5c2-6bd203a0c0c1', 'owner': 'tester', 'time': 1432995426.953379, 'beamline_id': 'test'}\n",
      "set: (mover: motor1), ({'pos': 5},), {}\n",
      "   ret: None\n",
      "trigger: (mover: motor1), (), {'block_group': 'A'}\n",
      "   ret: None\n",
      "set: (mover: motor2), ({'pos': 5},), {}\n",
      "   ret: None\n",
      "trigger: (mover: motor2), (), {'block_group': 'A'}\n",
      "   ret: None\n",
      "wait: (None), ('A',), {}\n",
      "   ret: {mover: motor2, mover: motor1}\n",
      "trigger: (reader: sg), (), {}\n",
      "   ret: None\n",
      "read: (reader: sg), (), {}\n",
      "   ret: {'intensity': {'timetamp': 1432995427.771697, 'value': 3.7266531720786709e-06}}\n",
      "Emitted RunStop:\n",
      "{'reason': '', 'run_start': '52de6e9d-c762-4197-a5c2-6bd203a0c0c1', 'exit_status': 'success', 'time': 1432995427.976239}\n"
     ]
    }
   ],
   "source": [
    "def wait_multiple(motors, det):\n",
    "    \"Set motors, trigger all motors, wait for all motors to move.\"\n",
    "    for motor in motors:\n",
    "        yield Msg('set', motor, {'pos': 5})\n",
    "        yield Msg('trigger', motor, block_group='A')  # Trigger each motor and add it to group 'A'.\n",
    "    yield Msg('wait', None, 'A')  # Wait for everything in group 'A' to report done.\n",
    "    yield Msg('trigger', det)\n",
    "    yield Msg('read', det)\n",
    "\n",
    "motor1 = Mover('motor1', ['pos'])\n",
    "motor2 = Mover('motor2', ['pos'])\n",
    "\n",
    "RE.run(wait_multiple([motor1, motor2], det))"
   ]
  },
  {
   "cell_type": "markdown",
   "metadata": {},
   "source": [
    "### Advanced Example: Wait for different groups of motors at different points in the run\n",
    "\n",
    "If the `'A'` bit seems pointless, the payoff is here. We trigger all the motors at once, wait for the first two, read, wait for the last one, and read again. This is merely meant to show that complex control flow is possible."
   ]
  },
  {
   "cell_type": "code",
   "execution_count": 5,
   "metadata": {
    "collapsed": false
   },
   "outputs": [
    {
     "name": "stdout",
     "output_type": "stream",
     "text": [
      "Emitted RunStart:\n",
      "{'scan_id': 123, 'uid': 'c89d40aa-166b-473c-aa62-6cbb158350e3', 'owner': 'tester', 'time': 1432995430.894365, 'beamline_id': 'test'}\n",
      "set: (mover: motor1), ({'pos': 5},), {}\n",
      "   ret: None\n",
      "trigger: (mover: motor1), (), {'block_group': 'A'}\n",
      "   ret: None\n",
      "set: (mover: motor2), ({'pos': 5},), {}\n",
      "   ret: None\n",
      "trigger: (mover: motor2), (), {'block_group': 'A'}\n",
      "   ret: None\n",
      "set: (mover: motor3), ({'pos': 5},), {}\n",
      "   ret: None\n",
      "trigger: (mover: motor3), (), {'block_group': 'B'}\n",
      "   ret: None\n",
      "wait: (None), ('A',), {}\n",
      "   ret: {mover: motor2, mover: motor1}\n",
      "trigger: (reader: sg), (), {}\n",
      "   ret: None\n",
      "read: (reader: sg), (), {}\n",
      "   ret: {'intensity': {'timetamp': 1432995432.017687, 'value': 3.7266531720786709e-06}}\n",
      "wait: (None), ('B',), {}\n",
      "   ret: {mover: motor3}\n",
      "trigger: (reader: sg), (), {}\n",
      "   ret: None\n",
      "read: (reader: sg), (), {}\n",
      "   ret: {'intensity': {'timetamp': 1432995432.324914, 'value': 3.7266531720786709e-06}}\n",
      "Emitted RunStop:\n",
      "{'reason': '', 'run_start': 'c89d40aa-166b-473c-aa62-6cbb158350e3', 'exit_status': 'success', 'time': 1432995432.531279}\n"
     ]
    }
   ],
   "source": [
    "def wait_complex(motors, det):\n",
    "    \"Set motors, trigger motors, wait for all motors to move.\"\n",
    "    # Same as above...\n",
    "    for motor in motors[:-1]:\n",
    "        yield Msg('set', motor, {'pos': 5})\n",
    "        yield Msg('trigger', motor, block_group='A')\n",
    "        \n",
    "    # ...but put the last motor is separate group.\n",
    "    yield Msg('set', motors[-1], {'pos': 5})\n",
    "    yield Msg('trigger', motors[-1], block_group='B')\n",
    "    \n",
    "    yield Msg('wait', None, 'A')  # Wait for everything in group 'A' to report done.\n",
    "    yield Msg('trigger', det)\n",
    "    yield Msg('read', det)\n",
    "    \n",
    "    yield Msg('wait', None, 'B')  # Wait for everything in group 'B' to report done.\n",
    "    yield Msg('trigger', det)\n",
    "    yield Msg('read', det)\n",
    "    \n",
    "motor3 = Mover('motor3', ['pos'])\n",
    "\n",
    "RE.run(wait_complex([motor1, motor2, motor3], det))"
   ]
  },
  {
   "cell_type": "markdown",
   "metadata": {},
   "source": [
    "## Runs can be aborted"
   ]
  },
  {
   "cell_type": "markdown",
   "metadata": {},
   "source": [
    "### SIGINT (Ctrl+C) is reliably caught before each message is processed, even across threads.\n",
    "\n",
    "The output below is truncated because it caught Ctrl+C (or, in the notebook, \"Interrupt Kerenel\")."
   ]
  },
  {
   "cell_type": "code",
   "execution_count": 17,
   "metadata": {
    "collapsed": false
   },
   "outputs": [
    {
     "name": "stdout",
     "output_type": "stream",
     "text": [
      "Emitted RunStart:\n",
      "{'owner': 'tester', 'uid': '4df1da7d-f5ec-4d24-ac67-6312cc939b1a', 'scan_id': 123, 'time': 1432990069.884299, 'beamline_id': 'test'}\n",
      "set: (mover: motor), ({'pos': 5},), {}\n",
      "   response: None\n",
      "trigger: (mover: motor), (), {}\n",
      "   response: None\n"
     ]
    }
   ],
   "source": [
    "RE.run(simple_scan(motor))"
   ]
  },
  {
   "cell_type": "markdown",
   "metadata": {},
   "source": [
    "### Threading is optional -- switch it off for easier debugging\n",
    "\n",
    "Again, we'll interrupt the scan. We get exactly the same result, but this time we see a full Traceback."
   ]
  },
  {
   "cell_type": "code",
   "execution_count": 18,
   "metadata": {
    "collapsed": false
   },
   "outputs": [
    {
     "name": "stdout",
     "output_type": "stream",
     "text": [
      "Emitted RunStart:\n",
      "{'owner': 'tester', 'uid': '9149aac3-f2e8-456c-83d3-f8d86162c736', 'scan_id': 123, 'time': 1432990193.53064, 'beamline_id': 'test'}\n",
      "set: (mover: motor), ({'pos': 5},), {}\n",
      "   response: None\n",
      "Emitted RunStop:\n",
      "{'exit_status': 'abort', 'reason': '', 'run_start': '9149aac3-f2e8-456c-83d3-f8d86162c736', 'time': 1432990193.697828}\n"
     ]
    },
    {
     "ename": "RunInterrupt",
     "evalue": "RunEngine detected a SIGINT (Ctrl+C) and aborted the scan. Records were created, but the run was marked with exit_status='abort'.",
     "output_type": "error",
     "traceback": [
      "\u001b[0;31m---------------------------------------------------------------------------\u001b[0m",
      "\u001b[0;31mRunInterrupt\u001b[0m                              Traceback (most recent call last)",
      "\u001b[0;32m<ipython-input-18-63bdca4b590c>\u001b[0m in \u001b[0;36m<module>\u001b[0;34m()\u001b[0m\n\u001b[0;32m----> 1\u001b[0;31m \u001b[0mRE\u001b[0m\u001b[0;34m.\u001b[0m\u001b[0mrun\u001b[0m\u001b[0;34m(\u001b[0m\u001b[0msimple_scan\u001b[0m\u001b[0;34m(\u001b[0m\u001b[0mmotor\u001b[0m\u001b[0;34m)\u001b[0m\u001b[0;34m,\u001b[0m \u001b[0muse_threading\u001b[0m\u001b[0;34m=\u001b[0m\u001b[0;32mFalse\u001b[0m\u001b[0;34m)\u001b[0m\u001b[0;34m\u001b[0m\u001b[0m\n\u001b[0m",
      "\u001b[0;32m/Users/dallan/Documents/Repos/bluesky/bs.py\u001b[0m in \u001b[0;36mrun\u001b[0;34m(self, g, additional_callbacks, use_threading)\u001b[0m\n\u001b[1;32m    287\u001b[0m                 \u001b[0mthread\u001b[0m\u001b[0;34m.\u001b[0m\u001b[0mstart\u001b[0m\u001b[0;34m(\u001b[0m\u001b[0;34m)\u001b[0m\u001b[0;34m\u001b[0m\u001b[0m\n\u001b[1;32m    288\u001b[0m             \u001b[0;32melse\u001b[0m\u001b[0;34m:\u001b[0m\u001b[0;34m\u001b[0m\u001b[0m\n\u001b[0;32m--> 289\u001b[0;31m                 \u001b[0mfunc\u001b[0m\u001b[0;34m(\u001b[0m\u001b[0;34m)\u001b[0m\u001b[0;34m\u001b[0m\u001b[0m\n\u001b[0m\u001b[1;32m    290\u001b[0m \u001b[0;34m\u001b[0m\u001b[0m\n\u001b[1;32m    291\u001b[0m     \u001b[0;32mdef\u001b[0m \u001b[0mrun_engine\u001b[0m\u001b[0;34m(\u001b[0m\u001b[0mself\u001b[0m\u001b[0;34m,\u001b[0m \u001b[0mgen\u001b[0m\u001b[0;34m,\u001b[0m \u001b[0madditional_callbacks\u001b[0m\u001b[0;34m=\u001b[0m\u001b[0;32mNone\u001b[0m\u001b[0;34m)\u001b[0m\u001b[0;34m:\u001b[0m\u001b[0;34m\u001b[0m\u001b[0m\n",
      "\u001b[0;32m/Users/dallan/Documents/Repos/bluesky/bs.py\u001b[0m in \u001b[0;36m<lambda>\u001b[0;34m()\u001b[0m\n\u001b[1;32m    282\u001b[0m                                   \"of this run were created.\")\n\u001b[1;32m    283\u001b[0m         \u001b[0;32mwith\u001b[0m \u001b[0mSignalHandler\u001b[0m\u001b[0;34m(\u001b[0m\u001b[0msignal\u001b[0m\u001b[0;34m.\u001b[0m\u001b[0mSIGINT\u001b[0m\u001b[0;34m)\u001b[0m \u001b[0;32mas\u001b[0m \u001b[0mself\u001b[0m\u001b[0;34m.\u001b[0m\u001b[0m_sigint_handler\u001b[0m\u001b[0;34m:\u001b[0m\u001b[0;34m\u001b[0m\u001b[0m\n\u001b[0;32m--> 284\u001b[0;31m             \u001b[0mfunc\u001b[0m \u001b[0;34m=\u001b[0m \u001b[0;32mlambda\u001b[0m\u001b[0;34m:\u001b[0m \u001b[0mself\u001b[0m\u001b[0;34m.\u001b[0m\u001b[0mrun_engine\u001b[0m\u001b[0;34m(\u001b[0m\u001b[0mg\u001b[0m\u001b[0;34m,\u001b[0m \u001b[0madditional_callbacks\u001b[0m\u001b[0;34m=\u001b[0m\u001b[0;32mNone\u001b[0m\u001b[0;34m)\u001b[0m\u001b[0;34m\u001b[0m\u001b[0m\n\u001b[0m\u001b[1;32m    285\u001b[0m             \u001b[0;32mif\u001b[0m \u001b[0muse_threading\u001b[0m\u001b[0;34m:\u001b[0m\u001b[0;34m\u001b[0m\u001b[0m\n\u001b[1;32m    286\u001b[0m                 \u001b[0mthread\u001b[0m \u001b[0;34m=\u001b[0m \u001b[0mthreading\u001b[0m\u001b[0;34m.\u001b[0m\u001b[0mThread\u001b[0m\u001b[0;34m(\u001b[0m\u001b[0mtarget\u001b[0m\u001b[0;34m=\u001b[0m\u001b[0mfunc\u001b[0m\u001b[0;34m)\u001b[0m\u001b[0;34m\u001b[0m\u001b[0m\n",
      "\u001b[0;32m/Users/dallan/Documents/Repos/bluesky/bs.py\u001b[0m in \u001b[0;36mrun_engine\u001b[0;34m(self, gen, additional_callbacks)\u001b[0m\n\u001b[1;32m    310\u001b[0m                 \u001b[0;32mif\u001b[0m \u001b[0mself\u001b[0m\u001b[0;34m.\u001b[0m\u001b[0m_sigint_handler\u001b[0m\u001b[0;34m.\u001b[0m\u001b[0minterrupted\u001b[0m\u001b[0;34m:\u001b[0m\u001b[0;34m\u001b[0m\u001b[0m\n\u001b[1;32m    311\u001b[0m                     \u001b[0mexit_status\u001b[0m \u001b[0;34m=\u001b[0m \u001b[0;34m'abort'\u001b[0m\u001b[0;34m\u001b[0m\u001b[0m\n\u001b[0;32m--> 312\u001b[0;31m                     raise RunInterrupt(\"RunEngine detected a SIGINT (Ctrl+C) \"\n\u001b[0m\u001b[1;32m    313\u001b[0m                                        \u001b[0;34m\"and aborted the scan. Records were \"\u001b[0m\u001b[0;34m\u001b[0m\u001b[0m\n\u001b[1;32m    314\u001b[0m                                        \u001b[0;34m\"created, but the run was marked with \"\u001b[0m\u001b[0;34m\u001b[0m\u001b[0m\n",
      "\u001b[0;31mRunInterrupt\u001b[0m: RunEngine detected a SIGINT (Ctrl+C) and aborted the scan. Records were created, but the run was marked with exit_status='abort'."
     ]
    }
   ],
   "source": [
    "RE.run(simple_scan(motor), use_threading=False)"
   ]
  },
  {
   "cell_type": "markdown",
   "metadata": {},
   "source": [
    "## Data can be consumed by Metadatastore and User Functions\n",
    "\n",
    "In the examples above, the runs have been emitting RunStart and RunStop Documents, but no Events or Event Descriptors. We will add those now.\n",
    "\n",
    "### Emitting Events and Event Descriptors"
   ]
  },
  {
   "cell_type": "code",
   "execution_count": 18,
   "metadata": {
    "collapsed": false
   },
   "outputs": [
    {
     "name": "stdout",
     "output_type": "stream",
     "text": [
      "Emitted RunStart:\n",
      "{'owner': 'tester', 'scan_id': 123, 'beamline_id': 'test', 'uid': 'd6efa520-b57e-4ea4-abb6-7164a3839de2', 'time': 1432995211.20246}\n",
      "create: (None), (), {}\n",
      "   ret: None\n",
      "set: (mover: motor), ({'pos': 5},), {}\n",
      "   ret: None\n",
      "trigger: (mover: motor), (), {}\n",
      "   ret: None\n",
      "read: (mover: motor), (), {}\n",
      "   ret: {'pos': {'value': 5, 'timestamp': 1432995211.61009}}\n",
      "Emitted Event Descriptor:\n",
      "{'time': 1432995211.811159, 'uid': '96849beb-e998-4ff1-b184-290515078630', 'data_keys': {'pos': {'dtype': 'number', 'source': 'motor'}}, 'run_start': 'd6efa520-b57e-4ea4-abb6-7164a3839de2'}\n",
      "Emitted Event:\n",
      "{'seq_num': 1, 'data': {'pos': {'value': 5, 'timestamp': 1432995211.61009}}, 'descriptor': '96849beb-e998-4ff1-b184-290515078630', 'time': 1432995211.811301, 'uid': '31297c20-dd81-42b6-bed2-0550d2cf7215'}\n",
      "save: (None), (), {}\n",
      "   ret: None\n",
      "Emitted RunStop:\n",
      "{'time': 1432995211.916451, 'reason': '', 'exit_status': 'success', 'run_start': 'd6efa520-b57e-4ea4-abb6-7164a3839de2'}\n"
     ]
    }
   ],
   "source": [
    "def simple_scan_saving(motor):\n",
    "    \"Set, trigger, read\"\n",
    "    yield Msg('create')\n",
    "    yield Msg('set', motor, {'pos': 5})\n",
    "    yield Msg('trigger', motor)\n",
    "    yield Msg('read', motor)\n",
    "    yield Msg('save')\n",
    "    \n",
    "RE.run(simple_scan_saving(motor))"
   ]
  },
  {
   "cell_type": "markdown",
   "metadata": {},
   "source": [
    "The `'create'` and `'save'` commands collect all the reads between them into one Event. If that particular set of objects has never been bundled into an Event during this run, then an Event Descriptor is also created."
   ]
  },
  {
   "cell_type": "markdown",
   "metadata": {},
   "source": [
    "### Consuming Documents for Live Visualization and Analysis"
   ]
  },
  {
   "cell_type": "code",
   "execution_count": null,
   "metadata": {
    "collapsed": true
   },
   "outputs": [],
   "source": []
  },
  {
   "cell_type": "code",
   "execution_count": null,
   "metadata": {
    "collapsed": true
   },
   "outputs": [],
   "source": [
    "%run register_mds.py\n",
    "\n",
    "register_mds(RE)"
   ]
  }
 ],
 "metadata": {
  "gist_id": "435cc2016dea29848cc9",
  "kernelspec": {
   "display_name": "Python 3",
   "language": "python",
   "name": "python3"
  },
  "language_info": {
   "codemirror_mode": {
    "name": "ipython",
    "version": 3
   },
   "file_extension": ".py",
   "mimetype": "text/x-python",
   "name": "python",
   "nbconvert_exporter": "python",
   "pygments_lexer": "ipython3",
   "version": "3.4.3"
  }
 },
 "nbformat": 4,
 "nbformat_minor": 0
}
