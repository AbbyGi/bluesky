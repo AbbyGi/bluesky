{
 "cells": [
  {
   "cell_type": "markdown",
   "metadata": {},
   "source": [
    "# Blue Sky Run Engine\n",
    "\n",
    "Contents:\n",
    "\n",
    "* The Run Engine processes messages\n",
    "* There is two-way communication between the message generator and the Run Engine\n",
    "* Control timing with 'sleep' and 'wait'\n",
    "* Runs can be aborted\n",
    "* Data can be consumed live by user-defined functions"
   ]
  },
  {
   "cell_type": "code",
   "execution_count": 25,
   "metadata": {
    "collapsed": false
   },
   "outputs": [],
   "source": [
    "%run bs.py\n",
    "\n",
    "motor = Mover('motor', ['pos'])\n",
    "det = SynGauss('sg', motor, 'pos', center=0, Imax=1, sigma=1)"
   ]
  },
  {
   "cell_type": "markdown",
   "metadata": {},
   "source": [
    "## The Run Engine processes messages\n",
    "\n",
    "A message has four parts: a command string, an object, a tuple of positional arguments, and a dictionary of keyword arguments."
   ]
  },
  {
   "cell_type": "code",
   "execution_count": 26,
   "metadata": {
    "collapsed": false
   },
   "outputs": [
    {
     "data": {
      "text/plain": [
       "set: (mover: motor), ({'pos': 5},), {}"
      ]
     },
     "execution_count": 26,
     "metadata": {},
     "output_type": "execute_result"
    }
   ],
   "source": [
    "Msg('set', motor, {'pos': 5})"
   ]
  },
  {
   "cell_type": "code",
   "execution_count": 27,
   "metadata": {
    "collapsed": false
   },
   "outputs": [
    {
     "data": {
      "text/plain": [
       "trigger: (mover: motor), (), {}"
      ]
     },
     "execution_count": 27,
     "metadata": {},
     "output_type": "execute_result"
    }
   ],
   "source": [
    "Msg('trigger', motor)"
   ]
  },
  {
   "cell_type": "code",
   "execution_count": 28,
   "metadata": {
    "collapsed": false
   },
   "outputs": [
    {
     "data": {
      "text/plain": [
       "read: (mover: motor), (), {}"
      ]
     },
     "execution_count": 28,
     "metadata": {},
     "output_type": "execute_result"
    }
   ],
   "source": [
    "Msg('read', motor)"
   ]
  },
  {
   "cell_type": "code",
   "execution_count": 29,
   "metadata": {
    "collapsed": true
   },
   "outputs": [],
   "source": [
    "RE = RunEngine()"
   ]
  },
  {
   "cell_type": "code",
   "execution_count": 6,
   "metadata": {
    "collapsed": false,
    "scrolled": false
   },
   "outputs": [
    {
     "name": "stdout",
     "output_type": "stream",
     "text": [
      "Emitted RunStart:\n",
      "{'beamline_id': 'test', 'uid': '01d84316-c77e-4b2b-805f-143aae45f892', 'scan_id': 123, 'time': 1432999373.570635, 'owner': 'tester'}\n",
      "set: (mover: motor), ({'pos': 5},), {}\n",
      "   ret: None\n",
      "trigger: (mover: motor), (), {}\n",
      "   ret: None\n",
      "read: (mover: motor), (), {}\n",
      "   ret: {'pos': {'timestamp': 1432999373.875185, 'value': 5}}\n",
      "Emitted RunStop:\n",
      "{'exit_status': 'success', 'run_start': '01d84316-c77e-4b2b-805f-143aae45f892', 'reason': '', 'time': 1432999374.077595}\n"
     ]
    }
   ],
   "source": [
    "def simple_scan(motor):\n",
    "    \"Set, trigger, read\"\n",
    "    yield Msg('set', motor, {'pos': 5})\n",
    "    yield Msg('trigger', motor)\n",
    "    yield Msg('read', motor)\n",
    "    \n",
    "RE.run(simple_scan(motor))"
   ]
  },
  {
   "cell_type": "markdown",
   "metadata": {},
   "source": [
    "Moving a motor and reading it back is boring. Let's add a detector."
   ]
  },
  {
   "cell_type": "code",
   "execution_count": 7,
   "metadata": {
    "collapsed": false
   },
   "outputs": [
    {
     "name": "stdout",
     "output_type": "stream",
     "text": [
      "Emitted RunStart:\n",
      "{'beamline_id': 'test', 'uid': '23ba1252-fe53-4df7-b864-2106df807c9e', 'scan_id': 123, 'time': 1432999375.54955, 'owner': 'tester'}\n",
      "set: (mover: motor), ({'pos': 5},), {}\n",
      "   ret: None\n",
      "trigger: (mover: motor), (), {}\n",
      "   ret: None\n",
      "trigger: (reader: sg), (), {}\n",
      "   ret: None\n",
      "read: (reader: sg), (), {}\n",
      "   ret: {'intensity': {'value': 3.7266531720786709e-06, 'timetamp': 1432999375.960118}}\n",
      "Emitted RunStop:\n",
      "{'exit_status': 'success', 'run_start': '23ba1252-fe53-4df7-b864-2106df807c9e', 'reason': '', 'time': 1432999376.170663}\n"
     ]
    }
   ],
   "source": [
    "def simple_scan2(motor, det):\n",
    "    \"Set, trigger motor, trigger detector, read\"\n",
    "    yield Msg('set', motor, {'pos': 5})\n",
    "    yield Msg('trigger', motor)\n",
    "    yield Msg('trigger', det)\n",
    "    yield Msg('read', det)\n",
    "    \n",
    "RE.run(simple_scan2(motor, det))"
   ]
  },
  {
   "cell_type": "markdown",
   "metadata": {},
   "source": [
    "## There is two-way communication between the message generator and the Run Engine"
   ]
  },
  {
   "cell_type": "markdown",
   "metadata": {},
   "source": [
    "Above we the three messages with the responses they generated from the RunEngine. We can use these responses to make our scan adaptive."
   ]
  },
  {
   "cell_type": "code",
   "execution_count": 8,
   "metadata": {
    "collapsed": false
   },
   "outputs": [
    {
     "name": "stdout",
     "output_type": "stream",
     "text": [
      "Emitted RunStart:\n",
      "{'beamline_id': 'test', 'uid': 'c0f0e5ba-ebbe-4095-bfe7-6705e965d4ca', 'scan_id': 123, 'time': 1432999378.712136, 'owner': 'tester'}\n",
      "LOOP 0\n",
      "set: (mover: motor), ({'pos': 0},), {}\n",
      "   ret: None\n",
      "trigger: (mover: motor), (), {}\n",
      "   ret: None\n",
      "trigger: (reader: sg), (), {}\n",
      "   ret: None\n",
      "read: (reader: sg), (), {}\n",
      "   ret: {'intensity': {'value': 1.0, 'timetamp': 1432999379.120565}}\n",
      "LOOP 1\n",
      "set: (mover: motor), ({'pos': 1},), {}\n",
      "   ret: None\n",
      "trigger: (mover: motor), (), {}\n",
      "   ret: None\n",
      "trigger: (reader: sg), (), {}\n",
      "   ret: None\n",
      "read: (reader: sg), (), {}\n",
      "   ret: {'intensity': {'value': 0.60653065971263342, 'timetamp': 1432999379.640139}}\n",
      "LOOP 2\n",
      "set: (mover: motor), ({'pos': 2},), {}\n",
      "   ret: None\n",
      "trigger: (mover: motor), (), {}\n",
      "   ret: None\n",
      "trigger: (reader: sg), (), {}\n",
      "   ret: None\n",
      "read: (reader: sg), (), {}\n",
      "   ret: {'intensity': {'value': 0.1353352832366127, 'timetamp': 1432999380.151278}}\n",
      "DONE\n",
      "Emitted RunStop:\n",
      "{'exit_status': 'success', 'run_start': 'c0f0e5ba-ebbe-4095-bfe7-6705e965d4ca', 'reason': '', 'time': 1432999380.357226}\n"
     ]
    }
   ],
   "source": [
    "def adaptive_scan(motor, det, threshold):\n",
    "    \"\"\"Set, trigger, read until the detector reads intensity < threshold\"\"\"\n",
    "    i = 0\n",
    "    while True:\n",
    "        print(\"LOOP %d\" % i)\n",
    "        yield Msg('set', motor, {'pos': i})\n",
    "        yield Msg('trigger', motor)\n",
    "        yield Msg('trigger', det)\n",
    "        reading = yield Msg('read', det)\n",
    "        if reading['intensity']['value'] < threshold:\n",
    "            print('DONE')\n",
    "            break\n",
    "        i += 1\n",
    "\n",
    "RE.run(adaptive_scan(motor, det, 0.2))"
   ]
  },
  {
   "cell_type": "markdown",
   "metadata": {},
   "source": [
    "## Control timing with 'sleep' and 'wait'"
   ]
  },
  {
   "cell_type": "markdown",
   "metadata": {},
   "source": [
    "The 'sleep' command is as simple as it sounds."
   ]
  },
  {
   "cell_type": "code",
   "execution_count": 10,
   "metadata": {
    "collapsed": false
   },
   "outputs": [
    {
     "name": "stdout",
     "output_type": "stream",
     "text": [
      "Emitted RunStart:\n",
      "{'owner': 'tester', 'scan_id': 123, 'beamline_id': 'test', 'uid': '7040be31-773a-4170-be40-274d4cff7366', 'time': 1432995082.954654}\n",
      "set: (mover: motor), ({'pos': 5},), {}\n",
      "   ret: None\n",
      "trigger: (mover: motor), (), {}\n",
      "   ret: None\n",
      "sleep: (None), (2,), {}\n",
      "   ret: None\n",
      "trigger: (reader: sg), (), {}\n",
      "   ret: None\n",
      "read: (reader: sg), (), {}\n",
      "   ret: {'intensity': {'timetamp': 1432995085.475303, 'value': 3.7266531720786709e-06}}\n",
      "Emitted RunStop:\n",
      "{'time': 1432995085.683052, 'reason': '', 'exit_status': 'success', 'run_start': '7040be31-773a-4170-be40-274d4cff7366'}\n"
     ]
    }
   ],
   "source": [
    "def sleepy_scan(motor, det):\n",
    "    \"Set, trigger motor, sleep for a fixed time, trigger detector, read\"\n",
    "    yield Msg('set', motor, {'pos': 5})\n",
    "    yield Msg('trigger', motor)\n",
    "    yield Msg('sleep', None, 2)  # units: seconds\n",
    "    yield Msg('trigger', det)\n",
    "    yield Msg('read', det)\n",
    "    \n",
    "RE.run(sleepy_scan(motor, det))"
   ]
  },
  {
   "cell_type": "markdown",
   "metadata": {},
   "source": [
    "The 'wait' command is more powerful. It watches for Movers (e.g., `motor`) to report being done.\n",
    "\n",
    "### Wait for one motor to be done moving"
   ]
  },
  {
   "cell_type": "code",
   "execution_count": 3,
   "metadata": {
    "collapsed": false
   },
   "outputs": [
    {
     "name": "stdout",
     "output_type": "stream",
     "text": [
      "Emitted RunStart:\n",
      "{'scan_id': 123, 'uid': '6ec6a162-0a9f-4500-9b1f-200e2a9be499', 'owner': 'tester', 'time': 1432995419.37463, 'beamline_id': 'test'}\n",
      "set: (mover: motor), ({'pos': 5},), {}\n",
      "   ret: None\n",
      "trigger: (mover: motor), (), {'block_group': 'A'}\n",
      "   ret: None\n",
      "wait: (None), ('A',), {}\n",
      "   ret: {mover: motor}\n",
      "trigger: (reader: sg), (), {}\n",
      "   ret: None\n",
      "read: (reader: sg), (), {}\n",
      "   ret: {'intensity': {'timetamp': 1432995419.890234, 'value': 3.7266531720786709e-06}}\n",
      "Emitted RunStop:\n",
      "{'reason': '', 'run_start': '6ec6a162-0a9f-4500-9b1f-200e2a9be499', 'exit_status': 'success', 'time': 1432995420.096022}\n"
     ]
    }
   ],
   "source": [
    "def wait_one(motor, det):\n",
    "    \"Set, trigger, read\"\n",
    "    yield Msg('set', motor, {'pos': 5})\n",
    "    yield Msg('trigger', motor, block_group='A')  # Add motor to group 'A'.\n",
    "    yield Msg('wait', None, 'A')  # Wait for everything in group 'A' to report done.\n",
    "    yield Msg('trigger', det)\n",
    "    yield Msg('read', det)\n",
    "    \n",
    "RE.run(wait_one(motor, det))"
   ]
  },
  {
   "cell_type": "markdown",
   "metadata": {},
   "source": [
    "Notice, in the log, that the response to `wait` is the set of Movers the scan was waiting on."
   ]
  },
  {
   "cell_type": "markdown",
   "metadata": {},
   "source": [
    "### Wait for two motors to both be done moving"
   ]
  },
  {
   "cell_type": "code",
   "execution_count": 4,
   "metadata": {
    "collapsed": false
   },
   "outputs": [
    {
     "name": "stdout",
     "output_type": "stream",
     "text": [
      "Emitted RunStart:\n",
      "{'scan_id': 123, 'uid': '52de6e9d-c762-4197-a5c2-6bd203a0c0c1', 'owner': 'tester', 'time': 1432995426.953379, 'beamline_id': 'test'}\n",
      "set: (mover: motor1), ({'pos': 5},), {}\n",
      "   ret: None\n",
      "trigger: (mover: motor1), (), {'block_group': 'A'}\n",
      "   ret: None\n",
      "set: (mover: motor2), ({'pos': 5},), {}\n",
      "   ret: None\n",
      "trigger: (mover: motor2), (), {'block_group': 'A'}\n",
      "   ret: None\n",
      "wait: (None), ('A',), {}\n",
      "   ret: {mover: motor2, mover: motor1}\n",
      "trigger: (reader: sg), (), {}\n",
      "   ret: None\n",
      "read: (reader: sg), (), {}\n",
      "   ret: {'intensity': {'timetamp': 1432995427.771697, 'value': 3.7266531720786709e-06}}\n",
      "Emitted RunStop:\n",
      "{'reason': '', 'run_start': '52de6e9d-c762-4197-a5c2-6bd203a0c0c1', 'exit_status': 'success', 'time': 1432995427.976239}\n"
     ]
    }
   ],
   "source": [
    "def wait_multiple(motors, det):\n",
    "    \"Set motors, trigger all motors, wait for all motors to move.\"\n",
    "    for motor in motors:\n",
    "        yield Msg('set', motor, {'pos': 5})\n",
    "        yield Msg('trigger', motor, block_group='A')  # Trigger each motor and add it to group 'A'.\n",
    "    yield Msg('wait', None, 'A')  # Wait for everything in group 'A' to report done.\n",
    "    yield Msg('trigger', det)\n",
    "    yield Msg('read', det)\n",
    "\n",
    "motor1 = Mover('motor1', ['pos'])\n",
    "motor2 = Mover('motor2', ['pos'])\n",
    "\n",
    "RE.run(wait_multiple([motor1, motor2], det))"
   ]
  },
  {
   "cell_type": "markdown",
   "metadata": {},
   "source": [
    "### Advanced Example: Wait for different groups of motors at different points in the run\n",
    "\n",
    "If the `'A'` bit seems pointless, the payoff is here. We trigger all the motors at once, wait for the first two, read, wait for the last one, and read again. This is merely meant to show that complex control flow is possible."
   ]
  },
  {
   "cell_type": "code",
   "execution_count": 5,
   "metadata": {
    "collapsed": false
   },
   "outputs": [
    {
     "name": "stdout",
     "output_type": "stream",
     "text": [
      "Emitted RunStart:\n",
      "{'scan_id': 123, 'uid': 'c89d40aa-166b-473c-aa62-6cbb158350e3', 'owner': 'tester', 'time': 1432995430.894365, 'beamline_id': 'test'}\n",
      "set: (mover: motor1), ({'pos': 5},), {}\n",
      "   ret: None\n",
      "trigger: (mover: motor1), (), {'block_group': 'A'}\n",
      "   ret: None\n",
      "set: (mover: motor2), ({'pos': 5},), {}\n",
      "   ret: None\n",
      "trigger: (mover: motor2), (), {'block_group': 'A'}\n",
      "   ret: None\n",
      "set: (mover: motor3), ({'pos': 5},), {}\n",
      "   ret: None\n",
      "trigger: (mover: motor3), (), {'block_group': 'B'}\n",
      "   ret: None\n",
      "wait: (None), ('A',), {}\n",
      "   ret: {mover: motor2, mover: motor1}\n",
      "trigger: (reader: sg), (), {}\n",
      "   ret: None\n",
      "read: (reader: sg), (), {}\n",
      "   ret: {'intensity': {'timetamp': 1432995432.017687, 'value': 3.7266531720786709e-06}}\n",
      "wait: (None), ('B',), {}\n",
      "   ret: {mover: motor3}\n",
      "trigger: (reader: sg), (), {}\n",
      "   ret: None\n",
      "read: (reader: sg), (), {}\n",
      "   ret: {'intensity': {'timetamp': 1432995432.324914, 'value': 3.7266531720786709e-06}}\n",
      "Emitted RunStop:\n",
      "{'reason': '', 'run_start': 'c89d40aa-166b-473c-aa62-6cbb158350e3', 'exit_status': 'success', 'time': 1432995432.531279}\n"
     ]
    }
   ],
   "source": [
    "def wait_complex(motors, det):\n",
    "    \"Set motors, trigger motors, wait for all motors to move.\"\n",
    "    # Same as above...\n",
    "    for motor in motors[:-1]:\n",
    "        yield Msg('set', motor, {'pos': 5})\n",
    "        yield Msg('trigger', motor, block_group='A')\n",
    "        \n",
    "    # ...but put the last motor is separate group.\n",
    "    yield Msg('set', motors[-1], {'pos': 5})\n",
    "    yield Msg('trigger', motors[-1], block_group='B')\n",
    "    \n",
    "    yield Msg('wait', None, 'A')  # Wait for everything in group 'A' to report done.\n",
    "    yield Msg('trigger', det)\n",
    "    yield Msg('read', det)\n",
    "    \n",
    "    yield Msg('wait', None, 'B')  # Wait for everything in group 'B' to report done.\n",
    "    yield Msg('trigger', det)\n",
    "    yield Msg('read', det)\n",
    "    \n",
    "motor3 = Mover('motor3', ['pos'])\n",
    "\n",
    "RE.run(wait_complex([motor1, motor2, motor3], det))"
   ]
  },
  {
   "cell_type": "markdown",
   "metadata": {},
   "source": [
    "## Runs can be aborted"
   ]
  },
  {
   "cell_type": "markdown",
   "metadata": {},
   "source": [
    "### SIGINT (Ctrl+C) is reliably caught before each message is processed, even across threads.\n",
    "\n",
    "The output below is truncated because it caught Ctrl+C (or, in the notebook, \"Interrupt Kerenel\")."
   ]
  },
  {
   "cell_type": "code",
   "execution_count": 17,
   "metadata": {
    "collapsed": false
   },
   "outputs": [
    {
     "name": "stdout",
     "output_type": "stream",
     "text": [
      "Emitted RunStart:\n",
      "{'owner': 'tester', 'uid': '4df1da7d-f5ec-4d24-ac67-6312cc939b1a', 'scan_id': 123, 'time': 1432990069.884299, 'beamline_id': 'test'}\n",
      "set: (mover: motor), ({'pos': 5},), {}\n",
      "   response: None\n",
      "trigger: (mover: motor), (), {}\n",
      "   response: None\n"
     ]
    }
   ],
   "source": [
    "RE.run(simple_scan(motor))"
   ]
  },
  {
   "cell_type": "markdown",
   "metadata": {},
   "source": [
    "### Threading is optional -- switch it off for easier debugging\n",
    "\n",
    "Again, we'll interrupt the scan. We get exactly the same result, but this time we see a full Traceback."
   ]
  },
  {
   "cell_type": "code",
   "execution_count": 43,
   "metadata": {
    "collapsed": false
   },
   "outputs": [
    {
     "name": "stdout",
     "output_type": "stream",
     "text": [
      "Emitted RunStart:\n",
      "{'beamline_id': 'test', 'uid': '0877e421-a308-49c1-a489-876440d6fdb2', 'scan_id': 123, 'time': 1433000200.57927, 'owner': 'tester'}\n",
      "set: (mover: motor), ({'pos': 5},), {}\n",
      "   ret: None\n",
      "Emitted RunStop:\n",
      "{'exit_status': 'abort', 'run_start': '0877e421-a308-49c1-a489-876440d6fdb2', 'reason': '', 'time': 1433000200.768894}\n"
     ]
    },
    {
     "ename": "RunInterrupt",
     "evalue": "RunEngine detected a SIGINT (Ctrl+C) and aborted the scan. Records were created, but the run was marked with exit_status='abort'.",
     "output_type": "error",
     "traceback": [
      "\u001b[0;31m---------------------------------------------------------------------------\u001b[0m",
      "\u001b[0;31mRunInterrupt\u001b[0m                              Traceback (most recent call last)",
      "\u001b[0;32m<ipython-input-43-63bdca4b590c>\u001b[0m in \u001b[0;36m<module>\u001b[0;34m()\u001b[0m\n\u001b[0;32m----> 1\u001b[0;31m \u001b[0mRE\u001b[0m\u001b[0;34m.\u001b[0m\u001b[0mrun\u001b[0m\u001b[0;34m(\u001b[0m\u001b[0msimple_scan\u001b[0m\u001b[0;34m(\u001b[0m\u001b[0mmotor\u001b[0m\u001b[0;34m)\u001b[0m\u001b[0;34m,\u001b[0m \u001b[0muse_threading\u001b[0m\u001b[0;34m=\u001b[0m\u001b[0;32mFalse\u001b[0m\u001b[0;34m)\u001b[0m\u001b[0;34m\u001b[0m\u001b[0m\n\u001b[0m",
      "\u001b[0;32m/Users/dallan/Documents/Repos/bluesky/bs.py\u001b[0m in \u001b[0;36mrun\u001b[0;34m(self, g, subscriptions, use_threading)\u001b[0m\n\u001b[1;32m    308\u001b[0m                     \u001b[0mself\u001b[0m\u001b[0;34m.\u001b[0m\u001b[0mdispatcher\u001b[0m\u001b[0;34m.\u001b[0m\u001b[0mprocess_all_queues\u001b[0m\u001b[0;34m(\u001b[0m\u001b[0;34m)\u001b[0m\u001b[0;34m\u001b[0m\u001b[0m\n\u001b[1;32m    309\u001b[0m             \u001b[0;32melse\u001b[0m\u001b[0;34m:\u001b[0m\u001b[0;34m\u001b[0m\u001b[0m\n\u001b[0;32m--> 310\u001b[0;31m                 \u001b[0mfunc\u001b[0m\u001b[0;34m(\u001b[0m\u001b[0;34m)\u001b[0m\u001b[0;34m\u001b[0m\u001b[0m\n\u001b[0m\u001b[1;32m    311\u001b[0m                 \u001b[0mself\u001b[0m\u001b[0;34m.\u001b[0m\u001b[0mdispatcher\u001b[0m\u001b[0;34m.\u001b[0m\u001b[0mprocess_all_queues\u001b[0m\u001b[0;34m(\u001b[0m\u001b[0;34m)\u001b[0m\u001b[0;34m\u001b[0m\u001b[0m\n\u001b[1;32m    312\u001b[0m \u001b[0;34m\u001b[0m\u001b[0m\n",
      "\u001b[0;32m/Users/dallan/Documents/Repos/bluesky/bs.py\u001b[0m in \u001b[0;36m<lambda>\u001b[0;34m()\u001b[0m\n\u001b[1;32m    301\u001b[0m                                   \"of this run were created.\")\n\u001b[1;32m    302\u001b[0m         \u001b[0;32mwith\u001b[0m \u001b[0mSignalHandler\u001b[0m\u001b[0;34m(\u001b[0m\u001b[0msignal\u001b[0m\u001b[0;34m.\u001b[0m\u001b[0mSIGINT\u001b[0m\u001b[0;34m)\u001b[0m \u001b[0;32mas\u001b[0m \u001b[0mself\u001b[0m\u001b[0;34m.\u001b[0m\u001b[0m_sigint_handler\u001b[0m\u001b[0;34m:\u001b[0m\u001b[0;34m\u001b[0m\u001b[0m\n\u001b[0;32m--> 303\u001b[0;31m             \u001b[0mfunc\u001b[0m \u001b[0;34m=\u001b[0m \u001b[0;32mlambda\u001b[0m\u001b[0;34m:\u001b[0m \u001b[0mself\u001b[0m\u001b[0;34m.\u001b[0m\u001b[0mrun_engine\u001b[0m\u001b[0;34m(\u001b[0m\u001b[0mg\u001b[0m\u001b[0;34m)\u001b[0m\u001b[0;34m\u001b[0m\u001b[0m\n\u001b[0m\u001b[1;32m    304\u001b[0m             \u001b[0;32mif\u001b[0m \u001b[0muse_threading\u001b[0m\u001b[0;34m:\u001b[0m\u001b[0;34m\u001b[0m\u001b[0m\n\u001b[1;32m    305\u001b[0m                 \u001b[0mthread\u001b[0m \u001b[0;34m=\u001b[0m \u001b[0mthreading\u001b[0m\u001b[0;34m.\u001b[0m\u001b[0mThread\u001b[0m\u001b[0;34m(\u001b[0m\u001b[0mtarget\u001b[0m\u001b[0;34m=\u001b[0m\u001b[0mfunc\u001b[0m\u001b[0;34m)\u001b[0m\u001b[0;34m\u001b[0m\u001b[0m\n",
      "\u001b[0;32m/Users/dallan/Documents/Repos/bluesky/bs.py\u001b[0m in \u001b[0;36mrun_engine\u001b[0;34m(self, gen)\u001b[0m\n\u001b[1;32m    332\u001b[0m                 \u001b[0;32mif\u001b[0m \u001b[0mself\u001b[0m\u001b[0;34m.\u001b[0m\u001b[0m_sigint_handler\u001b[0m\u001b[0;34m.\u001b[0m\u001b[0minterrupted\u001b[0m\u001b[0;34m:\u001b[0m\u001b[0;34m\u001b[0m\u001b[0m\n\u001b[1;32m    333\u001b[0m                     \u001b[0mexit_status\u001b[0m \u001b[0;34m=\u001b[0m \u001b[0;34m'abort'\u001b[0m\u001b[0;34m\u001b[0m\u001b[0m\n\u001b[0;32m--> 334\u001b[0;31m                     raise RunInterrupt(\"RunEngine detected a SIGINT (Ctrl+C) \"\n\u001b[0m\u001b[1;32m    335\u001b[0m                                        \u001b[0;34m\"and aborted the scan. Records were \"\u001b[0m\u001b[0;34m\u001b[0m\u001b[0m\n\u001b[1;32m    336\u001b[0m                                        \u001b[0;34m\"created, but the run was marked with \"\u001b[0m\u001b[0;34m\u001b[0m\u001b[0m\n",
      "\u001b[0;31mRunInterrupt\u001b[0m: RunEngine detected a SIGINT (Ctrl+C) and aborted the scan. Records were created, but the run was marked with exit_status='abort'."
     ]
    }
   ],
   "source": [
    "RE.run(simple_scan(motor), use_threading=False)"
   ]
  },
  {
   "cell_type": "markdown",
   "metadata": {},
   "source": [
    "## Data can be consumed live by user-defined functions\n",
    "\n",
    "In the examples above, the runs have been emitting RunStart and RunStop Documents, but no Events or Event Descriptors. We will add those now.\n",
    "\n",
    "### Emitting Events and Event Descriptors\n",
    "\n",
    "The `'create'` and `'save'` commands collect all the reads between them into one Event.\n",
    "\n",
    "If that particular set of objects has never been bundled into an Event during this run, then an Event Descriptor is also created.\n",
    "\n",
    "All four Documents -- RunStart, RunStop, Event, and EventDescriptor -- are simply Python dictionaries."
   ]
  },
  {
   "cell_type": "code",
   "execution_count": 30,
   "metadata": {
    "collapsed": false
   },
   "outputs": [
    {
     "name": "stdout",
     "output_type": "stream",
     "text": [
      "Emitted RunStart:\n",
      "{'beamline_id': 'test', 'uid': '8c032f0d-a100-40aa-bd3b-3c3adbf659cc', 'scan_id': 123, 'time': 1432999560.570444, 'owner': 'tester'}\n",
      "create: (None), (), {}\n",
      "   ret: None\n",
      "set: (mover: motor), ({'pos': 5},), {}\n",
      "   ret: None\n",
      "trigger: (mover: motor), (), {}\n",
      "   ret: None\n",
      "read: (mover: motor), (), {}\n",
      "   ret: {'pos': {'timestamp': 1432999560.988787, 'value': 5}}\n",
      "Emitted Event Descriptor:\n",
      "{'uid': '564922b0-c1de-4426-b351-62ff081fb235', 'run_start': '8c032f0d-a100-40aa-bd3b-3c3adbf659cc', 'data_keys': {'pos': {'dtype': 'number', 'source': 'motor'}}, 'time': 1432999561.19379}\n",
      "Emitted Event:\n",
      "{'seq_num': 1, 'uid': 'c3984734-05b0-488f-bbc3-4bf4eee1cb2d', 'data': {'pos': {'timestamp': 1432999560.988787, 'value': 5}}, 'time': 1432999561.193961, 'descriptor': '564922b0-c1de-4426-b351-62ff081fb235'}\n",
      "save: (None), (), {}\n",
      "   ret: None\n",
      "Emitted RunStop:\n",
      "{'exit_status': 'success', 'run_start': '8c032f0d-a100-40aa-bd3b-3c3adbf659cc', 'reason': '', 'time': 1432999561.297982}\n"
     ]
    }
   ],
   "source": [
    "def simple_scan_saving(motor):\n",
    "    \"Set, trigger, read\"\n",
    "    yield Msg('create')\n",
    "    yield Msg('set', motor, {'pos': 5})\n",
    "    yield Msg('trigger', motor)\n",
    "    yield Msg('read', motor)\n",
    "    yield Msg('save')\n",
    "    \n",
    "RE.run(simple_scan_saving(motor))"
   ]
  },
  {
   "cell_type": "markdown",
   "metadata": {},
   "source": [
    "### Consuming Documents for Live Visualization and Analysis\n",
    "\n",
    "Any user function that accepts a Python dictionary can be registered as a \"consumer\" of these Event Documents. Here's a toy example."
   ]
  },
  {
   "cell_type": "code",
   "execution_count": 31,
   "metadata": {
    "collapsed": true
   },
   "outputs": [],
   "source": [
    "def print_event_time(doc):\n",
    "    print('EVENT TIME:', doc['time'])"
   ]
  },
  {
   "cell_type": "markdown",
   "metadata": {},
   "source": [
    "To use this consumer function during a run:"
   ]
  },
  {
   "cell_type": "code",
   "execution_count": 35,
   "metadata": {
    "collapsed": false
   },
   "outputs": [
    {
     "name": "stdout",
     "output_type": "stream",
     "text": [
      "Emitted RunStart:\n",
      "{'beamline_id': 'test', 'uid': '812c95cc-34fa-461b-ae75-8b5382eed05e', 'scan_id': 123, 'time': 1432999567.681772, 'owner': 'tester'}\n",
      "create: (None), (), {}\n",
      "   ret: None\n",
      "set: (mover: motor), ({'pos': 5},), {}\n",
      "   ret: None\n",
      "trigger: (mover: motor), (), {}\n",
      "   ret: None\n",
      "read: (mover: motor), (), {}\n",
      "   ret: {'pos': {'timestamp': 1432999568.091286, 'value': 5}}\n",
      "Emitted Event Descriptor:\n",
      "{'uid': 'b3466a6d-fe04-440a-be9f-47c620ed8111', 'run_start': '812c95cc-34fa-461b-ae75-8b5382eed05e', 'data_keys': {'pos': {'dtype': 'number', 'source': 'motor'}}, 'time': 1432999568.301414}\n",
      "Emitted Event:\n",
      "{'seq_num': 1, 'uid': '822b802e-43de-4c7e-977d-5b93a8cf6e0c', 'data': {'pos': {'timestamp': 1432999568.091286, 'value': 5}}, 'time': 1432999568.301582, 'descriptor': 'b3466a6d-fe04-440a-be9f-47c620ed8111'}\n",
      "save: (None), (), {}\n",
      "   ret: None\n",
      "EVENT TIME: 1432999568.301582\n",
      "Emitted RunStop:\n",
      "{'exit_status': 'success', 'run_start': '812c95cc-34fa-461b-ae75-8b5382eed05e', 'reason': '', 'time': 1432999568.405726}\n"
     ]
    }
   ],
   "source": [
    "RE.run(simple_scan_saving(motor), subscriptions={'event': print_event_time})"
   ]
  },
  {
   "cell_type": "markdown",
   "metadata": {},
   "source": [
    "The use it by default on every run for this instance of the Run Engine:"
   ]
  },
  {
   "cell_type": "code",
   "execution_count": 32,
   "metadata": {
    "collapsed": false
   },
   "outputs": [
    {
     "data": {
      "text/plain": [
       "1"
      ]
     },
     "execution_count": 32,
     "metadata": {},
     "output_type": "execute_result"
    }
   ],
   "source": [
    "token = RE.subscribe('event', print_event_time)\n",
    "token"
   ]
  },
  {
   "cell_type": "markdown",
   "metadata": {},
   "source": [
    "The output `token`, an integer, can be use to unsubscribe later."
   ]
  },
  {
   "cell_type": "code",
   "execution_count": 34,
   "metadata": {
    "collapsed": false
   },
   "outputs": [],
   "source": [
    "RE.unsubscribe(token)"
   ]
  },
  {
   "cell_type": "markdown",
   "metadata": {},
   "source": [
    "Mission-critical consumers can be run on the scan thread, where they will block the scan until they return. This should not be used for computationally heavy tasks like visualization."
   ]
  },
  {
   "cell_type": "code",
   "execution_count": null,
   "metadata": {
    "collapsed": true
   },
   "outputs": [],
   "source": [
    "RE._register_scan_callback('event', critical_func)"
   ]
  },
  {
   "cell_type": "markdown",
   "metadata": {},
   "source": [
    "### Saving Documents to Metadatastore\n",
    "\n",
    "The convenience function `register_mds` registers metadatastore's four `insert_*` functions to consume their four respective documents. These are registered on the scan thread, so data is guaranteed to be saved in metadatastore."
   ]
  },
  {
   "cell_type": "code",
   "execution_count": 36,
   "metadata": {
    "collapsed": true
   },
   "outputs": [],
   "source": [
    "%run register_mds.py\n",
    "\n",
    "register_mds(RE)"
   ]
  },
  {
   "cell_type": "markdown",
   "metadata": {},
   "source": [
    "We can verify that this worked by loading this one-point scan from the DataBroker and displaying the data using DataMuxer."
   ]
  },
  {
   "cell_type": "code",
   "execution_count": 38,
   "metadata": {
    "collapsed": false
   },
   "outputs": [
    {
     "name": "stdout",
     "output_type": "stream",
     "text": [
      "Emitted RunStart:\n",
      "{'beamline_id': 'test', 'uid': 'ef0d61fb-b740-4986-98e9-e5f8949fc37e', 'scan_id': 123, 'time': 1432999913.124614, 'owner': 'tester'}\n",
      "create: (None), (), {}\n",
      "   ret: None\n",
      "set: (mover: motor), ({'pos': 5},), {}\n",
      "   ret: None\n",
      "trigger: (mover: motor), (), {}\n",
      "   ret: None\n",
      "read: (mover: motor), (), {}\n",
      "   ret: {'pos': {'timestamp': 1432999913.530245, 'value': 5}}\n",
      "Emitted Event Descriptor:\n",
      "{'uid': '13cd66e7-ceb6-43dc-88aa-c00768eaecf8', 'run_start': 'ef0d61fb-b740-4986-98e9-e5f8949fc37e', 'data_keys': {'pos': {'dtype': 'number', 'source': 'motor'}}, 'time': 1432999913.735501}\n",
      "Emitted Event:\n",
      "{'seq_num': 1, 'uid': '228c2c9c-5d8a-4395-9a67-21352c5d5aca', 'data': {'pos': {'timestamp': 1432999913.530245, 'value': 5}}, 'time': 1432999913.742596, 'descriptor': '13cd66e7-ceb6-43dc-88aa-c00768eaecf8'}\n",
      "save: (None), (), {}\n",
      "   ret: None\n",
      "Emitted RunStop:\n",
      "{'exit_status': 'success', 'run_start': 'ef0d61fb-b740-4986-98e9-e5f8949fc37e', 'reason': '', 'time': 1432999913.848467}\n"
     ]
    }
   ],
   "source": [
    "RE.run(simple_scan_saving(motor))"
   ]
  },
  {
   "cell_type": "code",
   "execution_count": 39,
   "metadata": {
    "collapsed": false
   },
   "outputs": [
    {
     "data": {
      "text/html": [
       "<table><tr><td>beamline_config</td><td><table><tr><td>config_params</td><td><table></table></td></tr><tr><td>time</td><td>1432999913.124705</td></tr><tr><td>time_as_datetime</td><td>2015-05-30 11:31:53.124705  (27 seconds ago)</td></tr><tr><td>uid</td><td>218d8383-67fc-4efd-9db0-bbe36cf08bf2</td></tr></table></td></tr><tr><td>beamline_id</td><td>test</td></tr><tr><td>event_descriptors</td><td><table style='border: none;'><tr style='border: none;' ><td style='border: none;'><table><tr><td>data_keys</td><td><table><tr><td>pos</td><td><table><tr><td>dtype</td><td>number</td></tr><tr><td>external</td><td>None</td></tr><tr><td>shape</td><td><table style='border: none;'></table></td></tr><tr><td>source</td><td>motor</td></tr></table></td></tr></table></td></tr><tr><td>run_start</td><td>ef0d61fb-b740-4986-98e9-e5f8949fc37e</td></tr><tr><td>time</td><td>1432999913.735501</td></tr><tr><td>time_as_datetime</td><td>2015-05-30 11:31:53.735501  (26 seconds ago)</td></tr><tr><td>uid</td><td>13cd66e7-ceb6-43dc-88aa-c00768eaecf8</td></tr></table></td></tr></table></td></tr><tr><td>exit_reason</td><td></td></tr><tr><td>exit_status</td><td>success</td></tr><tr><td>group</td><td></td></tr><tr><td>owner</td><td>tester</td></tr><tr><td>project</td><td></td></tr><tr><td>run_start_uid</td><td>ef0d61fb-b740-4986-98e9-e5f8949fc37e</td></tr><tr><td>run_stop_uid</td><td>2455cf05-1239-4e93-a470-e56d4818ad17</td></tr><tr><td>sample</td><td><table></table></td></tr><tr><td>scan_id</td><td>123</td></tr><tr><td>start_datetime</td><td>2015-05-30 11:31:53.124614  (27 seconds ago)</td></tr><tr><td>start_time</td><td>1432999913.124614</td></tr><tr><td>stop_datetime</td><td>2015-05-30 11:31:53.848467  (26 seconds ago)</td></tr><tr><td>stop_time</td><td>1432999913.848467</td></tr></table>"
      ],
      "text/plain": [
       "<Header scan_id=123 run_start_uid='ef0d61fb-b740-4986-98e9-e5f8949fc37e'>"
      ]
     },
     "execution_count": 39,
     "metadata": {},
     "output_type": "execute_result"
    }
   ],
   "source": [
    "from dataportal import DataBroker as db\n",
    "\n",
    "header = db[-1]\n",
    "header"
   ]
  },
  {
   "cell_type": "code",
   "execution_count": 42,
   "metadata": {
    "collapsed": false
   },
   "outputs": [
    {
     "data": {
      "text/html": [
       "<div style=\"max-height:1000px;max-width:1500px;overflow:auto;\">\n",
       "<table border=\"1\" class=\"dataframe\">\n",
       "  <thead>\n",
       "    <tr style=\"text-align: right;\">\n",
       "      <th></th>\n",
       "      <th>pos</th>\n",
       "      <th>time</th>\n",
       "    </tr>\n",
       "  </thead>\n",
       "  <tbody>\n",
       "    <tr>\n",
       "      <th>0</th>\n",
       "      <td> 5</td>\n",
       "      <td>2015-05-30 15:31:53.742596</td>\n",
       "    </tr>\n",
       "  </tbody>\n",
       "</table>\n",
       "</div>"
      ],
      "text/plain": [
       "   pos                       time\n",
       "0    5 2015-05-30 15:31:53.742596"
      ]
     },
     "execution_count": 42,
     "metadata": {},
     "output_type": "execute_result"
    }
   ],
   "source": [
    "from dataportal import DataMuxer as dm\n",
    "\n",
    "dm.from_events(db.fetch_events(header)).to_sparse_dataframe()"
   ]
  },
  {
   "cell_type": "code",
   "execution_count": null,
   "metadata": {
    "collapsed": true
   },
   "outputs": [],
   "source": []
  }
 ],
 "metadata": {
  "gist_id": "435cc2016dea29848cc9",
  "kernelspec": {
   "display_name": "Python 3",
   "language": "python",
   "name": "python3"
  },
  "language_info": {
   "codemirror_mode": {
    "name": "ipython",
    "version": 3
   },
   "file_extension": ".py",
   "mimetype": "text/x-python",
   "name": "python",
   "nbconvert_exporter": "python",
   "pygments_lexer": "ipython3",
   "version": "3.4.3"
  }
 },
 "nbformat": 4,
 "nbformat_minor": 0
}
